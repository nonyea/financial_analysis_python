{
  "cells": [
    {
      "cell_type": "markdown",
      "metadata": {
        "id": "T7mpnngxyBfY"
      },
      "source": [
        "## matrix operations"
      ]
    },
    {
      "cell_type": "code",
      "execution_count": 25,
      "metadata": {
        "colab": {
          "base_uri": "https://localhost:8080/"
        },
        "id": "BmbC0tPNz0Gv",
        "outputId": "ef747232-b0b6-44d4-960a-e43fe964c191"
      },
      "outputs": [
        {
          "output_type": "execute_result",
          "data": {
            "text/plain": [
              "2"
            ]
          },
          "metadata": {},
          "execution_count": 25
        }
      ],
      "source": [
        "1+1"
      ]
    },
    {
      "cell_type": "code",
      "execution_count": 26,
      "metadata": {
        "colab": {
          "base_uri": "https://localhost:8080/"
        },
        "id": "9jDuhO1qLJpA",
        "outputId": "96dbd8b8-54e7-4719-b692-ef1ea74a5c29"
      },
      "outputs": [
        {
          "output_type": "stream",
          "name": "stdout",
          "text": [
            "4\n",
            "6\n",
            "9\n"
          ]
        }
      ],
      "source": [
        "print(1+3)\n",
        "print(3*2)\n",
        "print(3**2)"
      ]
    },
    {
      "cell_type": "code",
      "execution_count": 27,
      "metadata": {
        "id": "plZkOVodyBfb"
      },
      "outputs": [],
      "source": [
        "import numpy as np"
      ]
    },
    {
      "cell_type": "code",
      "execution_count": 28,
      "metadata": {
        "colab": {
          "base_uri": "https://localhost:8080/"
        },
        "id": "fDWprpAMiSMP",
        "outputId": "4755d4f3-31a6-46a8-8549-7782fd2b7ebd"
      },
      "outputs": [
        {
          "output_type": "stream",
          "name": "stdout",
          "text": [
            "9.0\n"
          ]
        }
      ],
      "source": [
        "print(np.sqrt(81))"
      ]
    },
    {
      "cell_type": "code",
      "execution_count": 29,
      "metadata": {
        "colab": {
          "base_uri": "https://localhost:8080/"
        },
        "id": "ipoYY-rlyBfd",
        "outputId": "e8c95c75-b9a5-4e7f-bc5e-af1641a1cfd4",
        "scrolled": true
      },
      "outputs": [
        {
          "output_type": "stream",
          "name": "stdout",
          "text": [
            "[[3 2 1]\n",
            " [1 3 4]\n",
            " [8 9 3]]\n"
          ]
        }
      ],
      "source": [
        "A = np.array([[3,2,1],[1,3,4],[8,9,3]]) # create a 3x3 array\n",
        "print(A)"
      ]
    },
    {
      "cell_type": "code",
      "execution_count": 30,
      "metadata": {
        "colab": {
          "base_uri": "https://localhost:8080/"
        },
        "id": "YIE7fjLuyBff",
        "outputId": "2c21023c-b450-4bf2-a6fd-482c82e61d3d"
      },
      "outputs": [
        {
          "output_type": "stream",
          "name": "stdout",
          "text": [
            "[[4 3 0]\n",
            " [1 2 4]\n",
            " [7 2 1]]\n"
          ]
        }
      ],
      "source": [
        "B = np.array([[4,3,0],[1,2,4],[7,2,1]])\n",
        "print(B)"
      ]
    },
    {
      "cell_type": "code",
      "execution_count": 31,
      "metadata": {
        "colab": {
          "base_uri": "https://localhost:8080/"
        },
        "id": "rrwfdnhRyBfg",
        "outputId": "28932fb0-15a3-4fb3-c124-7c280cce2e12"
      },
      "outputs": [
        {
          "output_type": "stream",
          "name": "stdout",
          "text": [
            "[[0. 0. 0. 0. 0. 0.]\n",
            " [0. 0. 0. 0. 0. 0.]]\n"
          ]
        }
      ],
      "source": [
        "ZEROS = np.zeros([2,6])\n",
        "print(ZEROS)"
      ]
    },
    {
      "cell_type": "code",
      "execution_count": 32,
      "metadata": {
        "colab": {
          "base_uri": "https://localhost:8080/"
        },
        "id": "acP1aOqayBfh",
        "outputId": "992cfdd7-3fb9-490f-ca80-6ac03862dbf5"
      },
      "outputs": [
        {
          "output_type": "stream",
          "name": "stdout",
          "text": [
            "[[ 7  5  1]\n",
            " [ 2  5  8]\n",
            " [15 11  4]]\n",
            "7\n"
          ]
        }
      ],
      "source": [
        "C = A + B # element-wise sum\n",
        "print(C)\n",
        "print(C[0,0])"
      ]
    },
    {
      "cell_type": "code",
      "execution_count": 33,
      "metadata": {
        "colab": {
          "base_uri": "https://localhost:8080/"
        },
        "id": "84hUMvAByBfi",
        "outputId": "24a305a7-f11f-47ef-8653-db50841cad2a"
      },
      "outputs": [
        {
          "output_type": "stream",
          "name": "stdout",
          "text": [
            "[24 21 13]\n"
          ]
        }
      ],
      "source": [
        "print(np.sum(C, axis = 0)) # sum along the columns"
      ]
    },
    {
      "cell_type": "code",
      "execution_count": 34,
      "metadata": {
        "colab": {
          "base_uri": "https://localhost:8080/"
        },
        "id": "3EjUq6B5yBfj",
        "outputId": "a03790c7-befe-4e0e-c378-92a11982d6f5"
      },
      "outputs": [
        {
          "output_type": "stream",
          "name": "stdout",
          "text": [
            "[13 15 30]\n"
          ]
        }
      ],
      "source": [
        "print(np.sum(C, axis = 1))"
      ]
    },
    {
      "cell_type": "code",
      "execution_count": 35,
      "metadata": {
        "colab": {
          "base_uri": "https://localhost:8080/"
        },
        "id": "aBNiV8RSOkZR",
        "outputId": "3bcf949c-0d19-4817-9e78-03adfc26915c"
      },
      "outputs": [
        {
          "output_type": "stream",
          "name": "stdout",
          "text": [
            "58\n"
          ]
        }
      ],
      "source": [
        "print(np.sum(C))"
      ]
    },
    {
      "cell_type": "code",
      "execution_count": 36,
      "metadata": {
        "colab": {
          "base_uri": "https://localhost:8080/"
        },
        "id": "4Tq9x3swyBfk",
        "outputId": "3cedb312-3eaf-4b9f-b471-3f3667a292d3"
      },
      "outputs": [
        {
          "output_type": "stream",
          "name": "stdout",
          "text": [
            "[[14 10  2]\n",
            " [ 4 10 16]\n",
            " [30 22  8]]\n"
          ]
        }
      ],
      "source": [
        "D = 2*C # scalar multiplication\n",
        "print(D)"
      ]
    },
    {
      "cell_type": "code",
      "execution_count": 37,
      "metadata": {
        "colab": {
          "base_uri": "https://localhost:8080/"
        },
        "id": "2N0mOBL_yBfl",
        "outputId": "75ffc2cc-8cf2-42f5-b1ec-6e9727a548c5"
      },
      "outputs": [
        {
          "output_type": "stream",
          "name": "stdout",
          "text": [
            "[[ 21  10   1]\n",
            " [  2  15  32]\n",
            " [120  99  12]]\n"
          ]
        }
      ],
      "source": [
        "D = A * C # element-wise multiplication! It is not the standard matrix product\n",
        "print(D)"
      ]
    },
    {
      "cell_type": "code",
      "execution_count": 38,
      "metadata": {
        "colab": {
          "base_uri": "https://localhost:8080/"
        },
        "id": "2aM-T-6oyBfm",
        "outputId": "d0e48190-3ea3-4362-b4f4-6e680764043a"
      },
      "outputs": [
        {
          "output_type": "stream",
          "name": "stdout",
          "text": [
            "[[ 40  36  23]\n",
            " [ 73  64  41]\n",
            " [119 118  92]]\n"
          ]
        }
      ],
      "source": [
        "D = np.dot(A,C)     # Matrix product of two arrays\n",
        "D = np.matmul(A,C)  # Matrix product of two arrays\n",
        "D = A@C             # Matrix product of two arrays\n",
        "print(D)"
      ]
    },
    {
      "cell_type": "code",
      "execution_count": 39,
      "metadata": {
        "colab": {
          "base_uri": "https://localhost:8080/"
        },
        "id": "vekZ2knUyBfn",
        "outputId": "181b4b4a-dd8d-4e99-c7af-657f65f6beda"
      },
      "outputs": [
        {
          "output_type": "stream",
          "name": "stdout",
          "text": [
            "[[ 7  2 15]\n",
            " [ 5  5 11]\n",
            " [ 1  8  4]]\n"
          ]
        }
      ],
      "source": [
        "D = np.transpose(C) # transpose\n",
        "print(D)"
      ]
    },
    {
      "cell_type": "code",
      "execution_count": 40,
      "metadata": {
        "colab": {
          "base_uri": "https://localhost:8080/"
        },
        "id": "5itFneTJyBfo",
        "outputId": "88f6fdbc-7585-4cfa-dc8a-1a8dc2294a0a"
      },
      "outputs": [
        {
          "output_type": "stream",
          "name": "stdout",
          "text": [
            "[[ 0.71052632 -0.07894737 -0.13157895]\n",
            " [-0.76315789 -0.02631579  0.28947368]\n",
            " [ 0.39473684  0.28947368 -0.18421053]]\n"
          ]
        }
      ],
      "source": [
        "D = np.linalg.inv(A) # inverse of a matrix\n",
        "print(D)"
      ]
    },
    {
      "cell_type": "code",
      "execution_count": 41,
      "metadata": {
        "colab": {
          "base_uri": "https://localhost:8080/"
        },
        "id": "2Hi4eJAdyBfp",
        "outputId": "97deaa51-0a42-4974-db93-b633c28c89e6"
      },
      "outputs": [
        {
          "output_type": "stream",
          "name": "stdout",
          "text": [
            "[[ 1.00000000e+00 -7.77156117e-16 -3.88578059e-16]\n",
            " [ 4.44089210e-16  1.00000000e+00  4.99600361e-16]\n",
            " [-2.22044605e-16 -3.33066907e-16  1.00000000e+00]]\n"
          ]
        }
      ],
      "source": [
        "E = np.dot(D,A) ## the matrix product of a matrix with its inverse is the identity matrix\n",
        "print(E)"
      ]
    },
    {
      "cell_type": "markdown",
      "metadata": {
        "id": "iiyOzU69yBfp"
      },
      "source": [
        "Now we want to solve this system of linear equations:\n",
        "- 7x + 5y - 3z = 16\n",
        "- 3x - 5y + 2z = -8\n",
        "- 5x + 3y - 7z = 0\n",
        "\n",
        "Ax = B -> x = A^(-1)*B"
      ]
    },
    {
      "cell_type": "code",
      "execution_count": 42,
      "metadata": {
        "id": "Ih_0yrMSyBfv"
      },
      "outputs": [],
      "source": [
        "A = np.array([[7,5,-3],[3,-5,2],[5,3,-7]])\n",
        "B = np.array([[16],[-8],[0]])"
      ]
    },
    {
      "cell_type": "code",
      "execution_count": 43,
      "metadata": {
        "colab": {
          "base_uri": "https://localhost:8080/"
        },
        "id": "aHC0TfdmyBfw",
        "outputId": "61f7f0c0-bfee-4b65-eaec-01fe577fad47"
      },
      "outputs": [
        {
          "output_type": "stream",
          "name": "stdout",
          "text": [
            "[[1.]\n",
            " [3.]\n",
            " [2.]]\n"
          ]
        }
      ],
      "source": [
        "X = np.dot(np.linalg.inv(A),B)\n",
        "print(X)"
      ]
    },
    {
      "cell_type": "markdown",
      "metadata": {
        "id": "o9En7wRjyBfw"
      },
      "source": [
        "# Getting stock prices with the yfinance package"
      ]
    },
    {
      "cell_type": "code",
      "execution_count": 44,
      "metadata": {
        "colab": {
          "base_uri": "https://localhost:8080/"
        },
        "id": "VqCLEY6GyfNd",
        "outputId": "4eb58d5e-6c35-48cb-a333-3f9344329095"
      },
      "outputs": [
        {
          "output_type": "stream",
          "name": "stdout",
          "text": [
            "Requirement already satisfied: yfinance in /usr/local/lib/python3.10/dist-packages (0.2.28)\n",
            "Requirement already satisfied: pandas>=1.3.0 in /usr/local/lib/python3.10/dist-packages (from yfinance) (1.5.3)\n",
            "Requirement already satisfied: numpy>=1.16.5 in /usr/local/lib/python3.10/dist-packages (from yfinance) (1.23.5)\n",
            "Requirement already satisfied: requests>=2.31 in /usr/local/lib/python3.10/dist-packages (from yfinance) (2.31.0)\n",
            "Requirement already satisfied: multitasking>=0.0.7 in /usr/local/lib/python3.10/dist-packages (from yfinance) (0.0.11)\n",
            "Requirement already satisfied: lxml>=4.9.1 in /usr/local/lib/python3.10/dist-packages (from yfinance) (4.9.3)\n",
            "Requirement already satisfied: appdirs>=1.4.4 in /usr/local/lib/python3.10/dist-packages (from yfinance) (1.4.4)\n",
            "Requirement already satisfied: pytz>=2022.5 in /usr/local/lib/python3.10/dist-packages (from yfinance) (2023.3.post1)\n",
            "Requirement already satisfied: frozendict>=2.3.4 in /usr/local/lib/python3.10/dist-packages (from yfinance) (2.3.8)\n",
            "Requirement already satisfied: beautifulsoup4>=4.11.1 in /usr/local/lib/python3.10/dist-packages (from yfinance) (4.11.2)\n",
            "Requirement already satisfied: html5lib>=1.1 in /usr/local/lib/python3.10/dist-packages (from yfinance) (1.1)\n",
            "Requirement already satisfied: soupsieve>1.2 in /usr/local/lib/python3.10/dist-packages (from beautifulsoup4>=4.11.1->yfinance) (2.5)\n",
            "Requirement already satisfied: six>=1.9 in /usr/local/lib/python3.10/dist-packages (from html5lib>=1.1->yfinance) (1.16.0)\n",
            "Requirement already satisfied: webencodings in /usr/local/lib/python3.10/dist-packages (from html5lib>=1.1->yfinance) (0.5.1)\n",
            "Requirement already satisfied: python-dateutil>=2.8.1 in /usr/local/lib/python3.10/dist-packages (from pandas>=1.3.0->yfinance) (2.8.2)\n",
            "Requirement already satisfied: charset-normalizer<4,>=2 in /usr/local/lib/python3.10/dist-packages (from requests>=2.31->yfinance) (3.2.0)\n",
            "Requirement already satisfied: idna<4,>=2.5 in /usr/local/lib/python3.10/dist-packages (from requests>=2.31->yfinance) (3.4)\n",
            "Requirement already satisfied: urllib3<3,>=1.21.1 in /usr/local/lib/python3.10/dist-packages (from requests>=2.31->yfinance) (2.0.4)\n",
            "Requirement already satisfied: certifi>=2017.4.17 in /usr/local/lib/python3.10/dist-packages (from requests>=2.31->yfinance) (2023.7.22)\n"
          ]
        }
      ],
      "source": [
        "pip install yfinance"
      ]
    },
    {
      "cell_type": "code",
      "execution_count": 45,
      "metadata": {
        "id": "jyu_ptgWyBfx"
      },
      "outputs": [],
      "source": [
        "import pandas as pd # https://pandas.pydata.org/pandas-docs/stable/user_guide/10min.html)\n",
        "import yfinance as yf\n",
        "import datetime as dt\n",
        "import numpy as np\n",
        "import matplotlib.pyplot as plt"
      ]
    },
    {
      "cell_type": "markdown",
      "metadata": {
        "id": "nkrNz202yBfx"
      },
      "source": [
        "We will download Apple stock’s price first.\n",
        "\n"
      ]
    },
    {
      "cell_type": "code",
      "execution_count": 46,
      "metadata": {
        "colab": {
          "base_uri": "https://localhost:8080/"
        },
        "id": "NEfSHM81yBfx",
        "outputId": "73c3ec77-fece-4c3b-9010-16fcf8ce08e1"
      },
      "outputs": [
        {
          "output_type": "stream",
          "name": "stdout",
          "text": [
            "\r[*********************100%%**********************]  1 of 1 completed\n"
          ]
        }
      ],
      "source": [
        "AAPL = yf.download(\"AAPL\", start=\"2012-01-01\", end=\"2023-09-01\")"
      ]
    },
    {
      "cell_type": "markdown",
      "metadata": {
        "id": "hWyu6PS1yBfy"
      },
      "source": [
        "Let's look at the data."
      ]
    },
    {
      "cell_type": "code",
      "execution_count": 47,
      "metadata": {
        "colab": {
          "base_uri": "https://localhost:8080/",
          "height": 394
        },
        "id": "S8-t3tIFyBfy",
        "outputId": "7b17ebba-7ac4-4f54-c820-cd5ab49c6497"
      },
      "outputs": [
        {
          "output_type": "execute_result",
          "data": {
            "text/plain": [
              "                  Open        High         Low       Close   Adj Close  \\\n",
              "Date                                                                     \n",
              "2023-08-18  172.300003  175.100006  171.960007  174.490005  174.490005   \n",
              "2023-08-21  175.070007  176.130005  173.740005  175.839996  175.839996   \n",
              "2023-08-22  177.059998  177.679993  176.250000  177.229996  177.229996   \n",
              "2023-08-23  178.520004  181.550003  178.330002  181.119995  181.119995   \n",
              "2023-08-24  180.669998  181.100006  176.009995  176.380005  176.380005   \n",
              "2023-08-25  177.380005  179.149994  175.820007  178.610001  178.610001   \n",
              "2023-08-28  180.089996  180.589996  178.550003  180.190002  180.190002   \n",
              "2023-08-29  179.699997  184.899994  179.500000  184.119995  184.119995   \n",
              "2023-08-30  184.940002  187.850006  184.740005  187.649994  187.649994   \n",
              "2023-08-31  187.839996  189.119995  187.479996  187.869995  187.869995   \n",
              "\n",
              "              Volume  \n",
              "Date                  \n",
              "2023-08-18  61114200  \n",
              "2023-08-21  46311900  \n",
              "2023-08-22  42084200  \n",
              "2023-08-23  52722800  \n",
              "2023-08-24  54945800  \n",
              "2023-08-25  51449600  \n",
              "2023-08-28  43820700  \n",
              "2023-08-29  53003900  \n",
              "2023-08-30  60813900  \n",
              "2023-08-31  60794500  "
            ],
            "text/html": [
              "\n",
              "  <div id=\"df-b26726f6-f466-4fa0-9fe0-cc8f828a90a2\" class=\"colab-df-container\">\n",
              "    <div>\n",
              "<style scoped>\n",
              "    .dataframe tbody tr th:only-of-type {\n",
              "        vertical-align: middle;\n",
              "    }\n",
              "\n",
              "    .dataframe tbody tr th {\n",
              "        vertical-align: top;\n",
              "    }\n",
              "\n",
              "    .dataframe thead th {\n",
              "        text-align: right;\n",
              "    }\n",
              "</style>\n",
              "<table border=\"1\" class=\"dataframe\">\n",
              "  <thead>\n",
              "    <tr style=\"text-align: right;\">\n",
              "      <th></th>\n",
              "      <th>Open</th>\n",
              "      <th>High</th>\n",
              "      <th>Low</th>\n",
              "      <th>Close</th>\n",
              "      <th>Adj Close</th>\n",
              "      <th>Volume</th>\n",
              "    </tr>\n",
              "    <tr>\n",
              "      <th>Date</th>\n",
              "      <th></th>\n",
              "      <th></th>\n",
              "      <th></th>\n",
              "      <th></th>\n",
              "      <th></th>\n",
              "      <th></th>\n",
              "    </tr>\n",
              "  </thead>\n",
              "  <tbody>\n",
              "    <tr>\n",
              "      <th>2023-08-18</th>\n",
              "      <td>172.300003</td>\n",
              "      <td>175.100006</td>\n",
              "      <td>171.960007</td>\n",
              "      <td>174.490005</td>\n",
              "      <td>174.490005</td>\n",
              "      <td>61114200</td>\n",
              "    </tr>\n",
              "    <tr>\n",
              "      <th>2023-08-21</th>\n",
              "      <td>175.070007</td>\n",
              "      <td>176.130005</td>\n",
              "      <td>173.740005</td>\n",
              "      <td>175.839996</td>\n",
              "      <td>175.839996</td>\n",
              "      <td>46311900</td>\n",
              "    </tr>\n",
              "    <tr>\n",
              "      <th>2023-08-22</th>\n",
              "      <td>177.059998</td>\n",
              "      <td>177.679993</td>\n",
              "      <td>176.250000</td>\n",
              "      <td>177.229996</td>\n",
              "      <td>177.229996</td>\n",
              "      <td>42084200</td>\n",
              "    </tr>\n",
              "    <tr>\n",
              "      <th>2023-08-23</th>\n",
              "      <td>178.520004</td>\n",
              "      <td>181.550003</td>\n",
              "      <td>178.330002</td>\n",
              "      <td>181.119995</td>\n",
              "      <td>181.119995</td>\n",
              "      <td>52722800</td>\n",
              "    </tr>\n",
              "    <tr>\n",
              "      <th>2023-08-24</th>\n",
              "      <td>180.669998</td>\n",
              "      <td>181.100006</td>\n",
              "      <td>176.009995</td>\n",
              "      <td>176.380005</td>\n",
              "      <td>176.380005</td>\n",
              "      <td>54945800</td>\n",
              "    </tr>\n",
              "    <tr>\n",
              "      <th>2023-08-25</th>\n",
              "      <td>177.380005</td>\n",
              "      <td>179.149994</td>\n",
              "      <td>175.820007</td>\n",
              "      <td>178.610001</td>\n",
              "      <td>178.610001</td>\n",
              "      <td>51449600</td>\n",
              "    </tr>\n",
              "    <tr>\n",
              "      <th>2023-08-28</th>\n",
              "      <td>180.089996</td>\n",
              "      <td>180.589996</td>\n",
              "      <td>178.550003</td>\n",
              "      <td>180.190002</td>\n",
              "      <td>180.190002</td>\n",
              "      <td>43820700</td>\n",
              "    </tr>\n",
              "    <tr>\n",
              "      <th>2023-08-29</th>\n",
              "      <td>179.699997</td>\n",
              "      <td>184.899994</td>\n",
              "      <td>179.500000</td>\n",
              "      <td>184.119995</td>\n",
              "      <td>184.119995</td>\n",
              "      <td>53003900</td>\n",
              "    </tr>\n",
              "    <tr>\n",
              "      <th>2023-08-30</th>\n",
              "      <td>184.940002</td>\n",
              "      <td>187.850006</td>\n",
              "      <td>184.740005</td>\n",
              "      <td>187.649994</td>\n",
              "      <td>187.649994</td>\n",
              "      <td>60813900</td>\n",
              "    </tr>\n",
              "    <tr>\n",
              "      <th>2023-08-31</th>\n",
              "      <td>187.839996</td>\n",
              "      <td>189.119995</td>\n",
              "      <td>187.479996</td>\n",
              "      <td>187.869995</td>\n",
              "      <td>187.869995</td>\n",
              "      <td>60794500</td>\n",
              "    </tr>\n",
              "  </tbody>\n",
              "</table>\n",
              "</div>\n",
              "    <div class=\"colab-df-buttons\">\n",
              "\n",
              "  <div class=\"colab-df-container\">\n",
              "    <button class=\"colab-df-convert\" onclick=\"convertToInteractive('df-b26726f6-f466-4fa0-9fe0-cc8f828a90a2')\"\n",
              "            title=\"Convert this dataframe to an interactive table.\"\n",
              "            style=\"display:none;\">\n",
              "\n",
              "  <svg xmlns=\"http://www.w3.org/2000/svg\" height=\"24px\" viewBox=\"0 -960 960 960\">\n",
              "    <path d=\"M120-120v-720h720v720H120Zm60-500h600v-160H180v160Zm220 220h160v-160H400v160Zm0 220h160v-160H400v160ZM180-400h160v-160H180v160Zm440 0h160v-160H620v160ZM180-180h160v-160H180v160Zm440 0h160v-160H620v160Z\"/>\n",
              "  </svg>\n",
              "    </button>\n",
              "\n",
              "  <style>\n",
              "    .colab-df-container {\n",
              "      display:flex;\n",
              "      gap: 12px;\n",
              "    }\n",
              "\n",
              "    .colab-df-convert {\n",
              "      background-color: #E8F0FE;\n",
              "      border: none;\n",
              "      border-radius: 50%;\n",
              "      cursor: pointer;\n",
              "      display: none;\n",
              "      fill: #1967D2;\n",
              "      height: 32px;\n",
              "      padding: 0 0 0 0;\n",
              "      width: 32px;\n",
              "    }\n",
              "\n",
              "    .colab-df-convert:hover {\n",
              "      background-color: #E2EBFA;\n",
              "      box-shadow: 0px 1px 2px rgba(60, 64, 67, 0.3), 0px 1px 3px 1px rgba(60, 64, 67, 0.15);\n",
              "      fill: #174EA6;\n",
              "    }\n",
              "\n",
              "    .colab-df-buttons div {\n",
              "      margin-bottom: 4px;\n",
              "    }\n",
              "\n",
              "    [theme=dark] .colab-df-convert {\n",
              "      background-color: #3B4455;\n",
              "      fill: #D2E3FC;\n",
              "    }\n",
              "\n",
              "    [theme=dark] .colab-df-convert:hover {\n",
              "      background-color: #434B5C;\n",
              "      box-shadow: 0px 1px 3px 1px rgba(0, 0, 0, 0.15);\n",
              "      filter: drop-shadow(0px 1px 2px rgba(0, 0, 0, 0.3));\n",
              "      fill: #FFFFFF;\n",
              "    }\n",
              "  </style>\n",
              "\n",
              "    <script>\n",
              "      const buttonEl =\n",
              "        document.querySelector('#df-b26726f6-f466-4fa0-9fe0-cc8f828a90a2 button.colab-df-convert');\n",
              "      buttonEl.style.display =\n",
              "        google.colab.kernel.accessAllowed ? 'block' : 'none';\n",
              "\n",
              "      async function convertToInteractive(key) {\n",
              "        const element = document.querySelector('#df-b26726f6-f466-4fa0-9fe0-cc8f828a90a2');\n",
              "        const dataTable =\n",
              "          await google.colab.kernel.invokeFunction('convertToInteractive',\n",
              "                                                    [key], {});\n",
              "        if (!dataTable) return;\n",
              "\n",
              "        const docLinkHtml = 'Like what you see? Visit the ' +\n",
              "          '<a target=\"_blank\" href=https://colab.research.google.com/notebooks/data_table.ipynb>data table notebook</a>'\n",
              "          + ' to learn more about interactive tables.';\n",
              "        element.innerHTML = '';\n",
              "        dataTable['output_type'] = 'display_data';\n",
              "        await google.colab.output.renderOutput(dataTable, element);\n",
              "        const docLink = document.createElement('div');\n",
              "        docLink.innerHTML = docLinkHtml;\n",
              "        element.appendChild(docLink);\n",
              "      }\n",
              "    </script>\n",
              "  </div>\n",
              "\n",
              "\n",
              "<div id=\"df-eec2bb34-11f0-43fd-9350-9bb4eba9bd92\">\n",
              "  <button class=\"colab-df-quickchart\" onclick=\"quickchart('df-eec2bb34-11f0-43fd-9350-9bb4eba9bd92')\"\n",
              "            title=\"Suggest charts.\"\n",
              "            style=\"display:none;\">\n",
              "\n",
              "<svg xmlns=\"http://www.w3.org/2000/svg\" height=\"24px\"viewBox=\"0 0 24 24\"\n",
              "     width=\"24px\">\n",
              "    <g>\n",
              "        <path d=\"M19 3H5c-1.1 0-2 .9-2 2v14c0 1.1.9 2 2 2h14c1.1 0 2-.9 2-2V5c0-1.1-.9-2-2-2zM9 17H7v-7h2v7zm4 0h-2V7h2v10zm4 0h-2v-4h2v4z\"/>\n",
              "    </g>\n",
              "</svg>\n",
              "  </button>\n",
              "\n",
              "<style>\n",
              "  .colab-df-quickchart {\n",
              "      --bg-color: #E8F0FE;\n",
              "      --fill-color: #1967D2;\n",
              "      --hover-bg-color: #E2EBFA;\n",
              "      --hover-fill-color: #174EA6;\n",
              "      --disabled-fill-color: #AAA;\n",
              "      --disabled-bg-color: #DDD;\n",
              "  }\n",
              "\n",
              "  [theme=dark] .colab-df-quickchart {\n",
              "      --bg-color: #3B4455;\n",
              "      --fill-color: #D2E3FC;\n",
              "      --hover-bg-color: #434B5C;\n",
              "      --hover-fill-color: #FFFFFF;\n",
              "      --disabled-bg-color: #3B4455;\n",
              "      --disabled-fill-color: #666;\n",
              "  }\n",
              "\n",
              "  .colab-df-quickchart {\n",
              "    background-color: var(--bg-color);\n",
              "    border: none;\n",
              "    border-radius: 50%;\n",
              "    cursor: pointer;\n",
              "    display: none;\n",
              "    fill: var(--fill-color);\n",
              "    height: 32px;\n",
              "    padding: 0;\n",
              "    width: 32px;\n",
              "  }\n",
              "\n",
              "  .colab-df-quickchart:hover {\n",
              "    background-color: var(--hover-bg-color);\n",
              "    box-shadow: 0 1px 2px rgba(60, 64, 67, 0.3), 0 1px 3px 1px rgba(60, 64, 67, 0.15);\n",
              "    fill: var(--button-hover-fill-color);\n",
              "  }\n",
              "\n",
              "  .colab-df-quickchart-complete:disabled,\n",
              "  .colab-df-quickchart-complete:disabled:hover {\n",
              "    background-color: var(--disabled-bg-color);\n",
              "    fill: var(--disabled-fill-color);\n",
              "    box-shadow: none;\n",
              "  }\n",
              "\n",
              "  .colab-df-spinner {\n",
              "    border: 2px solid var(--fill-color);\n",
              "    border-color: transparent;\n",
              "    border-bottom-color: var(--fill-color);\n",
              "    animation:\n",
              "      spin 1s steps(1) infinite;\n",
              "  }\n",
              "\n",
              "  @keyframes spin {\n",
              "    0% {\n",
              "      border-color: transparent;\n",
              "      border-bottom-color: var(--fill-color);\n",
              "      border-left-color: var(--fill-color);\n",
              "    }\n",
              "    20% {\n",
              "      border-color: transparent;\n",
              "      border-left-color: var(--fill-color);\n",
              "      border-top-color: var(--fill-color);\n",
              "    }\n",
              "    30% {\n",
              "      border-color: transparent;\n",
              "      border-left-color: var(--fill-color);\n",
              "      border-top-color: var(--fill-color);\n",
              "      border-right-color: var(--fill-color);\n",
              "    }\n",
              "    40% {\n",
              "      border-color: transparent;\n",
              "      border-right-color: var(--fill-color);\n",
              "      border-top-color: var(--fill-color);\n",
              "    }\n",
              "    60% {\n",
              "      border-color: transparent;\n",
              "      border-right-color: var(--fill-color);\n",
              "    }\n",
              "    80% {\n",
              "      border-color: transparent;\n",
              "      border-right-color: var(--fill-color);\n",
              "      border-bottom-color: var(--fill-color);\n",
              "    }\n",
              "    90% {\n",
              "      border-color: transparent;\n",
              "      border-bottom-color: var(--fill-color);\n",
              "    }\n",
              "  }\n",
              "</style>\n",
              "\n",
              "  <script>\n",
              "    async function quickchart(key) {\n",
              "      const quickchartButtonEl =\n",
              "        document.querySelector('#' + key + ' button');\n",
              "      quickchartButtonEl.disabled = true;  // To prevent multiple clicks.\n",
              "      quickchartButtonEl.classList.add('colab-df-spinner');\n",
              "      try {\n",
              "        const charts = await google.colab.kernel.invokeFunction(\n",
              "            'suggestCharts', [key], {});\n",
              "      } catch (error) {\n",
              "        console.error('Error during call to suggestCharts:', error);\n",
              "      }\n",
              "      quickchartButtonEl.classList.remove('colab-df-spinner');\n",
              "      quickchartButtonEl.classList.add('colab-df-quickchart-complete');\n",
              "    }\n",
              "    (() => {\n",
              "      let quickchartButtonEl =\n",
              "        document.querySelector('#df-eec2bb34-11f0-43fd-9350-9bb4eba9bd92 button');\n",
              "      quickchartButtonEl.style.display =\n",
              "        google.colab.kernel.accessAllowed ? 'block' : 'none';\n",
              "    })();\n",
              "  </script>\n",
              "</div>\n",
              "    </div>\n",
              "  </div>\n"
            ]
          },
          "metadata": {},
          "execution_count": 47
        }
      ],
      "source": [
        "AAPL\n",
        "AAPL.head(10)\n",
        "AAPL.tail(10)"
      ]
    },
    {
      "cell_type": "code",
      "source": [
        "AAPL['Adj Close'][0]"
      ],
      "metadata": {
        "colab": {
          "base_uri": "https://localhost:8080/"
        },
        "id": "n9u6emWveKZk",
        "outputId": "16f40d0c-6a8a-411b-f531-4ab98b63ef77"
      },
      "execution_count": 48,
      "outputs": [
        {
          "output_type": "execute_result",
          "data": {
            "text/plain": [
              "12.466093063354492"
            ]
          },
          "metadata": {},
          "execution_count": 48
        }
      ]
    },
    {
      "cell_type": "markdown",
      "metadata": {
        "id": "0CST-7mbyBfy"
      },
      "source": [
        "We can plot the adjust close prices for Apple."
      ]
    },
    {
      "cell_type": "code",
      "execution_count": 49,
      "metadata": {
        "colab": {
          "base_uri": "https://localhost:8080/",
          "height": 422
        },
        "id": "OrogfvM0yBfz",
        "outputId": "bdde1cc1-8c40-494d-ed21-d030eaf91ee6"
      },
      "outputs": [
        {
          "output_type": "display_data",
          "data": {
            "text/plain": [
              "<Figure size 640x480 with 1 Axes>"
            ],
            "image/png": "[encoded data removed]"
          },
          "metadata": {}
        }
      ],
      "source": [
        "AAPL['Adj Close'].plot();"
      ]
    },
    {
      "cell_type": "markdown",
      "metadata": {
        "id": "nUXHcz6eyBfz"
      },
      "source": [
        "We can also download the data for multiple stocks"
      ]
    },
    {
      "cell_type": "code",
      "execution_count": 50,
      "metadata": {
        "colab": {
          "base_uri": "https://localhost:8080/"
        },
        "id": "FRODUYVOyBfz",
        "outputId": "2b974f85-4de1-403f-e7c5-71d8392aef0a"
      },
      "outputs": [
        {
          "output_type": "stream",
          "name": "stdout",
          "text": [
            "[*********************100%%**********************]  5 of 5 completed\n"
          ]
        }
      ],
      "source": [
        "tickers = [\"AAPL\", \"MSFT\", \"AMZN\", \"K\", \"O\"] # apple, microsoft, amazon, kellogg's, realty income\n",
        "prices = yf.download( tickers, start=\"2012-01-01\", end=\"2023-09-01\")"
      ]
    },
    {
      "cell_type": "code",
      "execution_count": 51,
      "metadata": {
        "colab": {
          "base_uri": "https://localhost:8080/",
          "height": 475
        },
        "id": "kjohDqDjyBf0",
        "outputId": "dc6a84dd-93aa-4307-f27e-b07154870c16"
      },
      "outputs": [
        {
          "output_type": "execute_result",
          "data": {
            "text/plain": [
              "            Adj Close                                               Close  \\\n",
              "                 AAPL    AMZN          K       MSFT          O       AAPL   \n",
              "Date                                                                        \n",
              "2012-01-03  12.466093  8.9515  34.361561  21.321220  19.921267  14.686786   \n",
              "2012-01-04  12.533087  8.8755  34.327496  21.822979  19.749622  14.765714   \n",
              "2012-01-05  12.672230  8.8805  34.368359  22.045994  19.955599  14.929643   \n",
              "2012-01-06  12.804702  9.1305  34.395599  22.388470  19.904099  15.085714   \n",
              "2012-01-09  12.784389  8.9280  34.531780  22.093777  20.035673  15.061786   \n",
              "2012-01-10  12.830165  8.9670  35.001659  22.173431  20.201601  15.115714   \n",
              "2012-01-11  12.809247  8.9450  35.110615  22.077848  20.298861  15.091071   \n",
              "2012-01-12  12.774090  8.7965  35.028889  22.300861  20.253082  15.049643   \n",
              "2012-01-13  12.726187  8.9210  34.599884  22.499969  20.407560  14.993214   \n",
              "2012-01-17  12.874424  9.0830  34.654373  22.507935  20.493374  15.167857   \n",
              "\n",
              "                                                     ...       Open          \\\n",
              "              AMZN          K       MSFT          O  ...       AAPL    AMZN   \n",
              "Date                                                 ...                      \n",
              "2012-01-03  8.9515  50.459999  26.770000  33.740311  ...  14.621429  8.7945   \n",
              "2012-01-04  8.8755  50.410000  27.400000  33.449612  ...  14.642857  8.9605   \n",
              "2012-01-05  8.8805  50.470001  27.680000  33.798450  ...  14.819643  8.7970   \n",
              "2012-01-06  9.1305  50.509998  28.110001  33.711239  ...  14.991786  8.9035   \n",
              "2012-01-09  8.9280  50.709999  27.740000  33.934109  ...  15.196429  9.1380   \n",
              "2012-01-10  8.9670  51.400002  27.840000  34.215115  ...  15.211071  9.0550   \n",
              "2012-01-11  8.9450  51.560001  27.719999  34.379845  ...  15.095714  8.9820   \n",
              "2012-01-12  8.7965  51.439999  28.000000  34.302326  ...  15.081429  8.9710   \n",
              "2012-01-13  8.9210  50.810001  28.250000  34.563953  ...  14.989286  8.7905   \n",
              "2012-01-17  9.0830  50.889999  28.260000  34.709301  ...  15.150000  9.0075   \n",
              "\n",
              "                                                Volume                      \\\n",
              "                    K       MSFT          O       AAPL       AMZN        K   \n",
              "Date                                                                         \n",
              "2012-01-03  50.970001  26.549999  34.360466  302220800  102216000  1251800   \n",
              "2012-01-04  50.509998  26.820000  33.575581  260022000   84104000  1085600   \n",
              "2012-01-05  50.310001  27.379999  33.430233  271269600   76182000  1623100   \n",
              "2012-01-06  50.730000  27.530001  33.924419  318292800  140168000  3649300   \n",
              "2012-01-09  50.709999  28.049999  33.914730  394024400  101138000  1283900   \n",
              "2012-01-10  50.959999  27.930000  34.069767  258196400   79716000  2480100   \n",
              "2012-01-11  51.299999  27.430000  34.234497  215084800   62054000  1700500   \n",
              "2012-01-12  51.590000  27.870001  34.554264  212587200  107716000  1356500   \n",
              "2012-01-13  51.360001  27.930000  34.176357  226021600   95070000  2625000   \n",
              "2012-01-17  51.099998  28.400000  34.786823  242897200  112890000  1318500   \n",
              "\n",
              "                               \n",
              "                MSFT        O  \n",
              "Date                           \n",
              "2012-01-03  64731500  1337885  \n",
              "2012-01-04  80516100   900626  \n",
              "2012-01-05  56081400   718375  \n",
              "2012-01-06  99455500   775238  \n",
              "2012-01-09  59706800   640872  \n",
              "2012-01-10  60014400   605062  \n",
              "2012-01-11  65582400   813216  \n",
              "2012-01-12  49370800   557899  \n",
              "2012-01-13  60196100   666878  \n",
              "2012-01-17  72395300   888139  \n",
              "\n",
              "[10 rows x 30 columns]"
            ],
            "text/html": [
              "\n",
              "  <div id=\"df-a899585f-c35e-471b-9433-accb8c52e24b\" class=\"colab-df-container\">\n",
              "    <div>\n",
              "<style scoped>\n",
              "    .dataframe tbody tr th:only-of-type {\n",
              "        vertical-align: middle;\n",
              "    }\n",
              "\n",
              "    .dataframe tbody tr th {\n",
              "        vertical-align: top;\n",
              "    }\n",
              "\n",
              "    .dataframe thead tr th {\n",
              "        text-align: left;\n",
              "    }\n",
              "\n",
              "    .dataframe thead tr:last-of-type th {\n",
              "        text-align: right;\n",
              "    }\n",
              "</style>\n",
              "<table border=\"1\" class=\"dataframe\">\n",
              "  <thead>\n",
              "    <tr>\n",
              "      <th></th>\n",
              "      <th colspan=\"5\" halign=\"left\">Adj Close</th>\n",
              "      <th colspan=\"5\" halign=\"left\">Close</th>\n",
              "      <th>...</th>\n",
              "      <th colspan=\"5\" halign=\"left\">Open</th>\n",
              "      <th colspan=\"5\" halign=\"left\">Volume</th>\n",
              "    </tr>\n",
              "    <tr>\n",
              "      <th></th>\n",
              "      <th>AAPL</th>\n",
              "      <th>AMZN</th>\n",
              "      <th>K</th>\n",
              "      <th>MSFT</th>\n",
              "      <th>O</th>\n",
              "      <th>AAPL</th>\n",
              "      <th>AMZN</th>\n",
              "      <th>K</th>\n",
              "      <th>MSFT</th>\n",
              "      <th>O</th>\n",
              "      <th>...</th>\n",
              "      <th>AAPL</th>\n",
              "      <th>AMZN</th>\n",
              "      <th>K</th>\n",
              "      <th>MSFT</th>\n",
              "      <th>O</th>\n",
              "      <th>AAPL</th>\n",
              "      <th>AMZN</th>\n",
              "      <th>K</th>\n",
              "      <th>MSFT</th>\n",
              "      <th>O</th>\n",
              "    </tr>\n",
              "    <tr>\n",
              "      <th>Date</th>\n",
              "      <th></th>\n",
              "      <th></th>\n",
              "      <th></th>\n",
              "      <th></th>\n",
              "      <th></th>\n",
              "      <th></th>\n",
              "      <th></th>\n",
              "      <th></th>\n",
              "      <th></th>\n",
              "      <th></th>\n",
              "      <th></th>\n",
              "      <th></th>\n",
              "      <th></th>\n",
              "      <th></th>\n",
              "      <th></th>\n",
              "      <th></th>\n",
              "      <th></th>\n",
              "      <th></th>\n",
              "      <th></th>\n",
              "      <th></th>\n",
              "      <th></th>\n",
              "    </tr>\n",
              "  </thead>\n",
              "  <tbody>\n",
              "    <tr>\n",
              "      <th>2012-01-03</th>\n",
              "      <td>12.466093</td>\n",
              "      <td>8.9515</td>\n",
              "      <td>34.361561</td>\n",
              "      <td>21.321220</td>\n",
              "      <td>19.921267</td>\n",
              "      <td>14.686786</td>\n",
              "      <td>8.9515</td>\n",
              "      <td>50.459999</td>\n",
              "      <td>26.770000</td>\n",
              "      <td>33.740311</td>\n",
              "      <td>...</td>\n",
              "      <td>14.621429</td>\n",
              "      <td>8.7945</td>\n",
              "      <td>50.970001</td>\n",
              "      <td>26.549999</td>\n",
              "      <td>34.360466</td>\n",
              "      <td>302220800</td>\n",
              "      <td>102216000</td>\n",
              "      <td>1251800</td>\n",
              "      <td>64731500</td>\n",
              "      <td>1337885</td>\n",
              "    </tr>\n",
              "    <tr>\n",
              "      <th>2012-01-04</th>\n",
              "      <td>12.533087</td>\n",
              "      <td>8.8755</td>\n",
              "      <td>34.327496</td>\n",
              "      <td>21.822979</td>\n",
              "      <td>19.749622</td>\n",
              "      <td>14.765714</td>\n",
              "      <td>8.8755</td>\n",
              "      <td>50.410000</td>\n",
              "      <td>27.400000</td>\n",
              "      <td>33.449612</td>\n",
              "      <td>...</td>\n",
              "      <td>14.642857</td>\n",
              "      <td>8.9605</td>\n",
              "      <td>50.509998</td>\n",
              "      <td>26.820000</td>\n",
              "      <td>33.575581</td>\n",
              "      <td>260022000</td>\n",
              "      <td>84104000</td>\n",
              "      <td>1085600</td>\n",
              "      <td>80516100</td>\n",
              "      <td>900626</td>\n",
              "    </tr>\n",
              "    <tr>\n",
              "      <th>2012-01-05</th>\n",
              "      <td>12.672230</td>\n",
              "      <td>8.8805</td>\n",
              "      <td>34.368359</td>\n",
              "      <td>22.045994</td>\n",
              "      <td>19.955599</td>\n",
              "      <td>14.929643</td>\n",
              "      <td>8.8805</td>\n",
              "      <td>50.470001</td>\n",
              "      <td>27.680000</td>\n",
              "      <td>33.798450</td>\n",
              "      <td>...</td>\n",
              "      <td>14.819643</td>\n",
              "      <td>8.7970</td>\n",
              "      <td>50.310001</td>\n",
              "      <td>27.379999</td>\n",
              "      <td>33.430233</td>\n",
              "      <td>271269600</td>\n",
              "      <td>76182000</td>\n",
              "      <td>1623100</td>\n",
              "      <td>56081400</td>\n",
              "      <td>718375</td>\n",
              "    </tr>\n",
              "    <tr>\n",
              "      <th>2012-01-06</th>\n",
              "      <td>12.804702</td>\n",
              "      <td>9.1305</td>\n",
              "      <td>34.395599</td>\n",
              "      <td>22.388470</td>\n",
              "      <td>19.904099</td>\n",
              "      <td>15.085714</td>\n",
              "      <td>9.1305</td>\n",
              "      <td>50.509998</td>\n",
              "      <td>28.110001</td>\n",
              "      <td>33.711239</td>\n",
              "      <td>...</td>\n",
              "      <td>14.991786</td>\n",
              "      <td>8.9035</td>\n",
              "      <td>50.730000</td>\n",
              "      <td>27.530001</td>\n",
              "      <td>33.924419</td>\n",
              "      <td>318292800</td>\n",
              "      <td>140168000</td>\n",
              "      <td>3649300</td>\n",
              "      <td>99455500</td>\n",
              "      <td>775238</td>\n",
              "    </tr>\n",
              "    <tr>\n",
              "      <th>2012-01-09</th>\n",
              "      <td>12.784389</td>\n",
              "      <td>8.9280</td>\n",
              "      <td>34.531780</td>\n",
              "      <td>22.093777</td>\n",
              "      <td>20.035673</td>\n",
              "      <td>15.061786</td>\n",
              "      <td>8.9280</td>\n",
              "      <td>50.709999</td>\n",
              "      <td>27.740000</td>\n",
              "      <td>33.934109</td>\n",
              "      <td>...</td>\n",
              "      <td>15.196429</td>\n",
              "      <td>9.1380</td>\n",
              "      <td>50.709999</td>\n",
              "      <td>28.049999</td>\n",
              "      <td>33.914730</td>\n",
              "      <td>394024400</td>\n",
              "      <td>101138000</td>\n",
              "      <td>1283900</td>\n",
              "      <td>59706800</td>\n",
              "      <td>640872</td>\n",
              "    </tr>\n",
              "    <tr>\n",
              "      <th>2012-01-10</th>\n",
              "      <td>12.830165</td>\n",
              "      <td>8.9670</td>\n",
              "      <td>35.001659</td>\n",
              "      <td>22.173431</td>\n",
              "      <td>20.201601</td>\n",
              "      <td>15.115714</td>\n",
              "      <td>8.9670</td>\n",
              "      <td>51.400002</td>\n",
              "      <td>27.840000</td>\n",
              "      <td>34.215115</td>\n",
              "      <td>...</td>\n",
              "      <td>15.211071</td>\n",
              "      <td>9.0550</td>\n",
              "      <td>50.959999</td>\n",
              "      <td>27.930000</td>\n",
              "      <td>34.069767</td>\n",
              "      <td>258196400</td>\n",
              "      <td>79716000</td>\n",
              "      <td>2480100</td>\n",
              "      <td>60014400</td>\n",
              "      <td>605062</td>\n",
              "    </tr>\n",
              "    <tr>\n",
              "      <th>2012-01-11</th>\n",
              "      <td>12.809247</td>\n",
              "      <td>8.9450</td>\n",
              "      <td>35.110615</td>\n",
              "      <td>22.077848</td>\n",
              "      <td>20.298861</td>\n",
              "      <td>15.091071</td>\n",
              "      <td>8.9450</td>\n",
              "      <td>51.560001</td>\n",
              "      <td>27.719999</td>\n",
              "      <td>34.379845</td>\n",
              "      <td>...</td>\n",
              "      <td>15.095714</td>\n",
              "      <td>8.9820</td>\n",
              "      <td>51.299999</td>\n",
              "      <td>27.430000</td>\n",
              "      <td>34.234497</td>\n",
              "      <td>215084800</td>\n",
              "      <td>62054000</td>\n",
              "      <td>1700500</td>\n",
              "      <td>65582400</td>\n",
              "      <td>813216</td>\n",
              "    </tr>\n",
              "    <tr>\n",
              "      <th>2012-01-12</th>\n",
              "      <td>12.774090</td>\n",
              "      <td>8.7965</td>\n",
              "      <td>35.028889</td>\n",
              "      <td>22.300861</td>\n",
              "      <td>20.253082</td>\n",
              "      <td>15.049643</td>\n",
              "      <td>8.7965</td>\n",
              "      <td>51.439999</td>\n",
              "      <td>28.000000</td>\n",
              "      <td>34.302326</td>\n",
              "      <td>...</td>\n",
              "      <td>15.081429</td>\n",
              "      <td>8.9710</td>\n",
              "      <td>51.590000</td>\n",
              "      <td>27.870001</td>\n",
              "      <td>34.554264</td>\n",
              "      <td>212587200</td>\n",
              "      <td>107716000</td>\n",
              "      <td>1356500</td>\n",
              "      <td>49370800</td>\n",
              "      <td>557899</td>\n",
              "    </tr>\n",
              "    <tr>\n",
              "      <th>2012-01-13</th>\n",
              "      <td>12.726187</td>\n",
              "      <td>8.9210</td>\n",
              "      <td>34.599884</td>\n",
              "      <td>22.499969</td>\n",
              "      <td>20.407560</td>\n",
              "      <td>14.993214</td>\n",
              "      <td>8.9210</td>\n",
              "      <td>50.810001</td>\n",
              "      <td>28.250000</td>\n",
              "      <td>34.563953</td>\n",
              "      <td>...</td>\n",
              "      <td>14.989286</td>\n",
              "      <td>8.7905</td>\n",
              "      <td>51.360001</td>\n",
              "      <td>27.930000</td>\n",
              "      <td>34.176357</td>\n",
              "      <td>226021600</td>\n",
              "      <td>95070000</td>\n",
              "      <td>2625000</td>\n",
              "      <td>60196100</td>\n",
              "      <td>666878</td>\n",
              "    </tr>\n",
              "    <tr>\n",
              "      <th>2012-01-17</th>\n",
              "      <td>12.874424</td>\n",
              "      <td>9.0830</td>\n",
              "      <td>34.654373</td>\n",
              "      <td>22.507935</td>\n",
              "      <td>20.493374</td>\n",
              "      <td>15.167857</td>\n",
              "      <td>9.0830</td>\n",
              "      <td>50.889999</td>\n",
              "      <td>28.260000</td>\n",
              "      <td>34.709301</td>\n",
              "      <td>...</td>\n",
              "      <td>15.150000</td>\n",
              "      <td>9.0075</td>\n",
              "      <td>51.099998</td>\n",
              "      <td>28.400000</td>\n",
              "      <td>34.786823</td>\n",
              "      <td>242897200</td>\n",
              "      <td>112890000</td>\n",
              "      <td>1318500</td>\n",
              "      <td>72395300</td>\n",
              "      <td>888139</td>\n",
              "    </tr>\n",
              "  </tbody>\n",
              "</table>\n",
              "<p>10 rows × 30 columns</p>\n",
              "</div>\n",
              "    <div class=\"colab-df-buttons\">\n",
              "\n",
              "  <div class=\"colab-df-container\">\n",
              "    <button class=\"colab-df-convert\" onclick=\"convertToInteractive('df-a899585f-c35e-471b-9433-accb8c52e24b')\"\n",
              "            title=\"Convert this dataframe to an interactive table.\"\n",
              "            style=\"display:none;\">\n",
              "\n",
              "  <svg xmlns=\"http://www.w3.org/2000/svg\" height=\"24px\" viewBox=\"0 -960 960 960\">\n",
              "    <path d=\"M120-120v-720h720v720H120Zm60-500h600v-160H180v160Zm220 220h160v-160H400v160Zm0 220h160v-160H400v160ZM180-400h160v-160H180v160Zm440 0h160v-160H620v160ZM180-180h160v-160H180v160Zm440 0h160v-160H620v160Z\"/>\n",
              "  </svg>\n",
              "    </button>\n",
              "\n",
              "  <style>\n",
              "    .colab-df-container {\n",
              "      display:flex;\n",
              "      gap: 12px;\n",
              "    }\n",
              "\n",
              "    .colab-df-convert {\n",
              "      background-color: #E8F0FE;\n",
              "      border: none;\n",
              "      border-radius: 50%;\n",
              "      cursor: pointer;\n",
              "      display: none;\n",
              "      fill: #1967D2;\n",
              "      height: 32px;\n",
              "      padding: 0 0 0 0;\n",
              "      width: 32px;\n",
              "    }\n",
              "\n",
              "    .colab-df-convert:hover {\n",
              "      background-color: #E2EBFA;\n",
              "      box-shadow: 0px 1px 2px rgba(60, 64, 67, 0.3), 0px 1px 3px 1px rgba(60, 64, 67, 0.15);\n",
              "      fill: #174EA6;\n",
              "    }\n",
              "\n",
              "    .colab-df-buttons div {\n",
              "      margin-bottom: 4px;\n",
              "    }\n",
              "\n",
              "    [theme=dark] .colab-df-convert {\n",
              "      background-color: #3B4455;\n",
              "      fill: #D2E3FC;\n",
              "    }\n",
              "\n",
              "    [theme=dark] .colab-df-convert:hover {\n",
              "      background-color: #434B5C;\n",
              "      box-shadow: 0px 1px 3px 1px rgba(0, 0, 0, 0.15);\n",
              "      filter: drop-shadow(0px 1px 2px rgba(0, 0, 0, 0.3));\n",
              "      fill: #FFFFFF;\n",
              "    }\n",
              "  </style>\n",
              "\n",
              "    <script>\n",
              "      const buttonEl =\n",
              "        document.querySelector('#df-a899585f-c35e-471b-9433-accb8c52e24b button.colab-df-convert');\n",
              "      buttonEl.style.display =\n",
              "        google.colab.kernel.accessAllowed ? 'block' : 'none';\n",
              "\n",
              "      async function convertToInteractive(key) {\n",
              "        const element = document.querySelector('#df-a899585f-c35e-471b-9433-accb8c52e24b');\n",
              "        const dataTable =\n",
              "          await google.colab.kernel.invokeFunction('convertToInteractive',\n",
              "                                                    [key], {});\n",
              "        if (!dataTable) return;\n",
              "\n",
              "        const docLinkHtml = 'Like what you see? Visit the ' +\n",
              "          '<a target=\"_blank\" href=https://colab.research.google.com/notebooks/data_table.ipynb>data table notebook</a>'\n",
              "          + ' to learn more about interactive tables.';\n",
              "        element.innerHTML = '';\n",
              "        dataTable['output_type'] = 'display_data';\n",
              "        await google.colab.output.renderOutput(dataTable, element);\n",
              "        const docLink = document.createElement('div');\n",
              "        docLink.innerHTML = docLinkHtml;\n",
              "        element.appendChild(docLink);\n",
              "      }\n",
              "    </script>\n",
              "  </div>\n",
              "\n",
              "\n",
              "<div id=\"df-6481d404-be0b-40a6-8e1f-ca951c4145c0\">\n",
              "  <button class=\"colab-df-quickchart\" onclick=\"quickchart('df-6481d404-be0b-40a6-8e1f-ca951c4145c0')\"\n",
              "            title=\"Suggest charts.\"\n",
              "            style=\"display:none;\">\n",
              "\n",
              "<svg xmlns=\"http://www.w3.org/2000/svg\" height=\"24px\"viewBox=\"0 0 24 24\"\n",
              "     width=\"24px\">\n",
              "    <g>\n",
              "        <path d=\"M19 3H5c-1.1 0-2 .9-2 2v14c0 1.1.9 2 2 2h14c1.1 0 2-.9 2-2V5c0-1.1-.9-2-2-2zM9 17H7v-7h2v7zm4 0h-2V7h2v10zm4 0h-2v-4h2v4z\"/>\n",
              "    </g>\n",
              "</svg>\n",
              "  </button>\n",
              "\n",
              "<style>\n",
              "  .colab-df-quickchart {\n",
              "      --bg-color: #E8F0FE;\n",
              "      --fill-color: #1967D2;\n",
              "      --hover-bg-color: #E2EBFA;\n",
              "      --hover-fill-color: #174EA6;\n",
              "      --disabled-fill-color: #AAA;\n",
              "      --disabled-bg-color: #DDD;\n",
              "  }\n",
              "\n",
              "  [theme=dark] .colab-df-quickchart {\n",
              "      --bg-color: #3B4455;\n",
              "      --fill-color: #D2E3FC;\n",
              "      --hover-bg-color: #434B5C;\n",
              "      --hover-fill-color: #FFFFFF;\n",
              "      --disabled-bg-color: #3B4455;\n",
              "      --disabled-fill-color: #666;\n",
              "  }\n",
              "\n",
              "  .colab-df-quickchart {\n",
              "    background-color: var(--bg-color);\n",
              "    border: none;\n",
              "    border-radius: 50%;\n",
              "    cursor: pointer;\n",
              "    display: none;\n",
              "    fill: var(--fill-color);\n",
              "    height: 32px;\n",
              "    padding: 0;\n",
              "    width: 32px;\n",
              "  }\n",
              "\n",
              "  .colab-df-quickchart:hover {\n",
              "    background-color: var(--hover-bg-color);\n",
              "    box-shadow: 0 1px 2px rgba(60, 64, 67, 0.3), 0 1px 3px 1px rgba(60, 64, 67, 0.15);\n",
              "    fill: var(--button-hover-fill-color);\n",
              "  }\n",
              "\n",
              "  .colab-df-quickchart-complete:disabled,\n",
              "  .colab-df-quickchart-complete:disabled:hover {\n",
              "    background-color: var(--disabled-bg-color);\n",
              "    fill: var(--disabled-fill-color);\n",
              "    box-shadow: none;\n",
              "  }\n",
              "\n",
              "  .colab-df-spinner {\n",
              "    border: 2px solid var(--fill-color);\n",
              "    border-color: transparent;\n",
              "    border-bottom-color: var(--fill-color);\n",
              "    animation:\n",
              "      spin 1s steps(1) infinite;\n",
              "  }\n",
              "\n",
              "  @keyframes spin {\n",
              "    0% {\n",
              "      border-color: transparent;\n",
              "      border-bottom-color: var(--fill-color);\n",
              "      border-left-color: var(--fill-color);\n",
              "    }\n",
              "    20% {\n",
              "      border-color: transparent;\n",
              "      border-left-color: var(--fill-color);\n",
              "      border-top-color: var(--fill-color);\n",
              "    }\n",
              "    30% {\n",
              "      border-color: transparent;\n",
              "      border-left-color: var(--fill-color);\n",
              "      border-top-color: var(--fill-color);\n",
              "      border-right-color: var(--fill-color);\n",
              "    }\n",
              "    40% {\n",
              "      border-color: transparent;\n",
              "      border-right-color: var(--fill-color);\n",
              "      border-top-color: var(--fill-color);\n",
              "    }\n",
              "    60% {\n",
              "      border-color: transparent;\n",
              "      border-right-color: var(--fill-color);\n",
              "    }\n",
              "    80% {\n",
              "      border-color: transparent;\n",
              "      border-right-color: var(--fill-color);\n",
              "      border-bottom-color: var(--fill-color);\n",
              "    }\n",
              "    90% {\n",
              "      border-color: transparent;\n",
              "      border-bottom-color: var(--fill-color);\n",
              "    }\n",
              "  }\n",
              "</style>\n",
              "\n",
              "  <script>\n",
              "    async function quickchart(key) {\n",
              "      const quickchartButtonEl =\n",
              "        document.querySelector('#' + key + ' button');\n",
              "      quickchartButtonEl.disabled = true;  // To prevent multiple clicks.\n",
              "      quickchartButtonEl.classList.add('colab-df-spinner');\n",
              "      try {\n",
              "        const charts = await google.colab.kernel.invokeFunction(\n",
              "            'suggestCharts', [key], {});\n",
              "      } catch (error) {\n",
              "        console.error('Error during call to suggestCharts:', error);\n",
              "      }\n",
              "      quickchartButtonEl.classList.remove('colab-df-spinner');\n",
              "      quickchartButtonEl.classList.add('colab-df-quickchart-complete');\n",
              "    }\n",
              "    (() => {\n",
              "      let quickchartButtonEl =\n",
              "        document.querySelector('#df-6481d404-be0b-40a6-8e1f-ca951c4145c0 button');\n",
              "      quickchartButtonEl.style.display =\n",
              "        google.colab.kernel.accessAllowed ? 'block' : 'none';\n",
              "    })();\n",
              "  </script>\n",
              "</div>\n",
              "    </div>\n",
              "  </div>\n"
            ]
          },
          "metadata": {},
          "execution_count": 51
        }
      ],
      "source": [
        "prices.head(10)"
      ]
    },
    {
      "cell_type": "markdown",
      "metadata": {
        "id": "7K9zHCIYyBf0"
      },
      "source": [
        "Next we can plot prices of the stocks."
      ]
    },
    {
      "cell_type": "code",
      "execution_count": 52,
      "metadata": {
        "colab": {
          "base_uri": "https://localhost:8080/",
          "height": 422
        },
        "id": "wnYWAacDyBf1",
        "outputId": "c440ff54-bf3b-49cb-c452-d420ebb5c683"
      },
      "outputs": [
        {
          "output_type": "display_data",
          "data": {
            "text/plain": [
              "<Figure size 640x480 with 1 Axes>"
            ],
            "image/png": "[encoded data removed]"
          },
          "metadata": {}
        }
      ],
      "source": [
        "prices['Adj Close'].plot();"
      ]
    },
    {
      "cell_type": "markdown",
      "metadata": {
        "id": "ZRAT2hA1yBf1"
      },
      "source": [
        "### Calculating the daily and monthly returns for individual stock\n"
      ]
    },
    {
      "cell_type": "code",
      "execution_count": 53,
      "metadata": {
        "colab": {
          "base_uri": "https://localhost:8080/"
        },
        "id": "ncVqktkeaXXf",
        "outputId": "4a2679a7-d8be-4d60-9d46-1db7fab76194"
      },
      "outputs": [
        {
          "output_type": "stream",
          "name": "stdout",
          "text": [
            "\r[*********************100%%**********************]  1 of 1 completed\n"
          ]
        }
      ],
      "source": [
        "AAPL = yf.download(\"AAPL\", start=\"2012-01-01\", end=\"2023-09-01\")"
      ]
    },
    {
      "cell_type": "code",
      "execution_count": 54,
      "metadata": {
        "colab": {
          "base_uri": "https://localhost:8080/",
          "height": 455
        },
        "id": "cctNQYFQyBf1",
        "outputId": "f28f7fb5-e961-4b04-ad04-6a0cc0c14524"
      },
      "outputs": [
        {
          "output_type": "execute_result",
          "data": {
            "text/plain": [
              "                  Open        High         Low       Close   Adj Close  \\\n",
              "Date                                                                     \n",
              "2012-01-03   14.621429   14.732143   14.607143   14.686786   12.466092   \n",
              "2012-01-04   14.642857   14.810000   14.617143   14.765714   12.533086   \n",
              "2012-01-05   14.819643   14.948214   14.738214   14.929643   12.672230   \n",
              "2012-01-06   14.991786   15.098214   14.972143   15.085714   12.804704   \n",
              "2012-01-09   15.196429   15.276786   15.048214   15.061786   12.784391   \n",
              "...                ...         ...         ...         ...         ...   \n",
              "2023-08-25  177.380005  179.149994  175.820007  178.610001  178.610001   \n",
              "2023-08-28  180.089996  180.589996  178.550003  180.190002  180.190002   \n",
              "2023-08-29  179.699997  184.899994  179.500000  184.119995  184.119995   \n",
              "2023-08-30  184.940002  187.850006  184.740005  187.649994  187.649994   \n",
              "2023-08-31  187.839996  189.119995  187.479996  187.869995  187.869995   \n",
              "\n",
              "               Volume  RetDaily  \n",
              "Date                             \n",
              "2012-01-03  302220800       NaN  \n",
              "2012-01-04  260022000  0.005374  \n",
              "2012-01-05  271269600  0.011102  \n",
              "2012-01-06  318292800  0.010454  \n",
              "2012-01-09  394024400 -0.001586  \n",
              "...               ...       ...  \n",
              "2023-08-25   51449600  0.012643  \n",
              "2023-08-28   43820700  0.008846  \n",
              "2023-08-29   53003900  0.021810  \n",
              "2023-08-30   60813900  0.019172  \n",
              "2023-08-31   60794500  0.001172  \n",
              "\n",
              "[2935 rows x 7 columns]"
            ],
            "text/html": [
              "\n",
              "  <div id=\"df-94e7a17a-19fc-46bb-b96b-ad1631b94622\" class=\"colab-df-container\">\n",
              "    <div>\n",
              "<style scoped>\n",
              "    .dataframe tbody tr th:only-of-type {\n",
              "        vertical-align: middle;\n",
              "    }\n",
              "\n",
              "    .dataframe tbody tr th {\n",
              "        vertical-align: top;\n",
              "    }\n",
              "\n",
              "    .dataframe thead th {\n",
              "        text-align: right;\n",
              "    }\n",
              "</style>\n",
              "<table border=\"1\" class=\"dataframe\">\n",
              "  <thead>\n",
              "    <tr style=\"text-align: right;\">\n",
              "      <th></th>\n",
              "      <th>Open</th>\n",
              "      <th>High</th>\n",
              "      <th>Low</th>\n",
              "      <th>Close</th>\n",
              "      <th>Adj Close</th>\n",
              "      <th>Volume</th>\n",
              "      <th>RetDaily</th>\n",
              "    </tr>\n",
              "    <tr>\n",
              "      <th>Date</th>\n",
              "      <th></th>\n",
              "      <th></th>\n",
              "      <th></th>\n",
              "      <th></th>\n",
              "      <th></th>\n",
              "      <th></th>\n",
              "      <th></th>\n",
              "    </tr>\n",
              "  </thead>\n",
              "  <tbody>\n",
              "    <tr>\n",
              "      <th>2012-01-03</th>\n",
              "      <td>14.621429</td>\n",
              "      <td>14.732143</td>\n",
              "      <td>14.607143</td>\n",
              "      <td>14.686786</td>\n",
              "      <td>12.466092</td>\n",
              "      <td>302220800</td>\n",
              "      <td>NaN</td>\n",
              "    </tr>\n",
              "    <tr>\n",
              "      <th>2012-01-04</th>\n",
              "      <td>14.642857</td>\n",
              "      <td>14.810000</td>\n",
              "      <td>14.617143</td>\n",
              "      <td>14.765714</td>\n",
              "      <td>12.533086</td>\n",
              "      <td>260022000</td>\n",
              "      <td>0.005374</td>\n",
              "    </tr>\n",
              "    <tr>\n",
              "      <th>2012-01-05</th>\n",
              "      <td>14.819643</td>\n",
              "      <td>14.948214</td>\n",
              "      <td>14.738214</td>\n",
              "      <td>14.929643</td>\n",
              "      <td>12.672230</td>\n",
              "      <td>271269600</td>\n",
              "      <td>0.011102</td>\n",
              "    </tr>\n",
              "    <tr>\n",
              "      <th>2012-01-06</th>\n",
              "      <td>14.991786</td>\n",
              "      <td>15.098214</td>\n",
              "      <td>14.972143</td>\n",
              "      <td>15.085714</td>\n",
              "      <td>12.804704</td>\n",
              "      <td>318292800</td>\n",
              "      <td>0.010454</td>\n",
              "    </tr>\n",
              "    <tr>\n",
              "      <th>2012-01-09</th>\n",
              "      <td>15.196429</td>\n",
              "      <td>15.276786</td>\n",
              "      <td>15.048214</td>\n",
              "      <td>15.061786</td>\n",
              "      <td>12.784391</td>\n",
              "      <td>394024400</td>\n",
              "      <td>-0.001586</td>\n",
              "    </tr>\n",
              "    <tr>\n",
              "      <th>...</th>\n",
              "      <td>...</td>\n",
              "      <td>...</td>\n",
              "      <td>...</td>\n",
              "      <td>...</td>\n",
              "      <td>...</td>\n",
              "      <td>...</td>\n",
              "      <td>...</td>\n",
              "    </tr>\n",
              "    <tr>\n",
              "      <th>2023-08-25</th>\n",
              "      <td>177.380005</td>\n",
              "      <td>179.149994</td>\n",
              "      <td>175.820007</td>\n",
              "      <td>178.610001</td>\n",
              "      <td>178.610001</td>\n",
              "      <td>51449600</td>\n",
              "      <td>0.012643</td>\n",
              "    </tr>\n",
              "    <tr>\n",
              "      <th>2023-08-28</th>\n",
              "      <td>180.089996</td>\n",
              "      <td>180.589996</td>\n",
              "      <td>178.550003</td>\n",
              "      <td>180.190002</td>\n",
              "      <td>180.190002</td>\n",
              "      <td>43820700</td>\n",
              "      <td>0.008846</td>\n",
              "    </tr>\n",
              "    <tr>\n",
              "      <th>2023-08-29</th>\n",
              "      <td>179.699997</td>\n",
              "      <td>184.899994</td>\n",
              "      <td>179.500000</td>\n",
              "      <td>184.119995</td>\n",
              "      <td>184.119995</td>\n",
              "      <td>53003900</td>\n",
              "      <td>0.021810</td>\n",
              "    </tr>\n",
              "    <tr>\n",
              "      <th>2023-08-30</th>\n",
              "      <td>184.940002</td>\n",
              "      <td>187.850006</td>\n",
              "      <td>184.740005</td>\n",
              "      <td>187.649994</td>\n",
              "      <td>187.649994</td>\n",
              "      <td>60813900</td>\n",
              "      <td>0.019172</td>\n",
              "    </tr>\n",
              "    <tr>\n",
              "      <th>2023-08-31</th>\n",
              "      <td>187.839996</td>\n",
              "      <td>189.119995</td>\n",
              "      <td>187.479996</td>\n",
              "      <td>187.869995</td>\n",
              "      <td>187.869995</td>\n",
              "      <td>60794500</td>\n",
              "      <td>0.001172</td>\n",
              "    </tr>\n",
              "  </tbody>\n",
              "</table>\n",
              "<p>2935 rows × 7 columns</p>\n",
              "</div>\n",
              "    <div class=\"colab-df-buttons\">\n",
              "\n",
              "  <div class=\"colab-df-container\">\n",
              "    <button class=\"colab-df-convert\" onclick=\"convertToInteractive('df-94e7a17a-19fc-46bb-b96b-ad1631b94622')\"\n",
              "            title=\"Convert this dataframe to an interactive table.\"\n",
              "            style=\"display:none;\">\n",
              "\n",
              "  <svg xmlns=\"http://www.w3.org/2000/svg\" height=\"24px\" viewBox=\"0 -960 960 960\">\n",
              "    <path d=\"M120-120v-720h720v720H120Zm60-500h600v-160H180v160Zm220 220h160v-160H400v160Zm0 220h160v-160H400v160ZM180-400h160v-160H180v160Zm440 0h160v-160H620v160ZM180-180h160v-160H180v160Zm440 0h160v-160H620v160Z\"/>\n",
              "  </svg>\n",
              "    </button>\n",
              "\n",
              "  <style>\n",
              "    .colab-df-container {\n",
              "      display:flex;\n",
              "      gap: 12px;\n",
              "    }\n",
              "\n",
              "    .colab-df-convert {\n",
              "      background-color: #E8F0FE;\n",
              "      border: none;\n",
              "      border-radius: 50%;\n",
              "      cursor: pointer;\n",
              "      display: none;\n",
              "      fill: #1967D2;\n",
              "      height: 32px;\n",
              "      padding: 0 0 0 0;\n",
              "      width: 32px;\n",
              "    }\n",
              "\n",
              "    .colab-df-convert:hover {\n",
              "      background-color: #E2EBFA;\n",
              "      box-shadow: 0px 1px 2px rgba(60, 64, 67, 0.3), 0px 1px 3px 1px rgba(60, 64, 67, 0.15);\n",
              "      fill: #174EA6;\n",
              "    }\n",
              "\n",
              "    .colab-df-buttons div {\n",
              "      margin-bottom: 4px;\n",
              "    }\n",
              "\n",
              "    [theme=dark] .colab-df-convert {\n",
              "      background-color: #3B4455;\n",
              "      fill: #D2E3FC;\n",
              "    }\n",
              "\n",
              "    [theme=dark] .colab-df-convert:hover {\n",
              "      background-color: #434B5C;\n",
              "      box-shadow: 0px 1px 3px 1px rgba(0, 0, 0, 0.15);\n",
              "      filter: drop-shadow(0px 1px 2px rgba(0, 0, 0, 0.3));\n",
              "      fill: #FFFFFF;\n",
              "    }\n",
              "  </style>\n",
              "\n",
              "    <script>\n",
              "      const buttonEl =\n",
              "        document.querySelector('#df-94e7a17a-19fc-46bb-b96b-ad1631b94622 button.colab-df-convert');\n",
              "      buttonEl.style.display =\n",
              "        google.colab.kernel.accessAllowed ? 'block' : 'none';\n",
              "\n",
              "      async function convertToInteractive(key) {\n",
              "        const element = document.querySelector('#df-94e7a17a-19fc-46bb-b96b-ad1631b94622');\n",
              "        const dataTable =\n",
              "          await google.colab.kernel.invokeFunction('convertToInteractive',\n",
              "                                                    [key], {});\n",
              "        if (!dataTable) return;\n",
              "\n",
              "        const docLinkHtml = 'Like what you see? Visit the ' +\n",
              "          '<a target=\"_blank\" href=https://colab.research.google.com/notebooks/data_table.ipynb>data table notebook</a>'\n",
              "          + ' to learn more about interactive tables.';\n",
              "        element.innerHTML = '';\n",
              "        dataTable['output_type'] = 'display_data';\n",
              "        await google.colab.output.renderOutput(dataTable, element);\n",
              "        const docLink = document.createElement('div');\n",
              "        docLink.innerHTML = docLinkHtml;\n",
              "        element.appendChild(docLink);\n",
              "      }\n",
              "    </script>\n",
              "  </div>\n",
              "\n",
              "\n",
              "<div id=\"df-52a98d46-5957-4a16-bf42-761b7d5b356d\">\n",
              "  <button class=\"colab-df-quickchart\" onclick=\"quickchart('df-52a98d46-5957-4a16-bf42-761b7d5b356d')\"\n",
              "            title=\"Suggest charts.\"\n",
              "            style=\"display:none;\">\n",
              "\n",
              "<svg xmlns=\"http://www.w3.org/2000/svg\" height=\"24px\"viewBox=\"0 0 24 24\"\n",
              "     width=\"24px\">\n",
              "    <g>\n",
              "        <path d=\"M19 3H5c-1.1 0-2 .9-2 2v14c0 1.1.9 2 2 2h14c1.1 0 2-.9 2-2V5c0-1.1-.9-2-2-2zM9 17H7v-7h2v7zm4 0h-2V7h2v10zm4 0h-2v-4h2v4z\"/>\n",
              "    </g>\n",
              "</svg>\n",
              "  </button>\n",
              "\n",
              "<style>\n",
              "  .colab-df-quickchart {\n",
              "      --bg-color: #E8F0FE;\n",
              "      --fill-color: #1967D2;\n",
              "      --hover-bg-color: #E2EBFA;\n",
              "      --hover-fill-color: #174EA6;\n",
              "      --disabled-fill-color: #AAA;\n",
              "      --disabled-bg-color: #DDD;\n",
              "  }\n",
              "\n",
              "  [theme=dark] .colab-df-quickchart {\n",
              "      --bg-color: #3B4455;\n",
              "      --fill-color: #D2E3FC;\n",
              "      --hover-bg-color: #434B5C;\n",
              "      --hover-fill-color: #FFFFFF;\n",
              "      --disabled-bg-color: #3B4455;\n",
              "      --disabled-fill-color: #666;\n",
              "  }\n",
              "\n",
              "  .colab-df-quickchart {\n",
              "    background-color: var(--bg-color);\n",
              "    border: none;\n",
              "    border-radius: 50%;\n",
              "    cursor: pointer;\n",
              "    display: none;\n",
              "    fill: var(--fill-color);\n",
              "    height: 32px;\n",
              "    padding: 0;\n",
              "    width: 32px;\n",
              "  }\n",
              "\n",
              "  .colab-df-quickchart:hover {\n",
              "    background-color: var(--hover-bg-color);\n",
              "    box-shadow: 0 1px 2px rgba(60, 64, 67, 0.3), 0 1px 3px 1px rgba(60, 64, 67, 0.15);\n",
              "    fill: var(--button-hover-fill-color);\n",
              "  }\n",
              "\n",
              "  .colab-df-quickchart-complete:disabled,\n",
              "  .colab-df-quickchart-complete:disabled:hover {\n",
              "    background-color: var(--disabled-bg-color);\n",
              "    fill: var(--disabled-fill-color);\n",
              "    box-shadow: none;\n",
              "  }\n",
              "\n",
              "  .colab-df-spinner {\n",
              "    border: 2px solid var(--fill-color);\n",
              "    border-color: transparent;\n",
              "    border-bottom-color: var(--fill-color);\n",
              "    animation:\n",
              "      spin 1s steps(1) infinite;\n",
              "  }\n",
              "\n",
              "  @keyframes spin {\n",
              "    0% {\n",
              "      border-color: transparent;\n",
              "      border-bottom-color: var(--fill-color);\n",
              "      border-left-color: var(--fill-color);\n",
              "    }\n",
              "    20% {\n",
              "      border-color: transparent;\n",
              "      border-left-color: var(--fill-color);\n",
              "      border-top-color: var(--fill-color);\n",
              "    }\n",
              "    30% {\n",
              "      border-color: transparent;\n",
              "      border-left-color: var(--fill-color);\n",
              "      border-top-color: var(--fill-color);\n",
              "      border-right-color: var(--fill-color);\n",
              "    }\n",
              "    40% {\n",
              "      border-color: transparent;\n",
              "      border-right-color: var(--fill-color);\n",
              "      border-top-color: var(--fill-color);\n",
              "    }\n",
              "    60% {\n",
              "      border-color: transparent;\n",
              "      border-right-color: var(--fill-color);\n",
              "    }\n",
              "    80% {\n",
              "      border-color: transparent;\n",
              "      border-right-color: var(--fill-color);\n",
              "      border-bottom-color: var(--fill-color);\n",
              "    }\n",
              "    90% {\n",
              "      border-color: transparent;\n",
              "      border-bottom-color: var(--fill-color);\n",
              "    }\n",
              "  }\n",
              "</style>\n",
              "\n",
              "  <script>\n",
              "    async function quickchart(key) {\n",
              "      const quickchartButtonEl =\n",
              "        document.querySelector('#' + key + ' button');\n",
              "      quickchartButtonEl.disabled = true;  // To prevent multiple clicks.\n",
              "      quickchartButtonEl.classList.add('colab-df-spinner');\n",
              "      try {\n",
              "        const charts = await google.colab.kernel.invokeFunction(\n",
              "            'suggestCharts', [key], {});\n",
              "      } catch (error) {\n",
              "        console.error('Error during call to suggestCharts:', error);\n",
              "      }\n",
              "      quickchartButtonEl.classList.remove('colab-df-spinner');\n",
              "      quickchartButtonEl.classList.add('colab-df-quickchart-complete');\n",
              "    }\n",
              "    (() => {\n",
              "      let quickchartButtonEl =\n",
              "        document.querySelector('#df-52a98d46-5957-4a16-bf42-761b7d5b356d button');\n",
              "      quickchartButtonEl.style.display =\n",
              "        google.colab.kernel.accessAllowed ? 'block' : 'none';\n",
              "    })();\n",
              "  </script>\n",
              "</div>\n",
              "    </div>\n",
              "  </div>\n"
            ]
          },
          "metadata": {},
          "execution_count": 54
        }
      ],
      "source": [
        "AAPL['RetDaily'] = AAPL['Adj Close'].pct_change() ## daily returns\n",
        "AAPL"
      ]
    },
    {
      "cell_type": "code",
      "execution_count": 55,
      "metadata": {
        "colab": {
          "base_uri": "https://localhost:8080/",
          "height": 422
        },
        "id": "DHMhK04bSjS9",
        "outputId": "64260be3-051f-457a-dfad-d6e4fab780cf"
      },
      "outputs": [
        {
          "output_type": "display_data",
          "data": {
            "text/plain": [
              "<Figure size 640x480 with 1 Axes>"
            ],
            "image/png": "[encoded data removed]"
          },
          "metadata": {}
        }
      ],
      "source": [
        "AAPL[['RetDaily']].plot();"
      ]
    },
    {
      "cell_type": "markdown",
      "metadata": {
        "id": "l-FG_tfZ44lj"
      },
      "source": [
        "Monthly returns"
      ]
    },
    {
      "cell_type": "code",
      "execution_count": 56,
      "metadata": {
        "colab": {
          "base_uri": "https://localhost:8080/"
        },
        "id": "PnDi7SnR4nlP",
        "outputId": "c6dc6875-f0cc-4dc6-b8d3-533b40b57ea4"
      },
      "outputs": [
        {
          "output_type": "stream",
          "name": "stdout",
          "text": [
            "\r[*********************100%%**********************]  1 of 1 completed\n"
          ]
        }
      ],
      "source": [
        "AAPL = yf.download(\"AAPL\", start=\"2012-01-01\", end=\"2023-09-01\")"
      ]
    },
    {
      "cell_type": "code",
      "execution_count": 57,
      "metadata": {
        "colab": {
          "base_uri": "https://localhost:8080/",
          "height": 455
        },
        "id": "EakpwpVz3D5X",
        "outputId": "798d09df-5357-4358-e577-0b7e0b6d738c"
      },
      "outputs": [
        {
          "output_type": "execute_result",
          "data": {
            "text/plain": [
              "                  Open        High         Low       Close   Adj Close  \\\n",
              "Date                                                                     \n",
              "2012-01-31   16.271070   16.365713   16.181070   16.302856   13.837809   \n",
              "2012-02-29   19.341429   19.557501   19.132143   19.372856   16.443611   \n",
              "2012-03-31   21.741785   21.805714   21.355000   21.412500   18.174854   \n",
              "2012-04-30   21.350000   21.371429   20.821428   20.856428   17.702864   \n",
              "2012-05-31   20.740713   20.767857   20.409286   20.633215   17.513399   \n",
              "...                ...         ...         ...         ...         ...   \n",
              "2023-04-30  168.490005  169.850006  167.880005  169.679993  169.217117   \n",
              "2023-05-31  177.330002  179.350006  176.759995  177.250000  177.010971   \n",
              "2023-06-30  191.630005  194.479996  191.259995  193.970001  193.708420   \n",
              "2023-07-31  196.059998  196.490005  195.259995  196.449997  196.185074   \n",
              "2023-08-31  187.839996  189.119995  187.479996  187.869995  187.869995   \n",
              "\n",
              "               Volume  \n",
              "Date                   \n",
              "2012-01-31  391683600  \n",
              "2012-02-29  952011200  \n",
              "2012-03-31  731038000  \n",
              "2012-04-30  506144800  \n",
              "2012-05-31  491674400  \n",
              "...               ...  \n",
              "2023-04-30   55209200  \n",
              "2023-05-31   99625300  \n",
              "2023-06-30   85069600  \n",
              "2023-07-31   38824100  \n",
              "2023-08-31   60794500  \n",
              "\n",
              "[140 rows x 6 columns]"
            ],
            "text/html": [
              "\n",
              "  <div id=\"df-c7768cda-6fca-46ee-9d50-91f4d403255f\" class=\"colab-df-container\">\n",
              "    <div>\n",
              "<style scoped>\n",
              "    .dataframe tbody tr th:only-of-type {\n",
              "        vertical-align: middle;\n",
              "    }\n",
              "\n",
              "    .dataframe tbody tr th {\n",
              "        vertical-align: top;\n",
              "    }\n",
              "\n",
              "    .dataframe thead th {\n",
              "        text-align: right;\n",
              "    }\n",
              "</style>\n",
              "<table border=\"1\" class=\"dataframe\">\n",
              "  <thead>\n",
              "    <tr style=\"text-align: right;\">\n",
              "      <th></th>\n",
              "      <th>Open</th>\n",
              "      <th>High</th>\n",
              "      <th>Low</th>\n",
              "      <th>Close</th>\n",
              "      <th>Adj Close</th>\n",
              "      <th>Volume</th>\n",
              "    </tr>\n",
              "    <tr>\n",
              "      <th>Date</th>\n",
              "      <th></th>\n",
              "      <th></th>\n",
              "      <th></th>\n",
              "      <th></th>\n",
              "      <th></th>\n",
              "      <th></th>\n",
              "    </tr>\n",
              "  </thead>\n",
              "  <tbody>\n",
              "    <tr>\n",
              "      <th>2012-01-31</th>\n",
              "      <td>16.271070</td>\n",
              "      <td>16.365713</td>\n",
              "      <td>16.181070</td>\n",
              "      <td>16.302856</td>\n",
              "      <td>13.837809</td>\n",
              "      <td>391683600</td>\n",
              "    </tr>\n",
              "    <tr>\n",
              "      <th>2012-02-29</th>\n",
              "      <td>19.341429</td>\n",
              "      <td>19.557501</td>\n",
              "      <td>19.132143</td>\n",
              "      <td>19.372856</td>\n",
              "      <td>16.443611</td>\n",
              "      <td>952011200</td>\n",
              "    </tr>\n",
              "    <tr>\n",
              "      <th>2012-03-31</th>\n",
              "      <td>21.741785</td>\n",
              "      <td>21.805714</td>\n",
              "      <td>21.355000</td>\n",
              "      <td>21.412500</td>\n",
              "      <td>18.174854</td>\n",
              "      <td>731038000</td>\n",
              "    </tr>\n",
              "    <tr>\n",
              "      <th>2012-04-30</th>\n",
              "      <td>21.350000</td>\n",
              "      <td>21.371429</td>\n",
              "      <td>20.821428</td>\n",
              "      <td>20.856428</td>\n",
              "      <td>17.702864</td>\n",
              "      <td>506144800</td>\n",
              "    </tr>\n",
              "    <tr>\n",
              "      <th>2012-05-31</th>\n",
              "      <td>20.740713</td>\n",
              "      <td>20.767857</td>\n",
              "      <td>20.409286</td>\n",
              "      <td>20.633215</td>\n",
              "      <td>17.513399</td>\n",
              "      <td>491674400</td>\n",
              "    </tr>\n",
              "    <tr>\n",
              "      <th>...</th>\n",
              "      <td>...</td>\n",
              "      <td>...</td>\n",
              "      <td>...</td>\n",
              "      <td>...</td>\n",
              "      <td>...</td>\n",
              "      <td>...</td>\n",
              "    </tr>\n",
              "    <tr>\n",
              "      <th>2023-04-30</th>\n",
              "      <td>168.490005</td>\n",
              "      <td>169.850006</td>\n",
              "      <td>167.880005</td>\n",
              "      <td>169.679993</td>\n",
              "      <td>169.217117</td>\n",
              "      <td>55209200</td>\n",
              "    </tr>\n",
              "    <tr>\n",
              "      <th>2023-05-31</th>\n",
              "      <td>177.330002</td>\n",
              "      <td>179.350006</td>\n",
              "      <td>176.759995</td>\n",
              "      <td>177.250000</td>\n",
              "      <td>177.010971</td>\n",
              "      <td>99625300</td>\n",
              "    </tr>\n",
              "    <tr>\n",
              "      <th>2023-06-30</th>\n",
              "      <td>191.630005</td>\n",
              "      <td>194.479996</td>\n",
              "      <td>191.259995</td>\n",
              "      <td>193.970001</td>\n",
              "      <td>193.708420</td>\n",
              "      <td>85069600</td>\n",
              "    </tr>\n",
              "    <tr>\n",
              "      <th>2023-07-31</th>\n",
              "      <td>196.059998</td>\n",
              "      <td>196.490005</td>\n",
              "      <td>195.259995</td>\n",
              "      <td>196.449997</td>\n",
              "      <td>196.185074</td>\n",
              "      <td>38824100</td>\n",
              "    </tr>\n",
              "    <tr>\n",
              "      <th>2023-08-31</th>\n",
              "      <td>187.839996</td>\n",
              "      <td>189.119995</td>\n",
              "      <td>187.479996</td>\n",
              "      <td>187.869995</td>\n",
              "      <td>187.869995</td>\n",
              "      <td>60794500</td>\n",
              "    </tr>\n",
              "  </tbody>\n",
              "</table>\n",
              "<p>140 rows × 6 columns</p>\n",
              "</div>\n",
              "    <div class=\"colab-df-buttons\">\n",
              "\n",
              "  <div class=\"colab-df-container\">\n",
              "    <button class=\"colab-df-convert\" onclick=\"convertToInteractive('df-c7768cda-6fca-46ee-9d50-91f4d403255f')\"\n",
              "            title=\"Convert this dataframe to an interactive table.\"\n",
              "            style=\"display:none;\">\n",
              "\n",
              "  <svg xmlns=\"http://www.w3.org/2000/svg\" height=\"24px\" viewBox=\"0 -960 960 960\">\n",
              "    <path d=\"M120-120v-720h720v720H120Zm60-500h600v-160H180v160Zm220 220h160v-160H400v160Zm0 220h160v-160H400v160ZM180-400h160v-160H180v160Zm440 0h160v-160H620v160ZM180-180h160v-160H180v160Zm440 0h160v-160H620v160Z\"/>\n",
              "  </svg>\n",
              "    </button>\n",
              "\n",
              "  <style>\n",
              "    .colab-df-container {\n",
              "      display:flex;\n",
              "      gap: 12px;\n",
              "    }\n",
              "\n",
              "    .colab-df-convert {\n",
              "      background-color: #E8F0FE;\n",
              "      border: none;\n",
              "      border-radius: 50%;\n",
              "      cursor: pointer;\n",
              "      display: none;\n",
              "      fill: #1967D2;\n",
              "      height: 32px;\n",
              "      padding: 0 0 0 0;\n",
              "      width: 32px;\n",
              "    }\n",
              "\n",
              "    .colab-df-convert:hover {\n",
              "      background-color: #E2EBFA;\n",
              "      box-shadow: 0px 1px 2px rgba(60, 64, 67, 0.3), 0px 1px 3px 1px rgba(60, 64, 67, 0.15);\n",
              "      fill: #174EA6;\n",
              "    }\n",
              "\n",
              "    .colab-df-buttons div {\n",
              "      margin-bottom: 4px;\n",
              "    }\n",
              "\n",
              "    [theme=dark] .colab-df-convert {\n",
              "      background-color: #3B4455;\n",
              "      fill: #D2E3FC;\n",
              "    }\n",
              "\n",
              "    [theme=dark] .colab-df-convert:hover {\n",
              "      background-color: #434B5C;\n",
              "      box-shadow: 0px 1px 3px 1px rgba(0, 0, 0, 0.15);\n",
              "      filter: drop-shadow(0px 1px 2px rgba(0, 0, 0, 0.3));\n",
              "      fill: #FFFFFF;\n",
              "    }\n",
              "  </style>\n",
              "\n",
              "    <script>\n",
              "      const buttonEl =\n",
              "        document.querySelector('#df-c7768cda-6fca-46ee-9d50-91f4d403255f button.colab-df-convert');\n",
              "      buttonEl.style.display =\n",
              "        google.colab.kernel.accessAllowed ? 'block' : 'none';\n",
              "\n",
              "      async function convertToInteractive(key) {\n",
              "        const element = document.querySelector('#df-c7768cda-6fca-46ee-9d50-91f4d403255f');\n",
              "        const dataTable =\n",
              "          await google.colab.kernel.invokeFunction('convertToInteractive',\n",
              "                                                    [key], {});\n",
              "        if (!dataTable) return;\n",
              "\n",
              "        const docLinkHtml = 'Like what you see? Visit the ' +\n",
              "          '<a target=\"_blank\" href=https://colab.research.google.com/notebooks/data_table.ipynb>data table notebook</a>'\n",
              "          + ' to learn more about interactive tables.';\n",
              "        element.innerHTML = '';\n",
              "        dataTable['output_type'] = 'display_data';\n",
              "        await google.colab.output.renderOutput(dataTable, element);\n",
              "        const docLink = document.createElement('div');\n",
              "        docLink.innerHTML = docLinkHtml;\n",
              "        element.appendChild(docLink);\n",
              "      }\n",
              "    </script>\n",
              "  </div>\n",
              "\n",
              "\n",
              "<div id=\"df-309db4c1-4dc7-46b5-959b-e0ca671b157a\">\n",
              "  <button class=\"colab-df-quickchart\" onclick=\"quickchart('df-309db4c1-4dc7-46b5-959b-e0ca671b157a')\"\n",
              "            title=\"Suggest charts.\"\n",
              "            style=\"display:none;\">\n",
              "\n",
              "<svg xmlns=\"http://www.w3.org/2000/svg\" height=\"24px\"viewBox=\"0 0 24 24\"\n",
              "     width=\"24px\">\n",
              "    <g>\n",
              "        <path d=\"M19 3H5c-1.1 0-2 .9-2 2v14c0 1.1.9 2 2 2h14c1.1 0 2-.9 2-2V5c0-1.1-.9-2-2-2zM9 17H7v-7h2v7zm4 0h-2V7h2v10zm4 0h-2v-4h2v4z\"/>\n",
              "    </g>\n",
              "</svg>\n",
              "  </button>\n",
              "\n",
              "<style>\n",
              "  .colab-df-quickchart {\n",
              "      --bg-color: #E8F0FE;\n",
              "      --fill-color: #1967D2;\n",
              "      --hover-bg-color: #E2EBFA;\n",
              "      --hover-fill-color: #174EA6;\n",
              "      --disabled-fill-color: #AAA;\n",
              "      --disabled-bg-color: #DDD;\n",
              "  }\n",
              "\n",
              "  [theme=dark] .colab-df-quickchart {\n",
              "      --bg-color: #3B4455;\n",
              "      --fill-color: #D2E3FC;\n",
              "      --hover-bg-color: #434B5C;\n",
              "      --hover-fill-color: #FFFFFF;\n",
              "      --disabled-bg-color: #3B4455;\n",
              "      --disabled-fill-color: #666;\n",
              "  }\n",
              "\n",
              "  .colab-df-quickchart {\n",
              "    background-color: var(--bg-color);\n",
              "    border: none;\n",
              "    border-radius: 50%;\n",
              "    cursor: pointer;\n",
              "    display: none;\n",
              "    fill: var(--fill-color);\n",
              "    height: 32px;\n",
              "    padding: 0;\n",
              "    width: 32px;\n",
              "  }\n",
              "\n",
              "  .colab-df-quickchart:hover {\n",
              "    background-color: var(--hover-bg-color);\n",
              "    box-shadow: 0 1px 2px rgba(60, 64, 67, 0.3), 0 1px 3px 1px rgba(60, 64, 67, 0.15);\n",
              "    fill: var(--button-hover-fill-color);\n",
              "  }\n",
              "\n",
              "  .colab-df-quickchart-complete:disabled,\n",
              "  .colab-df-quickchart-complete:disabled:hover {\n",
              "    background-color: var(--disabled-bg-color);\n",
              "    fill: var(--disabled-fill-color);\n",
              "    box-shadow: none;\n",
              "  }\n",
              "\n",
              "  .colab-df-spinner {\n",
              "    border: 2px solid var(--fill-color);\n",
              "    border-color: transparent;\n",
              "    border-bottom-color: var(--fill-color);\n",
              "    animation:\n",
              "      spin 1s steps(1) infinite;\n",
              "  }\n",
              "\n",
              "  @keyframes spin {\n",
              "    0% {\n",
              "      border-color: transparent;\n",
              "      border-bottom-color: var(--fill-color);\n",
              "      border-left-color: var(--fill-color);\n",
              "    }\n",
              "    20% {\n",
              "      border-color: transparent;\n",
              "      border-left-color: var(--fill-color);\n",
              "      border-top-color: var(--fill-color);\n",
              "    }\n",
              "    30% {\n",
              "      border-color: transparent;\n",
              "      border-left-color: var(--fill-color);\n",
              "      border-top-color: var(--fill-color);\n",
              "      border-right-color: var(--fill-color);\n",
              "    }\n",
              "    40% {\n",
              "      border-color: transparent;\n",
              "      border-right-color: var(--fill-color);\n",
              "      border-top-color: var(--fill-color);\n",
              "    }\n",
              "    60% {\n",
              "      border-color: transparent;\n",
              "      border-right-color: var(--fill-color);\n",
              "    }\n",
              "    80% {\n",
              "      border-color: transparent;\n",
              "      border-right-color: var(--fill-color);\n",
              "      border-bottom-color: var(--fill-color);\n",
              "    }\n",
              "    90% {\n",
              "      border-color: transparent;\n",
              "      border-bottom-color: var(--fill-color);\n",
              "    }\n",
              "  }\n",
              "</style>\n",
              "\n",
              "  <script>\n",
              "    async function quickchart(key) {\n",
              "      const quickchartButtonEl =\n",
              "        document.querySelector('#' + key + ' button');\n",
              "      quickchartButtonEl.disabled = true;  // To prevent multiple clicks.\n",
              "      quickchartButtonEl.classList.add('colab-df-spinner');\n",
              "      try {\n",
              "        const charts = await google.colab.kernel.invokeFunction(\n",
              "            'suggestCharts', [key], {});\n",
              "      } catch (error) {\n",
              "        console.error('Error during call to suggestCharts:', error);\n",
              "      }\n",
              "      quickchartButtonEl.classList.remove('colab-df-spinner');\n",
              "      quickchartButtonEl.classList.add('colab-df-quickchart-complete');\n",
              "    }\n",
              "    (() => {\n",
              "      let quickchartButtonEl =\n",
              "        document.querySelector('#df-309db4c1-4dc7-46b5-959b-e0ca671b157a button');\n",
              "      quickchartButtonEl.style.display =\n",
              "        google.colab.kernel.accessAllowed ? 'block' : 'none';\n",
              "    })();\n",
              "  </script>\n",
              "</div>\n",
              "    </div>\n",
              "  </div>\n"
            ]
          },
          "metadata": {},
          "execution_count": 57
        }
      ],
      "source": [
        "AAPL = AAPL.resample('M').last()\n",
        "AAPL"
      ]
    },
    {
      "cell_type": "code",
      "execution_count": 58,
      "metadata": {
        "colab": {
          "base_uri": "https://localhost:8080/",
          "height": 455
        },
        "id": "Ye8WZySbadSq",
        "outputId": "2a15d76e-e178-4fc4-e2de-37156f03ae5b"
      },
      "outputs": [
        {
          "output_type": "execute_result",
          "data": {
            "text/plain": [
              "                  Open        High         Low       Close   Adj Close  \\\n",
              "Date                                                                     \n",
              "2012-01-31   16.271070   16.365713   16.181070   16.302856   13.837809   \n",
              "2012-02-29   19.341429   19.557501   19.132143   19.372856   16.443611   \n",
              "2012-03-31   21.741785   21.805714   21.355000   21.412500   18.174854   \n",
              "2012-04-30   21.350000   21.371429   20.821428   20.856428   17.702864   \n",
              "2012-05-31   20.740713   20.767857   20.409286   20.633215   17.513399   \n",
              "...                ...         ...         ...         ...         ...   \n",
              "2023-04-30  168.490005  169.850006  167.880005  169.679993  169.217117   \n",
              "2023-05-31  177.330002  179.350006  176.759995  177.250000  177.010971   \n",
              "2023-06-30  191.630005  194.479996  191.259995  193.970001  193.708420   \n",
              "2023-07-31  196.059998  196.490005  195.259995  196.449997  196.185074   \n",
              "2023-08-31  187.839996  189.119995  187.479996  187.869995  187.869995   \n",
              "\n",
              "               Volume  RetMonthly  \n",
              "Date                               \n",
              "2012-01-31  391683600         NaN  \n",
              "2012-02-29  952011200    0.188310  \n",
              "2012-03-31  731038000    0.105284  \n",
              "2012-04-30  506144800   -0.025969  \n",
              "2012-05-31  491674400   -0.010702  \n",
              "...               ...         ...  \n",
              "2023-04-30   55209200    0.028987  \n",
              "2023-05-31   99625300    0.046058  \n",
              "2023-06-30   85069600    0.094330  \n",
              "2023-07-31   38824100    0.012785  \n",
              "2023-08-31   60794500   -0.042384  \n",
              "\n",
              "[140 rows x 7 columns]"
            ],
            "text/html": [
              "\n",
              "  <div id=\"df-49dea7a8-1eed-42f3-8e78-e8002f8bbd49\" class=\"colab-df-container\">\n",
              "    <div>\n",
              "<style scoped>\n",
              "    .dataframe tbody tr th:only-of-type {\n",
              "        vertical-align: middle;\n",
              "    }\n",
              "\n",
              "    .dataframe tbody tr th {\n",
              "        vertical-align: top;\n",
              "    }\n",
              "\n",
              "    .dataframe thead th {\n",
              "        text-align: right;\n",
              "    }\n",
              "</style>\n",
              "<table border=\"1\" class=\"dataframe\">\n",
              "  <thead>\n",
              "    <tr style=\"text-align: right;\">\n",
              "      <th></th>\n",
              "      <th>Open</th>\n",
              "      <th>High</th>\n",
              "      <th>Low</th>\n",
              "      <th>Close</th>\n",
              "      <th>Adj Close</th>\n",
              "      <th>Volume</th>\n",
              "      <th>RetMonthly</th>\n",
              "    </tr>\n",
              "    <tr>\n",
              "      <th>Date</th>\n",
              "      <th></th>\n",
              "      <th></th>\n",
              "      <th></th>\n",
              "      <th></th>\n",
              "      <th></th>\n",
              "      <th></th>\n",
              "      <th></th>\n",
              "    </tr>\n",
              "  </thead>\n",
              "  <tbody>\n",
              "    <tr>\n",
              "      <th>2012-01-31</th>\n",
              "      <td>16.271070</td>\n",
              "      <td>16.365713</td>\n",
              "      <td>16.181070</td>\n",
              "      <td>16.302856</td>\n",
              "      <td>13.837809</td>\n",
              "      <td>391683600</td>\n",
              "      <td>NaN</td>\n",
              "    </tr>\n",
              "    <tr>\n",
              "      <th>2012-02-29</th>\n",
              "      <td>19.341429</td>\n",
              "      <td>19.557501</td>\n",
              "      <td>19.132143</td>\n",
              "      <td>19.372856</td>\n",
              "      <td>16.443611</td>\n",
              "      <td>952011200</td>\n",
              "      <td>0.188310</td>\n",
              "    </tr>\n",
              "    <tr>\n",
              "      <th>2012-03-31</th>\n",
              "      <td>21.741785</td>\n",
              "      <td>21.805714</td>\n",
              "      <td>21.355000</td>\n",
              "      <td>21.412500</td>\n",
              "      <td>18.174854</td>\n",
              "      <td>731038000</td>\n",
              "      <td>0.105284</td>\n",
              "    </tr>\n",
              "    <tr>\n",
              "      <th>2012-04-30</th>\n",
              "      <td>21.350000</td>\n",
              "      <td>21.371429</td>\n",
              "      <td>20.821428</td>\n",
              "      <td>20.856428</td>\n",
              "      <td>17.702864</td>\n",
              "      <td>506144800</td>\n",
              "      <td>-0.025969</td>\n",
              "    </tr>\n",
              "    <tr>\n",
              "      <th>2012-05-31</th>\n",
              "      <td>20.740713</td>\n",
              "      <td>20.767857</td>\n",
              "      <td>20.409286</td>\n",
              "      <td>20.633215</td>\n",
              "      <td>17.513399</td>\n",
              "      <td>491674400</td>\n",
              "      <td>-0.010702</td>\n",
              "    </tr>\n",
              "    <tr>\n",
              "      <th>...</th>\n",
              "      <td>...</td>\n",
              "      <td>...</td>\n",
              "      <td>...</td>\n",
              "      <td>...</td>\n",
              "      <td>...</td>\n",
              "      <td>...</td>\n",
              "      <td>...</td>\n",
              "    </tr>\n",
              "    <tr>\n",
              "      <th>2023-04-30</th>\n",
              "      <td>168.490005</td>\n",
              "      <td>169.850006</td>\n",
              "      <td>167.880005</td>\n",
              "      <td>169.679993</td>\n",
              "      <td>169.217117</td>\n",
              "      <td>55209200</td>\n",
              "      <td>0.028987</td>\n",
              "    </tr>\n",
              "    <tr>\n",
              "      <th>2023-05-31</th>\n",
              "      <td>177.330002</td>\n",
              "      <td>179.350006</td>\n",
              "      <td>176.759995</td>\n",
              "      <td>177.250000</td>\n",
              "      <td>177.010971</td>\n",
              "      <td>99625300</td>\n",
              "      <td>0.046058</td>\n",
              "    </tr>\n",
              "    <tr>\n",
              "      <th>2023-06-30</th>\n",
              "      <td>191.630005</td>\n",
              "      <td>194.479996</td>\n",
              "      <td>191.259995</td>\n",
              "      <td>193.970001</td>\n",
              "      <td>193.708420</td>\n",
              "      <td>85069600</td>\n",
              "      <td>0.094330</td>\n",
              "    </tr>\n",
              "    <tr>\n",
              "      <th>2023-07-31</th>\n",
              "      <td>196.059998</td>\n",
              "      <td>196.490005</td>\n",
              "      <td>195.259995</td>\n",
              "      <td>196.449997</td>\n",
              "      <td>196.185074</td>\n",
              "      <td>38824100</td>\n",
              "      <td>0.012785</td>\n",
              "    </tr>\n",
              "    <tr>\n",
              "      <th>2023-08-31</th>\n",
              "      <td>187.839996</td>\n",
              "      <td>189.119995</td>\n",
              "      <td>187.479996</td>\n",
              "      <td>187.869995</td>\n",
              "      <td>187.869995</td>\n",
              "      <td>60794500</td>\n",
              "      <td>-0.042384</td>\n",
              "    </tr>\n",
              "  </tbody>\n",
              "</table>\n",
              "<p>140 rows × 7 columns</p>\n",
              "</div>\n",
              "    <div class=\"colab-df-buttons\">\n",
              "\n",
              "  <div class=\"colab-df-container\">\n",
              "    <button class=\"colab-df-convert\" onclick=\"convertToInteractive('df-49dea7a8-1eed-42f3-8e78-e8002f8bbd49')\"\n",
              "            title=\"Convert this dataframe to an interactive table.\"\n",
              "            style=\"display:none;\">\n",
              "\n",
              "  <svg xmlns=\"http://www.w3.org/2000/svg\" height=\"24px\" viewBox=\"0 -960 960 960\">\n",
              "    <path d=\"M120-120v-720h720v720H120Zm60-500h600v-160H180v160Zm220 220h160v-160H400v160Zm0 220h160v-160H400v160ZM180-400h160v-160H180v160Zm440 0h160v-160H620v160ZM180-180h160v-160H180v160Zm440 0h160v-160H620v160Z\"/>\n",
              "  </svg>\n",
              "    </button>\n",
              "\n",
              "  <style>\n",
              "    .colab-df-container {\n",
              "      display:flex;\n",
              "      gap: 12px;\n",
              "    }\n",
              "\n",
              "    .colab-df-convert {\n",
              "      background-color: #E8F0FE;\n",
              "      border: none;\n",
              "      border-radius: 50%;\n",
              "      cursor: pointer;\n",
              "      display: none;\n",
              "      fill: #1967D2;\n",
              "      height: 32px;\n",
              "      padding: 0 0 0 0;\n",
              "      width: 32px;\n",
              "    }\n",
              "\n",
              "    .colab-df-convert:hover {\n",
              "      background-color: #E2EBFA;\n",
              "      box-shadow: 0px 1px 2px rgba(60, 64, 67, 0.3), 0px 1px 3px 1px rgba(60, 64, 67, 0.15);\n",
              "      fill: #174EA6;\n",
              "    }\n",
              "\n",
              "    .colab-df-buttons div {\n",
              "      margin-bottom: 4px;\n",
              "    }\n",
              "\n",
              "    [theme=dark] .colab-df-convert {\n",
              "      background-color: #3B4455;\n",
              "      fill: #D2E3FC;\n",
              "    }\n",
              "\n",
              "    [theme=dark] .colab-df-convert:hover {\n",
              "      background-color: #434B5C;\n",
              "      box-shadow: 0px 1px 3px 1px rgba(0, 0, 0, 0.15);\n",
              "      filter: drop-shadow(0px 1px 2px rgba(0, 0, 0, 0.3));\n",
              "      fill: #FFFFFF;\n",
              "    }\n",
              "  </style>\n",
              "\n",
              "    <script>\n",
              "      const buttonEl =\n",
              "        document.querySelector('#df-49dea7a8-1eed-42f3-8e78-e8002f8bbd49 button.colab-df-convert');\n",
              "      buttonEl.style.display =\n",
              "        google.colab.kernel.accessAllowed ? 'block' : 'none';\n",
              "\n",
              "      async function convertToInteractive(key) {\n",
              "        const element = document.querySelector('#df-49dea7a8-1eed-42f3-8e78-e8002f8bbd49');\n",
              "        const dataTable =\n",
              "          await google.colab.kernel.invokeFunction('convertToInteractive',\n",
              "                                                    [key], {});\n",
              "        if (!dataTable) return;\n",
              "\n",
              "        const docLinkHtml = 'Like what you see? Visit the ' +\n",
              "          '<a target=\"_blank\" href=https://colab.research.google.com/notebooks/data_table.ipynb>data table notebook</a>'\n",
              "          + ' to learn more about interactive tables.';\n",
              "        element.innerHTML = '';\n",
              "        dataTable['output_type'] = 'display_data';\n",
              "        await google.colab.output.renderOutput(dataTable, element);\n",
              "        const docLink = document.createElement('div');\n",
              "        docLink.innerHTML = docLinkHtml;\n",
              "        element.appendChild(docLink);\n",
              "      }\n",
              "    </script>\n",
              "  </div>\n",
              "\n",
              "\n",
              "<div id=\"df-47145093-7f2b-411b-84d1-39ca2d880b5c\">\n",
              "  <button class=\"colab-df-quickchart\" onclick=\"quickchart('df-47145093-7f2b-411b-84d1-39ca2d880b5c')\"\n",
              "            title=\"Suggest charts.\"\n",
              "            style=\"display:none;\">\n",
              "\n",
              "<svg xmlns=\"http://www.w3.org/2000/svg\" height=\"24px\"viewBox=\"0 0 24 24\"\n",
              "     width=\"24px\">\n",
              "    <g>\n",
              "        <path d=\"M19 3H5c-1.1 0-2 .9-2 2v14c0 1.1.9 2 2 2h14c1.1 0 2-.9 2-2V5c0-1.1-.9-2-2-2zM9 17H7v-7h2v7zm4 0h-2V7h2v10zm4 0h-2v-4h2v4z\"/>\n",
              "    </g>\n",
              "</svg>\n",
              "  </button>\n",
              "\n",
              "<style>\n",
              "  .colab-df-quickchart {\n",
              "      --bg-color: #E8F0FE;\n",
              "      --fill-color: #1967D2;\n",
              "      --hover-bg-color: #E2EBFA;\n",
              "      --hover-fill-color: #174EA6;\n",
              "      --disabled-fill-color: #AAA;\n",
              "      --disabled-bg-color: #DDD;\n",
              "  }\n",
              "\n",
              "  [theme=dark] .colab-df-quickchart {\n",
              "      --bg-color: #3B4455;\n",
              "      --fill-color: #D2E3FC;\n",
              "      --hover-bg-color: #434B5C;\n",
              "      --hover-fill-color: #FFFFFF;\n",
              "      --disabled-bg-color: #3B4455;\n",
              "      --disabled-fill-color: #666;\n",
              "  }\n",
              "\n",
              "  .colab-df-quickchart {\n",
              "    background-color: var(--bg-color);\n",
              "    border: none;\n",
              "    border-radius: 50%;\n",
              "    cursor: pointer;\n",
              "    display: none;\n",
              "    fill: var(--fill-color);\n",
              "    height: 32px;\n",
              "    padding: 0;\n",
              "    width: 32px;\n",
              "  }\n",
              "\n",
              "  .colab-df-quickchart:hover {\n",
              "    background-color: var(--hover-bg-color);\n",
              "    box-shadow: 0 1px 2px rgba(60, 64, 67, 0.3), 0 1px 3px 1px rgba(60, 64, 67, 0.15);\n",
              "    fill: var(--button-hover-fill-color);\n",
              "  }\n",
              "\n",
              "  .colab-df-quickchart-complete:disabled,\n",
              "  .colab-df-quickchart-complete:disabled:hover {\n",
              "    background-color: var(--disabled-bg-color);\n",
              "    fill: var(--disabled-fill-color);\n",
              "    box-shadow: none;\n",
              "  }\n",
              "\n",
              "  .colab-df-spinner {\n",
              "    border: 2px solid var(--fill-color);\n",
              "    border-color: transparent;\n",
              "    border-bottom-color: var(--fill-color);\n",
              "    animation:\n",
              "      spin 1s steps(1) infinite;\n",
              "  }\n",
              "\n",
              "  @keyframes spin {\n",
              "    0% {\n",
              "      border-color: transparent;\n",
              "      border-bottom-color: var(--fill-color);\n",
              "      border-left-color: var(--fill-color);\n",
              "    }\n",
              "    20% {\n",
              "      border-color: transparent;\n",
              "      border-left-color: var(--fill-color);\n",
              "      border-top-color: var(--fill-color);\n",
              "    }\n",
              "    30% {\n",
              "      border-color: transparent;\n",
              "      border-left-color: var(--fill-color);\n",
              "      border-top-color: var(--fill-color);\n",
              "      border-right-color: var(--fill-color);\n",
              "    }\n",
              "    40% {\n",
              "      border-color: transparent;\n",
              "      border-right-color: var(--fill-color);\n",
              "      border-top-color: var(--fill-color);\n",
              "    }\n",
              "    60% {\n",
              "      border-color: transparent;\n",
              "      border-right-color: var(--fill-color);\n",
              "    }\n",
              "    80% {\n",
              "      border-color: transparent;\n",
              "      border-right-color: var(--fill-color);\n",
              "      border-bottom-color: var(--fill-color);\n",
              "    }\n",
              "    90% {\n",
              "      border-color: transparent;\n",
              "      border-bottom-color: var(--fill-color);\n",
              "    }\n",
              "  }\n",
              "</style>\n",
              "\n",
              "  <script>\n",
              "    async function quickchart(key) {\n",
              "      const quickchartButtonEl =\n",
              "        document.querySelector('#' + key + ' button');\n",
              "      quickchartButtonEl.disabled = true;  // To prevent multiple clicks.\n",
              "      quickchartButtonEl.classList.add('colab-df-spinner');\n",
              "      try {\n",
              "        const charts = await google.colab.kernel.invokeFunction(\n",
              "            'suggestCharts', [key], {});\n",
              "      } catch (error) {\n",
              "        console.error('Error during call to suggestCharts:', error);\n",
              "      }\n",
              "      quickchartButtonEl.classList.remove('colab-df-spinner');\n",
              "      quickchartButtonEl.classList.add('colab-df-quickchart-complete');\n",
              "    }\n",
              "    (() => {\n",
              "      let quickchartButtonEl =\n",
              "        document.querySelector('#df-47145093-7f2b-411b-84d1-39ca2d880b5c button');\n",
              "      quickchartButtonEl.style.display =\n",
              "        google.colab.kernel.accessAllowed ? 'block' : 'none';\n",
              "    })();\n",
              "  </script>\n",
              "</div>\n",
              "    </div>\n",
              "  </div>\n"
            ]
          },
          "metadata": {},
          "execution_count": 58
        }
      ],
      "source": [
        "AAPL['RetMonthly'] = AAPL['Adj Close'].pct_change()\n",
        "AAPL"
      ]
    },
    {
      "cell_type": "code",
      "execution_count": 59,
      "metadata": {
        "colab": {
          "base_uri": "https://localhost:8080/",
          "height": 449
        },
        "id": "u-i7Iq-JyBf3",
        "outputId": "66a1141d-d07b-4b4a-8e28-16cc30d6364d"
      },
      "outputs": [
        {
          "output_type": "display_data",
          "data": {
            "text/plain": [
              "<Figure size 640x480 with 1 Axes>"
            ],
            "image/png": "[encoded data removed]"
          },
          "metadata": {}
        }
      ],
      "source": [
        "AAPL['RetMonthly'].plot();"
      ]
    },
    {
      "cell_type": "markdown",
      "metadata": {
        "id": "_p2O_FtQyBf4"
      },
      "source": [
        "Histogram plot of Apple monthly returns"
      ]
    },
    {
      "cell_type": "code",
      "execution_count": 60,
      "metadata": {
        "colab": {
          "base_uri": "https://localhost:8080/",
          "height": 470
        },
        "id": "0vMOAEhuyBf4",
        "outputId": "75347a7b-83c1-4bef-d0f9-0461a475f7cf"
      },
      "outputs": [
        {
          "output_type": "display_data",
          "data": {
            "text/plain": [
              "<Figure size 640x480 with 2 Axes>"
            ],
            "image/png": "[encoded data removed]"
          },
          "metadata": {}
        }
      ],
      "source": [
        "AAPL[['RetMonthly','Volume']].hist(bins = 10);"
      ]
    },
    {
      "cell_type": "markdown",
      "metadata": {
        "id": "XZMSX3QdyBf4"
      },
      "source": [
        "Calculating the cumulative returns for Apple."
      ]
    },
    {
      "cell_type": "code",
      "execution_count": 61,
      "metadata": {
        "colab": {
          "base_uri": "https://localhost:8080/",
          "height": 455
        },
        "id": "madaUi_4yBf5",
        "outputId": "f2d8ba2a-d44f-4ac8-fe34-cf7440dc62aa"
      },
      "outputs": [
        {
          "output_type": "execute_result",
          "data": {
            "text/plain": [
              "                  Open        High         Low       Close   Adj Close  \\\n",
              "Date                                                                     \n",
              "2012-01-31   16.271070   16.365713   16.181070   16.302856   13.837809   \n",
              "2012-02-29   19.341429   19.557501   19.132143   19.372856   16.443611   \n",
              "2012-03-31   21.741785   21.805714   21.355000   21.412500   18.174854   \n",
              "2012-04-30   21.350000   21.371429   20.821428   20.856428   17.702864   \n",
              "2012-05-31   20.740713   20.767857   20.409286   20.633215   17.513399   \n",
              "...                ...         ...         ...         ...         ...   \n",
              "2023-04-30  168.490005  169.850006  167.880005  169.679993  169.217117   \n",
              "2023-05-31  177.330002  179.350006  176.759995  177.250000  177.010971   \n",
              "2023-06-30  191.630005  194.479996  191.259995  193.970001  193.708420   \n",
              "2023-07-31  196.059998  196.490005  195.259995  196.449997  196.185074   \n",
              "2023-08-31  187.839996  189.119995  187.479996  187.869995  187.869995   \n",
              "\n",
              "               Volume  RetMonthly  CumRetMonthly  \n",
              "Date                                              \n",
              "2012-01-31  391683600         NaN            NaN  \n",
              "2012-02-29  952011200    0.188310       1.188310  \n",
              "2012-03-31  731038000    0.105284       1.313420  \n",
              "2012-04-30  506144800   -0.025969       1.279311  \n",
              "2012-05-31  491674400   -0.010702       1.265619  \n",
              "...               ...         ...            ...  \n",
              "2023-04-30   55209200    0.028987      12.228607  \n",
              "2023-05-31   99625300    0.046058      12.791835  \n",
              "2023-06-30   85069600    0.094330      13.998490  \n",
              "2023-07-31   38824100    0.012785      14.177467  \n",
              "2023-08-31   60794500   -0.042384      13.576571  \n",
              "\n",
              "[140 rows x 8 columns]"
            ],
            "text/html": [
              "\n",
              "  <div id=\"df-12a8cbf7-4137-46a7-b04a-60ae42431802\" class=\"colab-df-container\">\n",
              "    <div>\n",
              "<style scoped>\n",
              "    .dataframe tbody tr th:only-of-type {\n",
              "        vertical-align: middle;\n",
              "    }\n",
              "\n",
              "    .dataframe tbody tr th {\n",
              "        vertical-align: top;\n",
              "    }\n",
              "\n",
              "    .dataframe thead th {\n",
              "        text-align: right;\n",
              "    }\n",
              "</style>\n",
              "<table border=\"1\" class=\"dataframe\">\n",
              "  <thead>\n",
              "    <tr style=\"text-align: right;\">\n",
              "      <th></th>\n",
              "      <th>Open</th>\n",
              "      <th>High</th>\n",
              "      <th>Low</th>\n",
              "      <th>Close</th>\n",
              "      <th>Adj Close</th>\n",
              "      <th>Volume</th>\n",
              "      <th>RetMonthly</th>\n",
              "      <th>CumRetMonthly</th>\n",
              "    </tr>\n",
              "    <tr>\n",
              "      <th>Date</th>\n",
              "      <th></th>\n",
              "      <th></th>\n",
              "      <th></th>\n",
              "      <th></th>\n",
              "      <th></th>\n",
              "      <th></th>\n",
              "      <th></th>\n",
              "      <th></th>\n",
              "    </tr>\n",
              "  </thead>\n",
              "  <tbody>\n",
              "    <tr>\n",
              "      <th>2012-01-31</th>\n",
              "      <td>16.271070</td>\n",
              "      <td>16.365713</td>\n",
              "      <td>16.181070</td>\n",
              "      <td>16.302856</td>\n",
              "      <td>13.837809</td>\n",
              "      <td>391683600</td>\n",
              "      <td>NaN</td>\n",
              "      <td>NaN</td>\n",
              "    </tr>\n",
              "    <tr>\n",
              "      <th>2012-02-29</th>\n",
              "      <td>19.341429</td>\n",
              "      <td>19.557501</td>\n",
              "      <td>19.132143</td>\n",
              "      <td>19.372856</td>\n",
              "      <td>16.443611</td>\n",
              "      <td>952011200</td>\n",
              "      <td>0.188310</td>\n",
              "      <td>1.188310</td>\n",
              "    </tr>\n",
              "    <tr>\n",
              "      <th>2012-03-31</th>\n",
              "      <td>21.741785</td>\n",
              "      <td>21.805714</td>\n",
              "      <td>21.355000</td>\n",
              "      <td>21.412500</td>\n",
              "      <td>18.174854</td>\n",
              "      <td>731038000</td>\n",
              "      <td>0.105284</td>\n",
              "      <td>1.313420</td>\n",
              "    </tr>\n",
              "    <tr>\n",
              "      <th>2012-04-30</th>\n",
              "      <td>21.350000</td>\n",
              "      <td>21.371429</td>\n",
              "      <td>20.821428</td>\n",
              "      <td>20.856428</td>\n",
              "      <td>17.702864</td>\n",
              "      <td>506144800</td>\n",
              "      <td>-0.025969</td>\n",
              "      <td>1.279311</td>\n",
              "    </tr>\n",
              "    <tr>\n",
              "      <th>2012-05-31</th>\n",
              "      <td>20.740713</td>\n",
              "      <td>20.767857</td>\n",
              "      <td>20.409286</td>\n",
              "      <td>20.633215</td>\n",
              "      <td>17.513399</td>\n",
              "      <td>491674400</td>\n",
              "      <td>-0.010702</td>\n",
              "      <td>1.265619</td>\n",
              "    </tr>\n",
              "    <tr>\n",
              "      <th>...</th>\n",
              "      <td>...</td>\n",
              "      <td>...</td>\n",
              "      <td>...</td>\n",
              "      <td>...</td>\n",
              "      <td>...</td>\n",
              "      <td>...</td>\n",
              "      <td>...</td>\n",
              "      <td>...</td>\n",
              "    </tr>\n",
              "    <tr>\n",
              "      <th>2023-04-30</th>\n",
              "      <td>168.490005</td>\n",
              "      <td>169.850006</td>\n",
              "      <td>167.880005</td>\n",
              "      <td>169.679993</td>\n",
              "      <td>169.217117</td>\n",
              "      <td>55209200</td>\n",
              "      <td>0.028987</td>\n",
              "      <td>12.228607</td>\n",
              "    </tr>\n",
              "    <tr>\n",
              "      <th>2023-05-31</th>\n",
              "      <td>177.330002</td>\n",
              "      <td>179.350006</td>\n",
              "      <td>176.759995</td>\n",
              "      <td>177.250000</td>\n",
              "      <td>177.010971</td>\n",
              "      <td>99625300</td>\n",
              "      <td>0.046058</td>\n",
              "      <td>12.791835</td>\n",
              "    </tr>\n",
              "    <tr>\n",
              "      <th>2023-06-30</th>\n",
              "      <td>191.630005</td>\n",
              "      <td>194.479996</td>\n",
              "      <td>191.259995</td>\n",
              "      <td>193.970001</td>\n",
              "      <td>193.708420</td>\n",
              "      <td>85069600</td>\n",
              "      <td>0.094330</td>\n",
              "      <td>13.998490</td>\n",
              "    </tr>\n",
              "    <tr>\n",
              "      <th>2023-07-31</th>\n",
              "      <td>196.059998</td>\n",
              "      <td>196.490005</td>\n",
              "      <td>195.259995</td>\n",
              "      <td>196.449997</td>\n",
              "      <td>196.185074</td>\n",
              "      <td>38824100</td>\n",
              "      <td>0.012785</td>\n",
              "      <td>14.177467</td>\n",
              "    </tr>\n",
              "    <tr>\n",
              "      <th>2023-08-31</th>\n",
              "      <td>187.839996</td>\n",
              "      <td>189.119995</td>\n",
              "      <td>187.479996</td>\n",
              "      <td>187.869995</td>\n",
              "      <td>187.869995</td>\n",
              "      <td>60794500</td>\n",
              "      <td>-0.042384</td>\n",
              "      <td>13.576571</td>\n",
              "    </tr>\n",
              "  </tbody>\n",
              "</table>\n",
              "<p>140 rows × 8 columns</p>\n",
              "</div>\n",
              "    <div class=\"colab-df-buttons\">\n",
              "\n",
              "  <div class=\"colab-df-container\">\n",
              "    <button class=\"colab-df-convert\" onclick=\"convertToInteractive('df-12a8cbf7-4137-46a7-b04a-60ae42431802')\"\n",
              "            title=\"Convert this dataframe to an interactive table.\"\n",
              "            style=\"display:none;\">\n",
              "\n",
              "  <svg xmlns=\"http://www.w3.org/2000/svg\" height=\"24px\" viewBox=\"0 -960 960 960\">\n",
              "    <path d=\"M120-120v-720h720v720H120Zm60-500h600v-160H180v160Zm220 220h160v-160H400v160Zm0 220h160v-160H400v160ZM180-400h160v-160H180v160Zm440 0h160v-160H620v160ZM180-180h160v-160H180v160Zm440 0h160v-160H620v160Z\"/>\n",
              "  </svg>\n",
              "    </button>\n",
              "\n",
              "  <style>\n",
              "    .colab-df-container {\n",
              "      display:flex;\n",
              "      gap: 12px;\n",
              "    }\n",
              "\n",
              "    .colab-df-convert {\n",
              "      background-color: #E8F0FE;\n",
              "      border: none;\n",
              "      border-radius: 50%;\n",
              "      cursor: pointer;\n",
              "      display: none;\n",
              "      fill: #1967D2;\n",
              "      height: 32px;\n",
              "      padding: 0 0 0 0;\n",
              "      width: 32px;\n",
              "    }\n",
              "\n",
              "    .colab-df-convert:hover {\n",
              "      background-color: #E2EBFA;\n",
              "      box-shadow: 0px 1px 2px rgba(60, 64, 67, 0.3), 0px 1px 3px 1px rgba(60, 64, 67, 0.15);\n",
              "      fill: #174EA6;\n",
              "    }\n",
              "\n",
              "    .colab-df-buttons div {\n",
              "      margin-bottom: 4px;\n",
              "    }\n",
              "\n",
              "    [theme=dark] .colab-df-convert {\n",
              "      background-color: #3B4455;\n",
              "      fill: #D2E3FC;\n",
              "    }\n",
              "\n",
              "    [theme=dark] .colab-df-convert:hover {\n",
              "      background-color: #434B5C;\n",
              "      box-shadow: 0px 1px 3px 1px rgba(0, 0, 0, 0.15);\n",
              "      filter: drop-shadow(0px 1px 2px rgba(0, 0, 0, 0.3));\n",
              "      fill: #FFFFFF;\n",
              "    }\n",
              "  </style>\n",
              "\n",
              "    <script>\n",
              "      const buttonEl =\n",
              "        document.querySelector('#df-12a8cbf7-4137-46a7-b04a-60ae42431802 button.colab-df-convert');\n",
              "      buttonEl.style.display =\n",
              "        google.colab.kernel.accessAllowed ? 'block' : 'none';\n",
              "\n",
              "      async function convertToInteractive(key) {\n",
              "        const element = document.querySelector('#df-12a8cbf7-4137-46a7-b04a-60ae42431802');\n",
              "        const dataTable =\n",
              "          await google.colab.kernel.invokeFunction('convertToInteractive',\n",
              "                                                    [key], {});\n",
              "        if (!dataTable) return;\n",
              "\n",
              "        const docLinkHtml = 'Like what you see? Visit the ' +\n",
              "          '<a target=\"_blank\" href=https://colab.research.google.com/notebooks/data_table.ipynb>data table notebook</a>'\n",
              "          + ' to learn more about interactive tables.';\n",
              "        element.innerHTML = '';\n",
              "        dataTable['output_type'] = 'display_data';\n",
              "        await google.colab.output.renderOutput(dataTable, element);\n",
              "        const docLink = document.createElement('div');\n",
              "        docLink.innerHTML = docLinkHtml;\n",
              "        element.appendChild(docLink);\n",
              "      }\n",
              "    </script>\n",
              "  </div>\n",
              "\n",
              "\n",
              "<div id=\"df-fc4c0ea4-5e24-4a14-b934-d3cd555e24a9\">\n",
              "  <button class=\"colab-df-quickchart\" onclick=\"quickchart('df-fc4c0ea4-5e24-4a14-b934-d3cd555e24a9')\"\n",
              "            title=\"Suggest charts.\"\n",
              "            style=\"display:none;\">\n",
              "\n",
              "<svg xmlns=\"http://www.w3.org/2000/svg\" height=\"24px\"viewBox=\"0 0 24 24\"\n",
              "     width=\"24px\">\n",
              "    <g>\n",
              "        <path d=\"M19 3H5c-1.1 0-2 .9-2 2v14c0 1.1.9 2 2 2h14c1.1 0 2-.9 2-2V5c0-1.1-.9-2-2-2zM9 17H7v-7h2v7zm4 0h-2V7h2v10zm4 0h-2v-4h2v4z\"/>\n",
              "    </g>\n",
              "</svg>\n",
              "  </button>\n",
              "\n",
              "<style>\n",
              "  .colab-df-quickchart {\n",
              "      --bg-color: #E8F0FE;\n",
              "      --fill-color: #1967D2;\n",
              "      --hover-bg-color: #E2EBFA;\n",
              "      --hover-fill-color: #174EA6;\n",
              "      --disabled-fill-color: #AAA;\n",
              "      --disabled-bg-color: #DDD;\n",
              "  }\n",
              "\n",
              "  [theme=dark] .colab-df-quickchart {\n",
              "      --bg-color: #3B4455;\n",
              "      --fill-color: #D2E3FC;\n",
              "      --hover-bg-color: #434B5C;\n",
              "      --hover-fill-color: #FFFFFF;\n",
              "      --disabled-bg-color: #3B4455;\n",
              "      --disabled-fill-color: #666;\n",
              "  }\n",
              "\n",
              "  .colab-df-quickchart {\n",
              "    background-color: var(--bg-color);\n",
              "    border: none;\n",
              "    border-radius: 50%;\n",
              "    cursor: pointer;\n",
              "    display: none;\n",
              "    fill: var(--fill-color);\n",
              "    height: 32px;\n",
              "    padding: 0;\n",
              "    width: 32px;\n",
              "  }\n",
              "\n",
              "  .colab-df-quickchart:hover {\n",
              "    background-color: var(--hover-bg-color);\n",
              "    box-shadow: 0 1px 2px rgba(60, 64, 67, 0.3), 0 1px 3px 1px rgba(60, 64, 67, 0.15);\n",
              "    fill: var(--button-hover-fill-color);\n",
              "  }\n",
              "\n",
              "  .colab-df-quickchart-complete:disabled,\n",
              "  .colab-df-quickchart-complete:disabled:hover {\n",
              "    background-color: var(--disabled-bg-color);\n",
              "    fill: var(--disabled-fill-color);\n",
              "    box-shadow: none;\n",
              "  }\n",
              "\n",
              "  .colab-df-spinner {\n",
              "    border: 2px solid var(--fill-color);\n",
              "    border-color: transparent;\n",
              "    border-bottom-color: var(--fill-color);\n",
              "    animation:\n",
              "      spin 1s steps(1) infinite;\n",
              "  }\n",
              "\n",
              "  @keyframes spin {\n",
              "    0% {\n",
              "      border-color: transparent;\n",
              "      border-bottom-color: var(--fill-color);\n",
              "      border-left-color: var(--fill-color);\n",
              "    }\n",
              "    20% {\n",
              "      border-color: transparent;\n",
              "      border-left-color: var(--fill-color);\n",
              "      border-top-color: var(--fill-color);\n",
              "    }\n",
              "    30% {\n",
              "      border-color: transparent;\n",
              "      border-left-color: var(--fill-color);\n",
              "      border-top-color: var(--fill-color);\n",
              "      border-right-color: var(--fill-color);\n",
              "    }\n",
              "    40% {\n",
              "      border-color: transparent;\n",
              "      border-right-color: var(--fill-color);\n",
              "      border-top-color: var(--fill-color);\n",
              "    }\n",
              "    60% {\n",
              "      border-color: transparent;\n",
              "      border-right-color: var(--fill-color);\n",
              "    }\n",
              "    80% {\n",
              "      border-color: transparent;\n",
              "      border-right-color: var(--fill-color);\n",
              "      border-bottom-color: var(--fill-color);\n",
              "    }\n",
              "    90% {\n",
              "      border-color: transparent;\n",
              "      border-bottom-color: var(--fill-color);\n",
              "    }\n",
              "  }\n",
              "</style>\n",
              "\n",
              "  <script>\n",
              "    async function quickchart(key) {\n",
              "      const quickchartButtonEl =\n",
              "        document.querySelector('#' + key + ' button');\n",
              "      quickchartButtonEl.disabled = true;  // To prevent multiple clicks.\n",
              "      quickchartButtonEl.classList.add('colab-df-spinner');\n",
              "      try {\n",
              "        const charts = await google.colab.kernel.invokeFunction(\n",
              "            'suggestCharts', [key], {});\n",
              "      } catch (error) {\n",
              "        console.error('Error during call to suggestCharts:', error);\n",
              "      }\n",
              "      quickchartButtonEl.classList.remove('colab-df-spinner');\n",
              "      quickchartButtonEl.classList.add('colab-df-quickchart-complete');\n",
              "    }\n",
              "    (() => {\n",
              "      let quickchartButtonEl =\n",
              "        document.querySelector('#df-fc4c0ea4-5e24-4a14-b934-d3cd555e24a9 button');\n",
              "      quickchartButtonEl.style.display =\n",
              "        google.colab.kernel.accessAllowed ? 'block' : 'none';\n",
              "    })();\n",
              "  </script>\n",
              "</div>\n",
              "    </div>\n",
              "  </div>\n"
            ]
          },
          "metadata": {},
          "execution_count": 61
        }
      ],
      "source": [
        "AAPL['CumRetMonthly'] = (AAPL['RetMonthly']+1).cumprod() # cumprod(2,4,6,1) is 2,8,48,48\n",
        "AAPL"
      ]
    },
    {
      "cell_type": "code",
      "execution_count": 62,
      "metadata": {
        "colab": {
          "base_uri": "https://localhost:8080/",
          "height": 449
        },
        "id": "O62W6iD3yBf5",
        "outputId": "be7ac437-b374-47ed-9936-c1f9c74d1390"
      },
      "outputs": [
        {
          "output_type": "display_data",
          "data": {
            "text/plain": [
              "<Figure size 640x480 with 1 Axes>"
            ],
            "image/png": "[encoded data removed]"
          },
          "metadata": {}
        }
      ],
      "source": [
        "AAPL['CumRetMonthly'].plot();"
      ]
    },
    {
      "cell_type": "markdown",
      "metadata": {
        "id": "zM1RuySQyBf7"
      },
      "source": [
        "## Calculating the returns for multiple stocks"
      ]
    },
    {
      "cell_type": "code",
      "execution_count": 63,
      "metadata": {
        "colab": {
          "base_uri": "https://localhost:8080/"
        },
        "id": "bQOGJ727yBf7",
        "outputId": "82b33ce4-daf7-41fd-d919-6225da1cf2ed"
      },
      "outputs": [
        {
          "output_type": "stream",
          "name": "stdout",
          "text": [
            "[*********************100%%**********************]  5 of 5 completed\n"
          ]
        }
      ],
      "source": [
        "tickers = [\"AAPL\", \"MSFT\", \"AMZN\", \"K\", \"O\"]\n",
        "df_stocks = yf.download( tickers, start=\"2012-01-01\", end=\"2023-09-01\")"
      ]
    },
    {
      "cell_type": "code",
      "execution_count": 64,
      "metadata": {
        "colab": {
          "base_uri": "https://localhost:8080/",
          "height": 455
        },
        "id": "9QMe825j6UXx",
        "outputId": "db57e22f-17a1-4031-b8bb-49b9abc34585"
      },
      "outputs": [
        {
          "output_type": "execute_result",
          "data": {
            "text/plain": [
              "                AAPL      AMZN         K      MSFT         O\n",
              "Date                                                        \n",
              "2012-01-03       NaN       NaN       NaN       NaN       NaN\n",
              "2012-01-04  0.005374 -0.008490 -0.000991  0.023534 -0.008616\n",
              "2012-01-05  0.011102  0.000563  0.001190  0.010219  0.010430\n",
              "2012-01-06  0.010454  0.028152  0.000793  0.015534 -0.002580\n",
              "2012-01-09 -0.001586 -0.022178  0.003960 -0.013162  0.006611\n",
              "...              ...       ...       ...       ...       ...\n",
              "2023-08-25  0.012643  0.010771  0.006740  0.009407 -0.006388\n",
              "2023-08-28  0.008846 -0.000900  0.002123  0.002229  0.008393\n",
              "2023-08-29  0.021810  0.013294  0.001955  0.014550  0.000000\n",
              "2023-08-30  0.019172  0.001186  0.003578  0.001157  0.001594\n",
              "2023-08-31  0.001172  0.021766 -0.001473 -0.003133 -0.004689\n",
              "\n",
              "[2935 rows x 5 columns]"
            ],
            "text/html": [
              "\n",
              "  <div id=\"df-890a56c1-e7ec-4b73-9127-8bac0bd586a8\" class=\"colab-df-container\">\n",
              "    <div>\n",
              "<style scoped>\n",
              "    .dataframe tbody tr th:only-of-type {\n",
              "        vertical-align: middle;\n",
              "    }\n",
              "\n",
              "    .dataframe tbody tr th {\n",
              "        vertical-align: top;\n",
              "    }\n",
              "\n",
              "    .dataframe thead th {\n",
              "        text-align: right;\n",
              "    }\n",
              "</style>\n",
              "<table border=\"1\" class=\"dataframe\">\n",
              "  <thead>\n",
              "    <tr style=\"text-align: right;\">\n",
              "      <th></th>\n",
              "      <th>AAPL</th>\n",
              "      <th>AMZN</th>\n",
              "      <th>K</th>\n",
              "      <th>MSFT</th>\n",
              "      <th>O</th>\n",
              "    </tr>\n",
              "    <tr>\n",
              "      <th>Date</th>\n",
              "      <th></th>\n",
              "      <th></th>\n",
              "      <th></th>\n",
              "      <th></th>\n",
              "      <th></th>\n",
              "    </tr>\n",
              "  </thead>\n",
              "  <tbody>\n",
              "    <tr>\n",
              "      <th>2012-01-03</th>\n",
              "      <td>NaN</td>\n",
              "      <td>NaN</td>\n",
              "      <td>NaN</td>\n",
              "      <td>NaN</td>\n",
              "      <td>NaN</td>\n",
              "    </tr>\n",
              "    <tr>\n",
              "      <th>2012-01-04</th>\n",
              "      <td>0.005374</td>\n",
              "      <td>-0.008490</td>\n",
              "      <td>-0.000991</td>\n",
              "      <td>0.023534</td>\n",
              "      <td>-0.008616</td>\n",
              "    </tr>\n",
              "    <tr>\n",
              "      <th>2012-01-05</th>\n",
              "      <td>0.011102</td>\n",
              "      <td>0.000563</td>\n",
              "      <td>0.001190</td>\n",
              "      <td>0.010219</td>\n",
              "      <td>0.010430</td>\n",
              "    </tr>\n",
              "    <tr>\n",
              "      <th>2012-01-06</th>\n",
              "      <td>0.010454</td>\n",
              "      <td>0.028152</td>\n",
              "      <td>0.000793</td>\n",
              "      <td>0.015534</td>\n",
              "      <td>-0.002580</td>\n",
              "    </tr>\n",
              "    <tr>\n",
              "      <th>2012-01-09</th>\n",
              "      <td>-0.001586</td>\n",
              "      <td>-0.022178</td>\n",
              "      <td>0.003960</td>\n",
              "      <td>-0.013162</td>\n",
              "      <td>0.006611</td>\n",
              "    </tr>\n",
              "    <tr>\n",
              "      <th>...</th>\n",
              "      <td>...</td>\n",
              "      <td>...</td>\n",
              "      <td>...</td>\n",
              "      <td>...</td>\n",
              "      <td>...</td>\n",
              "    </tr>\n",
              "    <tr>\n",
              "      <th>2023-08-25</th>\n",
              "      <td>0.012643</td>\n",
              "      <td>0.010771</td>\n",
              "      <td>0.006740</td>\n",
              "      <td>0.009407</td>\n",
              "      <td>-0.006388</td>\n",
              "    </tr>\n",
              "    <tr>\n",
              "      <th>2023-08-28</th>\n",
              "      <td>0.008846</td>\n",
              "      <td>-0.000900</td>\n",
              "      <td>0.002123</td>\n",
              "      <td>0.002229</td>\n",
              "      <td>0.008393</td>\n",
              "    </tr>\n",
              "    <tr>\n",
              "      <th>2023-08-29</th>\n",
              "      <td>0.021810</td>\n",
              "      <td>0.013294</td>\n",
              "      <td>0.001955</td>\n",
              "      <td>0.014550</td>\n",
              "      <td>0.000000</td>\n",
              "    </tr>\n",
              "    <tr>\n",
              "      <th>2023-08-30</th>\n",
              "      <td>0.019172</td>\n",
              "      <td>0.001186</td>\n",
              "      <td>0.003578</td>\n",
              "      <td>0.001157</td>\n",
              "      <td>0.001594</td>\n",
              "    </tr>\n",
              "    <tr>\n",
              "      <th>2023-08-31</th>\n",
              "      <td>0.001172</td>\n",
              "      <td>0.021766</td>\n",
              "      <td>-0.001473</td>\n",
              "      <td>-0.003133</td>\n",
              "      <td>-0.004689</td>\n",
              "    </tr>\n",
              "  </tbody>\n",
              "</table>\n",
              "<p>2935 rows × 5 columns</p>\n",
              "</div>\n",
              "    <div class=\"colab-df-buttons\">\n",
              "\n",
              "  <div class=\"colab-df-container\">\n",
              "    <button class=\"colab-df-convert\" onclick=\"convertToInteractive('df-890a56c1-e7ec-4b73-9127-8bac0bd586a8')\"\n",
              "            title=\"Convert this dataframe to an interactive table.\"\n",
              "            style=\"display:none;\">\n",
              "\n",
              "  <svg xmlns=\"http://www.w3.org/2000/svg\" height=\"24px\" viewBox=\"0 -960 960 960\">\n",
              "    <path d=\"M120-120v-720h720v720H120Zm60-500h600v-160H180v160Zm220 220h160v-160H400v160Zm0 220h160v-160H400v160ZM180-400h160v-160H180v160Zm440 0h160v-160H620v160ZM180-180h160v-160H180v160Zm440 0h160v-160H620v160Z\"/>\n",
              "  </svg>\n",
              "    </button>\n",
              "\n",
              "  <style>\n",
              "    .colab-df-container {\n",
              "      display:flex;\n",
              "      gap: 12px;\n",
              "    }\n",
              "\n",
              "    .colab-df-convert {\n",
              "      background-color: #E8F0FE;\n",
              "      border: none;\n",
              "      border-radius: 50%;\n",
              "      cursor: pointer;\n",
              "      display: none;\n",
              "      fill: #1967D2;\n",
              "      height: 32px;\n",
              "      padding: 0 0 0 0;\n",
              "      width: 32px;\n",
              "    }\n",
              "\n",
              "    .colab-df-convert:hover {\n",
              "      background-color: #E2EBFA;\n",
              "      box-shadow: 0px 1px 2px rgba(60, 64, 67, 0.3), 0px 1px 3px 1px rgba(60, 64, 67, 0.15);\n",
              "      fill: #174EA6;\n",
              "    }\n",
              "\n",
              "    .colab-df-buttons div {\n",
              "      margin-bottom: 4px;\n",
              "    }\n",
              "\n",
              "    [theme=dark] .colab-df-convert {\n",
              "      background-color: #3B4455;\n",
              "      fill: #D2E3FC;\n",
              "    }\n",
              "\n",
              "    [theme=dark] .colab-df-convert:hover {\n",
              "      background-color: #434B5C;\n",
              "      box-shadow: 0px 1px 3px 1px rgba(0, 0, 0, 0.15);\n",
              "      filter: drop-shadow(0px 1px 2px rgba(0, 0, 0, 0.3));\n",
              "      fill: #FFFFFF;\n",
              "    }\n",
              "  </style>\n",
              "\n",
              "    <script>\n",
              "      const buttonEl =\n",
              "        document.querySelector('#df-890a56c1-e7ec-4b73-9127-8bac0bd586a8 button.colab-df-convert');\n",
              "      buttonEl.style.display =\n",
              "        google.colab.kernel.accessAllowed ? 'block' : 'none';\n",
              "\n",
              "      async function convertToInteractive(key) {\n",
              "        const element = document.querySelector('#df-890a56c1-e7ec-4b73-9127-8bac0bd586a8');\n",
              "        const dataTable =\n",
              "          await google.colab.kernel.invokeFunction('convertToInteractive',\n",
              "                                                    [key], {});\n",
              "        if (!dataTable) return;\n",
              "\n",
              "        const docLinkHtml = 'Like what you see? Visit the ' +\n",
              "          '<a target=\"_blank\" href=https://colab.research.google.com/notebooks/data_table.ipynb>data table notebook</a>'\n",
              "          + ' to learn more about interactive tables.';\n",
              "        element.innerHTML = '';\n",
              "        dataTable['output_type'] = 'display_data';\n",
              "        await google.colab.output.renderOutput(dataTable, element);\n",
              "        const docLink = document.createElement('div');\n",
              "        docLink.innerHTML = docLinkHtml;\n",
              "        element.appendChild(docLink);\n",
              "      }\n",
              "    </script>\n",
              "  </div>\n",
              "\n",
              "\n",
              "<div id=\"df-c81024a7-a01c-49b2-9ddc-5b9b5df2d95f\">\n",
              "  <button class=\"colab-df-quickchart\" onclick=\"quickchart('df-c81024a7-a01c-49b2-9ddc-5b9b5df2d95f')\"\n",
              "            title=\"Suggest charts.\"\n",
              "            style=\"display:none;\">\n",
              "\n",
              "<svg xmlns=\"http://www.w3.org/2000/svg\" height=\"24px\"viewBox=\"0 0 24 24\"\n",
              "     width=\"24px\">\n",
              "    <g>\n",
              "        <path d=\"M19 3H5c-1.1 0-2 .9-2 2v14c0 1.1.9 2 2 2h14c1.1 0 2-.9 2-2V5c0-1.1-.9-2-2-2zM9 17H7v-7h2v7zm4 0h-2V7h2v10zm4 0h-2v-4h2v4z\"/>\n",
              "    </g>\n",
              "</svg>\n",
              "  </button>\n",
              "\n",
              "<style>\n",
              "  .colab-df-quickchart {\n",
              "      --bg-color: #E8F0FE;\n",
              "      --fill-color: #1967D2;\n",
              "      --hover-bg-color: #E2EBFA;\n",
              "      --hover-fill-color: #174EA6;\n",
              "      --disabled-fill-color: #AAA;\n",
              "      --disabled-bg-color: #DDD;\n",
              "  }\n",
              "\n",
              "  [theme=dark] .colab-df-quickchart {\n",
              "      --bg-color: #3B4455;\n",
              "      --fill-color: #D2E3FC;\n",
              "      --hover-bg-color: #434B5C;\n",
              "      --hover-fill-color: #FFFFFF;\n",
              "      --disabled-bg-color: #3B4455;\n",
              "      --disabled-fill-color: #666;\n",
              "  }\n",
              "\n",
              "  .colab-df-quickchart {\n",
              "    background-color: var(--bg-color);\n",
              "    border: none;\n",
              "    border-radius: 50%;\n",
              "    cursor: pointer;\n",
              "    display: none;\n",
              "    fill: var(--fill-color);\n",
              "    height: 32px;\n",
              "    padding: 0;\n",
              "    width: 32px;\n",
              "  }\n",
              "\n",
              "  .colab-df-quickchart:hover {\n",
              "    background-color: var(--hover-bg-color);\n",
              "    box-shadow: 0 1px 2px rgba(60, 64, 67, 0.3), 0 1px 3px 1px rgba(60, 64, 67, 0.15);\n",
              "    fill: var(--button-hover-fill-color);\n",
              "  }\n",
              "\n",
              "  .colab-df-quickchart-complete:disabled,\n",
              "  .colab-df-quickchart-complete:disabled:hover {\n",
              "    background-color: var(--disabled-bg-color);\n",
              "    fill: var(--disabled-fill-color);\n",
              "    box-shadow: none;\n",
              "  }\n",
              "\n",
              "  .colab-df-spinner {\n",
              "    border: 2px solid var(--fill-color);\n",
              "    border-color: transparent;\n",
              "    border-bottom-color: var(--fill-color);\n",
              "    animation:\n",
              "      spin 1s steps(1) infinite;\n",
              "  }\n",
              "\n",
              "  @keyframes spin {\n",
              "    0% {\n",
              "      border-color: transparent;\n",
              "      border-bottom-color: var(--fill-color);\n",
              "      border-left-color: var(--fill-color);\n",
              "    }\n",
              "    20% {\n",
              "      border-color: transparent;\n",
              "      border-left-color: var(--fill-color);\n",
              "      border-top-color: var(--fill-color);\n",
              "    }\n",
              "    30% {\n",
              "      border-color: transparent;\n",
              "      border-left-color: var(--fill-color);\n",
              "      border-top-color: var(--fill-color);\n",
              "      border-right-color: var(--fill-color);\n",
              "    }\n",
              "    40% {\n",
              "      border-color: transparent;\n",
              "      border-right-color: var(--fill-color);\n",
              "      border-top-color: var(--fill-color);\n",
              "    }\n",
              "    60% {\n",
              "      border-color: transparent;\n",
              "      border-right-color: var(--fill-color);\n",
              "    }\n",
              "    80% {\n",
              "      border-color: transparent;\n",
              "      border-right-color: var(--fill-color);\n",
              "      border-bottom-color: var(--fill-color);\n",
              "    }\n",
              "    90% {\n",
              "      border-color: transparent;\n",
              "      border-bottom-color: var(--fill-color);\n",
              "    }\n",
              "  }\n",
              "</style>\n",
              "\n",
              "  <script>\n",
              "    async function quickchart(key) {\n",
              "      const quickchartButtonEl =\n",
              "        document.querySelector('#' + key + ' button');\n",
              "      quickchartButtonEl.disabled = true;  // To prevent multiple clicks.\n",
              "      quickchartButtonEl.classList.add('colab-df-spinner');\n",
              "      try {\n",
              "        const charts = await google.colab.kernel.invokeFunction(\n",
              "            'suggestCharts', [key], {});\n",
              "      } catch (error) {\n",
              "        console.error('Error during call to suggestCharts:', error);\n",
              "      }\n",
              "      quickchartButtonEl.classList.remove('colab-df-spinner');\n",
              "      quickchartButtonEl.classList.add('colab-df-quickchart-complete');\n",
              "    }\n",
              "    (() => {\n",
              "      let quickchartButtonEl =\n",
              "        document.querySelector('#df-c81024a7-a01c-49b2-9ddc-5b9b5df2d95f button');\n",
              "      quickchartButtonEl.style.display =\n",
              "        google.colab.kernel.accessAllowed ? 'block' : 'none';\n",
              "    })();\n",
              "  </script>\n",
              "</div>\n",
              "    </div>\n",
              "  </div>\n"
            ]
          },
          "metadata": {},
          "execution_count": 64
        }
      ],
      "source": [
        "df_stocks = df_stocks['Adj Close'].pct_change()\n",
        "df_stocks"
      ]
    },
    {
      "cell_type": "code",
      "execution_count": 65,
      "metadata": {
        "colab": {
          "base_uri": "https://localhost:8080/",
          "height": 422
        },
        "id": "k8hGizHcyBf7",
        "outputId": "19f8ce6d-a796-47c5-f4c7-ec86a0f919c8"
      },
      "outputs": [
        {
          "output_type": "display_data",
          "data": {
            "text/plain": [
              "<Figure size 640x480 with 1 Axes>"
            ],
            "image/png": "[encoded data removed]"
          },
          "metadata": {}
        }
      ],
      "source": [
        "(df_stocks + 1).cumprod().plot();"
      ]
    },
    {
      "cell_type": "markdown",
      "metadata": {
        "id": "Oh6kD3A9yBf8"
      },
      "source": [
        "## Summary statistics"
      ]
    },
    {
      "cell_type": "markdown",
      "metadata": {
        "id": "icfvlVTryBf8"
      },
      "source": [
        "Mean of returns"
      ]
    },
    {
      "cell_type": "code",
      "execution_count": 66,
      "metadata": {
        "colab": {
          "base_uri": "https://localhost:8080/"
        },
        "id": "SrH-HLxLyBf8",
        "outputId": "85c3a3f6-7bdb-42c3-e4b0-66f0e793c73c"
      },
      "outputs": [
        {
          "output_type": "stream",
          "name": "stdout",
          "text": [
            "AAPL    0.001089\n",
            "AMZN    0.001143\n",
            "K       0.000273\n",
            "MSFT    0.001072\n",
            "O       0.000477\n",
            "dtype: float64\n"
          ]
        }
      ],
      "source": [
        "print(df_stocks.mean())"
      ]
    },
    {
      "cell_type": "markdown",
      "metadata": {
        "id": "wVptqLAQyBf8"
      },
      "source": [
        "Standard deviation of returns"
      ]
    },
    {
      "cell_type": "code",
      "execution_count": 67,
      "metadata": {
        "colab": {
          "base_uri": "https://localhost:8080/"
        },
        "id": "WfoARBMFyBf9",
        "outputId": "ffa3158e-0d84-4ef6-f1c0-1b82d58dedf6"
      },
      "outputs": [
        {
          "output_type": "stream",
          "name": "stdout",
          "text": [
            "AAPL    0.018093\n",
            "AMZN    0.020563\n",
            "K       0.012450\n",
            "MSFT    0.016737\n",
            "O       0.015591\n",
            "dtype: float64\n"
          ]
        }
      ],
      "source": [
        "print(df_stocks.std())"
      ]
    },
    {
      "cell_type": "markdown",
      "metadata": {
        "id": "xJkom-5PyBf9"
      },
      "source": [
        "Correlation and covariance matrices."
      ]
    },
    {
      "cell_type": "code",
      "execution_count": 68,
      "metadata": {
        "colab": {
          "base_uri": "https://localhost:8080/"
        },
        "id": "SxKx8bwkyBf9",
        "outputId": "8fd36c2f-bc85-499c-d570-67cc5e537c76"
      },
      "outputs": [
        {
          "output_type": "stream",
          "name": "stdout",
          "text": [
            "          AAPL      AMZN         K      MSFT         O\n",
            "AAPL  1.000000  0.479115  0.188577  0.597356  0.278937\n",
            "AMZN  0.479115  1.000000  0.123089  0.574163  0.200044\n",
            "K     0.188577  0.123089  1.000000  0.231698  0.256586\n",
            "MSFT  0.597356  0.574163  0.231698  1.000000  0.339007\n",
            "O     0.278937  0.200044  0.256586  0.339007  1.000000\n"
          ]
        }
      ],
      "source": [
        "print(df_stocks.corr())"
      ]
    },
    {
      "cell_type": "code",
      "execution_count": 69,
      "metadata": {
        "colab": {
          "base_uri": "https://localhost:8080/"
        },
        "id": "nSHohnVvyBf9",
        "outputId": "2603cc1c-1187-4c43-9db3-0c76de7b212d"
      },
      "outputs": [
        {
          "output_type": "stream",
          "name": "stdout",
          "text": [
            "          AAPL      AMZN         K      MSFT         O\n",
            "AAPL  0.000327  0.000178  0.000042  0.000181  0.000079\n",
            "AMZN  0.000178  0.000423  0.000032  0.000198  0.000064\n",
            "K     0.000042  0.000032  0.000155  0.000048  0.000050\n",
            "MSFT  0.000181  0.000198  0.000048  0.000280  0.000088\n",
            "O     0.000079  0.000064  0.000050  0.000088  0.000243\n"
          ]
        }
      ],
      "source": [
        "print(df_stocks.cov())"
      ]
    },
    {
      "cell_type": "markdown",
      "metadata": {
        "id": "qWWg3ufayBf-"
      },
      "source": [
        "## Portfolio returns"
      ]
    },
    {
      "cell_type": "markdown",
      "metadata": {
        "id": "F45nx16nyBf-"
      },
      "source": [
        "Compute portfolio returns as a weighted average of the returns of the individual assets in the portfolio.\n",
        "We will invest in the following assets\n",
        "\n",
        "- Aggregate Bonds ETF (BND) - Vanguard Total Bond Market - with weight 10%\n",
        "\n",
        "- Small Cap ETF (VB) - Vanguard Small-Cap Index Fund - with weight  20%\n",
        "\n",
        "- Developed markets ETF (VEA) - VANGUARD DEVELOPED MKTS - with weight  25%\n",
        "\n",
        "- S&P 500 ETF (VOO) - VANGUARD S&P 500 ETF - with weight 25%\n",
        "\n",
        "- Emerging Markets ETF (VWO) - Vanguard Emerging Markets Stock Index - with weight  20%"
      ]
    },
    {
      "cell_type": "code",
      "execution_count": 70,
      "metadata": {
        "id": "_NnEtAfayBf-"
      },
      "outputs": [],
      "source": [
        "symbols = ['BND','VB', 'VEA', 'VOO','VWO']"
      ]
    },
    {
      "cell_type": "code",
      "execution_count": 71,
      "metadata": {
        "colab": {
          "base_uri": "https://localhost:8080/"
        },
        "id": "nG2eDDoIyBf-",
        "outputId": "8b0f7886-f226-4fd4-df9e-fb0ea9b77c41"
      },
      "outputs": [
        {
          "output_type": "stream",
          "name": "stdout",
          "text": [
            "[*********************100%%**********************]  5 of 5 completed\n"
          ]
        }
      ],
      "source": [
        "price_data = yf.download( symbols, start=\"2012-01-01\", end=\"2023-09-01\")"
      ]
    },
    {
      "cell_type": "markdown",
      "metadata": {
        "id": "w4EQvZR9yBf-"
      },
      "source": [
        "But we just need the Adjusted Closing price for our returns calculations. So let's select that columns."
      ]
    },
    {
      "cell_type": "code",
      "execution_count": 72,
      "metadata": {
        "colab": {
          "base_uri": "https://localhost:8080/"
        },
        "id": "raAoHQdAyBf-",
        "outputId": "f10a870c-3c0f-4c88-921f-1a25504163cd"
      },
      "outputs": [
        {
          "output_type": "stream",
          "name": "stdout",
          "text": [
            "                  BND         VB        VEA        VOO        VWO\n",
            "Date                                                             \n",
            "2012-01-03  61.346405  59.338871  22.198946  94.203102  28.565794\n",
            "2012-01-04  61.375866  59.053368  22.071894  94.364685  28.485897\n",
            "2012-01-05  61.353775  59.439667  21.754261  94.671684  28.347908\n",
            "2012-01-06  61.390598  59.338871  21.500154  94.477814  28.013802\n",
            "2012-01-09  61.442154  59.607628  21.549568  94.623222  28.238960\n"
          ]
        }
      ],
      "source": [
        "price_data = price_data['Adj Close']\n",
        "print(price_data.head())"
      ]
    },
    {
      "cell_type": "markdown",
      "metadata": {
        "id": "xkHegnlWyBf_"
      },
      "source": [
        "The vector of weights is:"
      ]
    },
    {
      "cell_type": "code",
      "execution_count": 73,
      "metadata": {
        "colab": {
          "base_uri": "https://localhost:8080/"
        },
        "id": "7KjeGGR_yBgD",
        "outputId": "382b98eb-e077-4017-cdec-4348633d1ce3"
      },
      "outputs": [
        {
          "output_type": "stream",
          "name": "stdout",
          "text": [
            "1.0\n"
          ]
        }
      ],
      "source": [
        "w = [0.1,0.2,0.25,0.25,0.2]\n",
        "print(sum(w))"
      ]
    },
    {
      "cell_type": "markdown",
      "metadata": {
        "id": "UDLr8WB8yBgD"
      },
      "source": [
        "Now we will calculate returns of the assets in our portfolio."
      ]
    },
    {
      "cell_type": "code",
      "execution_count": 74,
      "metadata": {
        "colab": {
          "base_uri": "https://localhost:8080/"
        },
        "id": "-fIKHkvPyBgD",
        "outputId": "7a9a4658-8754-44d7-926e-3de2d3714239"
      },
      "outputs": [
        {
          "output_type": "stream",
          "name": "stdout",
          "text": [
            "                 BND        VB       VEA       VOO       VWO\n",
            "Date                                                        \n",
            "2012-01-04  0.000480 -0.004811 -0.005723  0.001715 -0.002797\n",
            "2012-01-05 -0.000360  0.006542 -0.014391  0.003253 -0.004844\n",
            "2012-01-06  0.000600 -0.001696 -0.011681 -0.002048 -0.011786\n",
            "2012-01-09  0.000840  0.004529  0.002298  0.001539  0.008037\n",
            "2012-01-10 -0.000479  0.012679  0.016377  0.008538  0.022377\n"
          ]
        }
      ],
      "source": [
        "ret_data = price_data.pct_change()[1:]\n",
        "print(ret_data.head())"
      ]
    },
    {
      "cell_type": "markdown",
      "metadata": {
        "id": "fT6fN1LfyBgE"
      },
      "source": [
        "Next we can calculate the weighted returns of our assets."
      ]
    },
    {
      "cell_type": "code",
      "execution_count": 75,
      "metadata": {
        "colab": {
          "base_uri": "https://localhost:8080/"
        },
        "id": "pfki_PhFyBgE",
        "outputId": "9abfd0e0-1fe4-4678-a9a6-a6454da8b21c"
      },
      "outputs": [
        {
          "output_type": "stream",
          "name": "stdout",
          "text": [
            "                 BND        VB       VEA       VOO       VWO\n",
            "Date                                                        \n",
            "2012-01-04  0.000048 -0.000962 -0.001431  0.000429 -0.000559\n",
            "2012-01-05 -0.000036  0.001308 -0.003598  0.000813 -0.000969\n",
            "2012-01-06  0.000060 -0.000339 -0.002920 -0.000512 -0.002357\n",
            "2012-01-09  0.000084  0.000906  0.000575  0.000385  0.001607\n",
            "2012-01-10 -0.000048  0.002536  0.004094  0.002135  0.004475\n"
          ]
        }
      ],
      "source": [
        "weighted_returns = (w * ret_data)\n",
        "print(weighted_returns.head())"
      ]
    },
    {
      "cell_type": "markdown",
      "metadata": {
        "id": "n0Xqxb6QyBgE"
      },
      "source": [
        "The portfolio returns are simply the sum (along each row) of the weighted returns of the assets."
      ]
    },
    {
      "cell_type": "code",
      "execution_count": 76,
      "metadata": {
        "colab": {
          "base_uri": "https://localhost:8080/"
        },
        "id": "UJS9twR3yBgE",
        "outputId": "f97006ff-9ce6-48e2-a5d3-6f13a27cc34e"
      },
      "outputs": [
        {
          "output_type": "stream",
          "name": "stdout",
          "text": [
            "Date\n",
            "2012-01-04   -0.002476\n",
            "2012-01-05   -0.002481\n",
            "2012-01-06   -0.006068\n",
            "2012-01-09    0.003557\n",
            "2012-01-10    0.013192\n",
            "                ...   \n",
            "2023-08-25    0.003940\n",
            "2023-08-28    0.008155\n",
            "2023-08-29    0.013029\n",
            "2023-08-30    0.001157\n",
            "2023-08-31   -0.003378\n",
            "Length: 2934, dtype: float64\n"
          ]
        }
      ],
      "source": [
        "port_ret = weighted_returns.sum(axis=1)\n",
        "# \"axis = 1\" means we want to sum along the rows\n",
        "print(port_ret)"
      ]
    },
    {
      "cell_type": "markdown",
      "metadata": {
        "id": "J0bFg8ESyBgE"
      },
      "source": [
        "Portfolio mean, standard deviation"
      ]
    },
    {
      "cell_type": "code",
      "execution_count": 77,
      "metadata": {
        "colab": {
          "base_uri": "https://localhost:8080/"
        },
        "id": "mR7mS_e_yBgF",
        "outputId": "79da218f-2bf2-414d-a796-92f0103ba22c"
      },
      "outputs": [
        {
          "output_type": "stream",
          "name": "stdout",
          "text": [
            "0.00035958089802450965\n",
            "0.009696133865509998\n"
          ]
        }
      ],
      "source": [
        "mean_ret = port_ret.mean()\n",
        "std_returns = port_ret.std()\n",
        "print(mean_ret)\n",
        "print(std_returns)"
      ]
    },
    {
      "cell_type": "markdown",
      "metadata": {
        "id": "ABmTzZTKyBgF"
      },
      "source": [
        "Portfolio Sharpe ratio (assuming rf=0)"
      ]
    },
    {
      "cell_type": "code",
      "execution_count": 78,
      "metadata": {
        "colab": {
          "base_uri": "https://localhost:8080/"
        },
        "id": "b5r-QvUiyBgF",
        "outputId": "23a5b5b5-87dc-4935-e7e5-b591550b1366"
      },
      "outputs": [
        {
          "output_type": "stream",
          "name": "stdout",
          "text": [
            "Daily SR is  0.037084976652763696\n",
            "Annual SR is  0.5887057535990957\n"
          ]
        }
      ],
      "source": [
        "sharpe_ratio = mean_ret/std_returns\n",
        "sharpe_ratio_annual = sharpe_ratio * np.sqrt(252)\n",
        "print(\"Daily SR is \", sharpe_ratio )\n",
        "print(\"Annual SR is \", sharpe_ratio_annual )"
      ]
    },
    {
      "cell_type": "markdown",
      "metadata": {
        "id": "g1d4Hvu-yBgF"
      },
      "source": [
        "To calculate cumulative returns we need to use the cumprod() function.\n",
        "\n"
      ]
    },
    {
      "cell_type": "code",
      "execution_count": 79,
      "metadata": {
        "colab": {
          "base_uri": "https://localhost:8080/"
        },
        "id": "wQO1ejgTyBgF",
        "outputId": "b237ae46-06a6-4cb4-b52f-4a67ede1736e"
      },
      "outputs": [
        {
          "output_type": "execute_result",
          "data": {
            "text/plain": [
              "Date\n",
              "2012-01-04    0.997524\n",
              "2012-01-05    0.995050\n",
              "2012-01-06    0.989011\n",
              "2012-01-09    0.992529\n",
              "2012-01-10    1.005622\n",
              "                ...   \n",
              "2023-08-25    2.453038\n",
              "2023-08-28    2.473042\n",
              "2023-08-29    2.505263\n",
              "2023-08-30    2.508161\n",
              "2023-08-31    2.499688\n",
              "Length: 2934, dtype: float64"
            ]
          },
          "metadata": {},
          "execution_count": 79
        }
      ],
      "source": [
        "cumulative_ret = (port_ret + 1).cumprod()\n",
        "cumulative_ret"
      ]
    },
    {
      "cell_type": "code",
      "execution_count": 80,
      "metadata": {
        "colab": {
          "base_uri": "https://localhost:8080/",
          "height": 422
        },
        "id": "Ffa4my2yyBgG",
        "outputId": "50251cd5-9b74-4eba-a90f-0e879add1a2d",
        "scrolled": false
      },
      "outputs": [
        {
          "output_type": "display_data",
          "data": {
            "text/plain": [
              "<Figure size 640x480 with 1 Axes>"
            ],
            "image/png": "[encoded data removed]"
          },
          "metadata": {}
        }
      ],
      "source": [
        "cumulative_ret.plot();"
      ]
    },
    {
      "cell_type": "markdown",
      "metadata": {
        "id": "hvCvNLwZ4Ptv"
      },
      "source": [
        "# Portfolio Beta"
      ]
    },
    {
      "cell_type": "markdown",
      "metadata": {
        "id": "aY89VfXH4Pty"
      },
      "source": [
        "## Download stock prices and compute returns"
      ]
    },
    {
      "cell_type": "code",
      "execution_count": 81,
      "metadata": {
        "ExecuteTime": {
          "end_time": "2019-10-09T15:14:39.898122Z",
          "start_time": "2019-10-09T15:14:39.125628Z"
        },
        "id": "LJHvN6Ov4Ptz"
      },
      "outputs": [],
      "source": [
        "import pandas as pd\n",
        "import yfinance as yf\n",
        "import numpy as np\n",
        "import matplotlib.pyplot as plt"
      ]
    },
    {
      "cell_type": "code",
      "execution_count": 82,
      "metadata": {
        "ExecuteTime": {
          "end_time": "2019-10-09T15:14:40.036166Z",
          "start_time": "2019-10-09T15:14:40.030301Z"
        },
        "id": "3XO2IyuH4Pt3"
      },
      "outputs": [],
      "source": [
        "tickers = ['AMZN', 'AAPL', 'NFLX', 'XOM', 'T']"
      ]
    },
    {
      "cell_type": "code",
      "execution_count": 83,
      "metadata": {
        "ExecuteTime": {
          "end_time": "2019-10-09T14:42:27.918387Z",
          "start_time": "2019-10-09T14:42:25.213029Z"
        },
        "colab": {
          "base_uri": "https://localhost:8080/"
        },
        "id": "c0rPx0k24Pt4",
        "outputId": "adc4797f-ebcb-4b31-af50-aa28936af04b"
      },
      "outputs": [
        {
          "output_type": "stream",
          "name": "stdout",
          "text": [
            "[*********************100%%**********************]  5 of 5 completed\n",
            "                AAPL      AMZN      NFLX         T       XOM\n",
            "Date                                                        \n",
            "2012-01-04  0.005374 -0.008490  0.113649  0.001646  0.000233\n",
            "2012-01-05  0.011102  0.000563 -0.014295 -0.000986 -0.003022\n",
            "2012-01-06  0.010454  0.028152  0.088146 -0.004609 -0.007463\n",
            "2012-01-09 -0.001586 -0.022178  0.137791 -0.000674  0.004464\n",
            "2012-01-10  0.003580  0.004368 -0.023936  0.003371  0.002573\n"
          ]
        }
      ],
      "source": [
        "prices = yf.download(tickers, start=\"2012-01-01\", end=\"2023-09-01\")\n",
        "w = [0.1,0.2,0.25,0.25,0.2]\n",
        "ret_data = prices['Adj Close'].pct_change()[1:]\n",
        "print(ret_data.head())"
      ]
    },
    {
      "cell_type": "markdown",
      "metadata": {
        "id": "ykMJ-HG_4Pt-"
      },
      "source": [
        "Next we can calculate the weighted returns of our assets."
      ]
    },
    {
      "cell_type": "code",
      "execution_count": 84,
      "metadata": {
        "ExecuteTime": {
          "end_time": "2019-10-09T14:42:28.114598Z",
          "start_time": "2019-10-09T14:42:28.087826Z"
        },
        "colab": {
          "base_uri": "https://localhost:8080/"
        },
        "id": "uybCNcct4Pt_",
        "outputId": "ba8f2b9b-964e-482e-b0d5-3bb49c67f742",
        "scrolled": true
      },
      "outputs": [
        {
          "output_type": "stream",
          "name": "stdout",
          "text": [
            "                AAPL      AMZN      NFLX         T       XOM\n",
            "Date                                                        \n",
            "2012-01-04  0.000537 -0.001698  0.028412  0.000411  0.000047\n",
            "2012-01-05  0.001110  0.000113 -0.003574 -0.000246 -0.000604\n",
            "2012-01-06  0.001045  0.005630  0.022037 -0.001152 -0.001493\n",
            "2012-01-09 -0.000159 -0.004436  0.034448 -0.000169  0.000893\n",
            "2012-01-10  0.000358  0.000874 -0.005984  0.000843  0.000515\n"
          ]
        }
      ],
      "source": [
        "weighted_returns = (w * ret_data)\n",
        "print(weighted_returns.head())"
      ]
    },
    {
      "cell_type": "markdown",
      "metadata": {
        "id": "Xe91iAw94PuA"
      },
      "source": [
        "The portfolio returns are simply the sum (along each row) of the weighted returns of the assets."
      ]
    },
    {
      "cell_type": "code",
      "execution_count": 85,
      "metadata": {
        "ExecuteTime": {
          "end_time": "2019-10-09T14:42:28.137692Z",
          "start_time": "2019-10-09T14:42:28.122554Z"
        },
        "colab": {
          "base_uri": "https://localhost:8080/"
        },
        "id": "BEr6_Gix4PuB",
        "outputId": "eb48aef1-48a5-4e44-94c7-d6d292b281c1"
      },
      "outputs": [
        {
          "output_type": "stream",
          "name": "stdout",
          "text": [
            "Date\n",
            "2012-01-04    0.027710\n",
            "2012-01-05   -0.003202\n",
            "2012-01-06    0.026067\n",
            "2012-01-09    0.030578\n",
            "2012-01-10   -0.003395\n",
            "dtype: float64\n"
          ]
        }
      ],
      "source": [
        "port_ret = weighted_returns.sum(axis=1)\n",
        "print(port_ret.head())"
      ]
    },
    {
      "cell_type": "code",
      "execution_count": 86,
      "metadata": {
        "ExecuteTime": {
          "end_time": "2019-10-09T14:42:40.162763Z",
          "start_time": "2019-10-09T14:42:40.157061Z"
        },
        "id": "L3l9EGGO4PuK"
      },
      "outputs": [],
      "source": [
        "from scipy import stats\n",
        "import seaborn as sns"
      ]
    },
    {
      "cell_type": "markdown",
      "metadata": {
        "id": "J_oeGyGh4PuK"
      },
      "source": [
        "In order to calculate the portfolio beta, we need to regress the portfolio (excess) returns against the market (excess) returns. To do that, we will use S&P 500 etf as a proxy for our market portfolio. We assume that the risk free rate is zero."
      ]
    },
    {
      "cell_type": "code",
      "execution_count": 87,
      "metadata": {
        "ExecuteTime": {
          "end_time": "2019-10-09T14:42:42.511385Z",
          "start_time": "2019-10-09T14:42:41.533137Z"
        },
        "colab": {
          "base_uri": "https://localhost:8080/"
        },
        "id": "7YSDKGyG4PuK",
        "outputId": "5196dd98-d782-497a-ed51-c956ef975525"
      },
      "outputs": [
        {
          "output_type": "stream",
          "name": "stdout",
          "text": [
            "\r[*********************100%%**********************]  1 of 1 completed\n"
          ]
        },
        {
          "output_type": "execute_result",
          "data": {
            "text/plain": [
              "Date\n",
              "2012-01-04    0.001569\n",
              "2012-01-05    0.002662\n",
              "2012-01-06   -0.002577\n",
              "2012-01-09    0.002427\n",
              "2012-01-10    0.008671\n",
              "                ...   \n",
              "2023-08-25    0.007050\n",
              "2023-08-28    0.006341\n",
              "2023-08-29    0.014455\n",
              "2023-08-30    0.004119\n",
              "2023-08-31   -0.001463\n",
              "Name: Adj Close, Length: 2934, dtype: float64"
            ]
          },
          "metadata": {},
          "execution_count": 87
        }
      ],
      "source": [
        "benchmark_price = yf.download(\"SPY\", start=\"2012-01-01\", end=\"2023-09-01\") # We assume that the risk free rate is zero.\n",
        "benchmark_ret = benchmark_price[\"Adj Close\"].pct_change()[1:]\n",
        "benchmark_ret"
      ]
    },
    {
      "cell_type": "markdown",
      "metadata": {
        "id": "vqjLOlDi4PuL"
      },
      "source": [
        "Once we have the benchmark returns, we can visualize the scatter plot of our portfolio returns versus benchmark returns."
      ]
    },
    {
      "cell_type": "code",
      "execution_count": null,
      "metadata": {
        "ExecuteTime": {
          "end_time": "2019-10-09T14:42:44.355204Z",
          "start_time": "2019-10-09T14:42:43.979826Z"
        },
        "id": "vMeOSPg14PuL",
        "scrolled": true
      },
      "outputs": [],
      "source": [
        "sns.regplot(x=benchmark_ret, y=port_ret, ci = None);"
      ]
    },
    {
      "cell_type": "markdown",
      "metadata": {
        "id": "A2fkCpkT4PuM"
      },
      "source": [
        "We can see that our portfolio returns are highly correlated to the benchmark returns. We can estimate a linear regression model to calculate the portfolio beta and the portfolio alpha."
      ]
    },
    {
      "cell_type": "code",
      "execution_count": null,
      "metadata": {
        "id": "dpBGr7-n4PuN"
      },
      "outputs": [],
      "source": [
        "result = stats.linregress(benchmark_ret, port_ret)\n",
        "result"
      ]
    },
    {
      "cell_type": "code",
      "execution_count": null,
      "metadata": {
        "ExecuteTime": {
          "end_time": "2019-10-09T14:42:47.215191Z",
          "start_time": "2019-10-09T14:42:47.205462Z"
        },
        "id": "VXvvYoHj4PuO",
        "scrolled": true
      },
      "outputs": [],
      "source": [
        "(beta, alpha) = stats.linregress(benchmark_ret.values, port_ret.values)[0:2]\n",
        "print(\"The portfolio beta is\", round(beta, 4))\n",
        "print(\"The portfolio alpha is\", round(alpha,5))"
      ]
    },
    {
      "cell_type": "markdown",
      "metadata": {
        "id": "57xtrH_F4PuP"
      },
      "source": [
        "# Portfolio Optimization - Part 1 (loop)"
      ]
    },
    {
      "cell_type": "code",
      "execution_count": null,
      "metadata": {
        "id": "0ZMPgGGP4PuP"
      },
      "outputs": [],
      "source": [
        "tickers = [\"AAPL\", \"MSFT\", \"AMZN\", \"K\", \"O\"]\n",
        "prices = yf.download( tickers, start=\"2015-01-01\", end=\"2023-09-01\")"
      ]
    },
    {
      "cell_type": "code",
      "execution_count": null,
      "metadata": {
        "ExecuteTime": {
          "end_time": "2019-10-09T14:43:21.913853Z",
          "start_time": "2019-10-09T14:43:21.904424Z"
        },
        "id": "HE4W4-WT4PuP"
      },
      "outputs": [],
      "source": [
        "prices = prices['Adj Close']\n",
        "ret = prices.pct_change()[1:]\n",
        "print(ret)"
      ]
    },
    {
      "cell_type": "code",
      "execution_count": null,
      "metadata": {
        "ExecuteTime": {
          "end_time": "2019-10-09T14:43:23.243367Z",
          "start_time": "2019-10-09T14:43:23.227150Z"
        },
        "id": "Snuo3BNH4PuR",
        "scrolled": true
      },
      "outputs": [],
      "source": [
        "cov_mat = ret.cov()\n",
        "print(cov_mat)"
      ]
    },
    {
      "cell_type": "markdown",
      "metadata": {
        "id": "1Vs4Jy9d4PuR"
      },
      "source": [
        "Next we will jump right into the for loop and simulate the portfolio returns and risk on 10000 random portfolios."
      ]
    },
    {
      "cell_type": "code",
      "execution_count": null,
      "metadata": {
        "id": "mkZVDMIu4PuS"
      },
      "outputs": [],
      "source": [
        "len(prices.columns)"
      ]
    },
    {
      "cell_type": "code",
      "execution_count": null,
      "metadata": {
        "ExecuteTime": {
          "end_time": "2019-10-09T14:43:25.519318Z",
          "start_time": "2019-10-09T14:43:25.512222Z"
        },
        "id": "DkLFPHKc4PuS"
      },
      "outputs": [],
      "source": [
        "# Simulating 10000 portfolios\n",
        "num_port = 10000\n",
        "# Creating an empty array to store portfolio weights\n",
        "all_wts = np.zeros((num_port, len(prices.columns)))\n",
        "# Creating an empty array to store mean portfolio returns\n",
        "port_returns = np.zeros((num_port))\n",
        "# Creating an empty array to store portfolio risks\n",
        "port_risk = np.zeros((num_port))\n",
        "# Creating an empty array to store portfolio sharpe ratio\n",
        "sharpe_ratio = np.zeros((num_port))"
      ]
    },
    {
      "cell_type": "markdown",
      "metadata": {
        "id": "PBa2IZag4PuT"
      },
      "source": [
        "Let's run the for loop."
      ]
    },
    {
      "cell_type": "code",
      "execution_count": null,
      "metadata": {
        "ExecuteTime": {
          "end_time": "2019-10-09T14:43:29.603994Z",
          "start_time": "2019-10-09T14:43:26.316275Z"
        },
        "id": "82RWSXI04PuT"
      },
      "outputs": [],
      "source": [
        "for i in range(num_port):\n",
        "    wts = np.random.uniform(size = len(prices.columns))\n",
        "    wts = wts/np.sum(wts)\n",
        "\n",
        "    # saving weights in the array\n",
        "    all_wts[i,:] = wts\n",
        "\n",
        "    # Portfolio Returns\n",
        "    port_returns[i] = np.sum(ret.mean() * wts)\n",
        "\n",
        "    # Saving Portfolio returns\n",
        "    port_ret = port_returns[i]\n",
        "\n",
        "    # Portfolio Risk\n",
        "    port_sd = np.sqrt(np.dot(wts.T, np.dot(cov_mat, wts)))\n",
        "    port_risk[i] = port_sd\n",
        "\n",
        "    # Portfolio Sharpe Ratio (assuming 0% Risk Free Rate)\n",
        "    sr = port_ret / port_sd\n",
        "    sharpe_ratio[i] = sr"
      ]
    },
    {
      "cell_type": "markdown",
      "metadata": {
        "id": "eqByRZ7N4PuT"
      },
      "source": [
        "We will start by getting the minimum variance portfolio and the tangency portfolio."
      ]
    },
    {
      "cell_type": "code",
      "execution_count": null,
      "metadata": {
        "id": "WzDlEguG4PuT"
      },
      "outputs": [],
      "source": [
        "sharpe_ratio"
      ]
    },
    {
      "cell_type": "code",
      "execution_count": null,
      "metadata": {
        "ExecuteTime": {
          "end_time": "2019-10-09T14:43:29.613770Z",
          "start_time": "2019-10-09T14:43:29.607267Z"
        },
        "id": "0iaT1nd04PuU"
      },
      "outputs": [],
      "source": [
        "max_sr = all_wts[sharpe_ratio.argmax()]\n",
        "print(max_sr)"
      ]
    },
    {
      "cell_type": "code",
      "execution_count": null,
      "metadata": {
        "id": "kyRP21Fw4PuU"
      },
      "outputs": [],
      "source": [
        "sharpe_ratio.argmax() ## position of the max sr in the vector"
      ]
    },
    {
      "cell_type": "code",
      "execution_count": null,
      "metadata": {
        "ExecuteTime": {
          "end_time": "2019-10-09T14:43:29.644981Z",
          "start_time": "2019-10-09T14:43:29.622432Z"
        },
        "id": "AOVgaOmA4PuU"
      },
      "outputs": [],
      "source": [
        "min_var = all_wts[port_risk.argmin()]\n",
        "print(min_var)"
      ]
    },
    {
      "cell_type": "markdown",
      "metadata": {
        "id": "Al9ItjJm4PuU"
      },
      "source": [
        "Let's see the max sharpe ratio and the minimum risk for these portfolios"
      ]
    },
    {
      "cell_type": "code",
      "execution_count": null,
      "metadata": {
        "ExecuteTime": {
          "end_time": "2019-10-09T14:43:29.716542Z",
          "start_time": "2019-10-09T14:43:29.685710Z"
        },
        "id": "Lp1jyGAq4PuV"
      },
      "outputs": [],
      "source": [
        "print(sharpe_ratio.max())\n",
        "print(sharpe_ratio.max() * np.sqrt(252))"
      ]
    },
    {
      "cell_type": "code",
      "execution_count": null,
      "metadata": {
        "ExecuteTime": {
          "end_time": "2019-10-09T14:43:30.639764Z",
          "start_time": "2019-10-09T14:43:30.628322Z"
        },
        "id": "yIRYmcpX4PuV"
      },
      "outputs": [],
      "source": [
        "print(port_risk.min())"
      ]
    },
    {
      "cell_type": "markdown",
      "metadata": {
        "id": "erfejL1B4PuV"
      },
      "source": [
        "Now lets visualize the weights of the portfolio. First we will visualize the minimum variance portfolio."
      ]
    },
    {
      "cell_type": "code",
      "execution_count": null,
      "metadata": {
        "id": "YrgBhbkL4PuV"
      },
      "outputs": [],
      "source": [
        "names = prices.columns\n",
        "names"
      ]
    },
    {
      "cell_type": "code",
      "execution_count": null,
      "metadata": {
        "ExecuteTime": {
          "end_time": "2019-10-09T14:43:32.012552Z",
          "start_time": "2019-10-09T14:43:31.718817Z"
        },
        "id": "_S78vdqZ4PuW"
      },
      "outputs": [],
      "source": [
        "min_var = pd.Series(min_var, index=names)\n",
        "min_var = min_var.sort_values()\n",
        "fig = plt.figure()\n",
        "ax1 = fig.add_axes([0.1,0.1,0.8,0.8])\n",
        "ax1.set_xlabel('Asset')\n",
        "ax1.set_ylabel(\"Weights\")\n",
        "ax1.set_title(\"Minimum Variance Portfolio weights\")\n",
        "min_var.plot(kind = 'bar')\n",
        "plt.show();"
      ]
    },
    {
      "cell_type": "markdown",
      "metadata": {
        "id": "dMnffI2N4PuW"
      },
      "source": [
        "Next we will visualize the max sharpe ratio portfolio (tangency portfolio)."
      ]
    },
    {
      "cell_type": "code",
      "execution_count": null,
      "metadata": {
        "ExecuteTime": {
          "end_time": "2019-10-09T14:43:33.502495Z",
          "start_time": "2019-10-09T14:43:33.232654Z"
        },
        "id": "86-kxc9Y4PuW"
      },
      "outputs": [],
      "source": [
        "max_sr = pd.Series(max_sr, index=names) # pd.series to create One-dimensional ndarray with axis labels\n",
        "max_sr = max_sr.sort_values()\n",
        "fig = plt.figure()\n",
        "ax1 = fig.add_axes([0.1,0.1,0.8,0.8])\n",
        "ax1.set_xlabel('Asset')\n",
        "ax1.set_ylabel(\"Weights\")\n",
        "ax1.set_title(\"Tangency Portfolio weights\")\n",
        "max_sr.plot(kind = 'bar')\n",
        "plt.show();"
      ]
    },
    {
      "cell_type": "markdown",
      "metadata": {
        "id": "VwgdLsDt4PuW"
      },
      "source": [
        "Finally we can plot all the 10000 portfolios."
      ]
    },
    {
      "cell_type": "code",
      "execution_count": null,
      "metadata": {
        "ExecuteTime": {
          "end_time": "2019-10-09T14:43:34.552478Z",
          "start_time": "2019-10-09T14:43:34.241191Z"
        },
        "id": "NtMjgs4G4PuX",
        "scrolled": true
      },
      "outputs": [],
      "source": [
        "fig = plt.figure()\n",
        "ax1 = fig.add_axes([0.1,0.1,0.8,0.8])\n",
        "ax1.set_xlabel('Risk')\n",
        "ax1.set_ylabel(\"Returns\")\n",
        "ax1.set_title(\"Portfolio optimization and Efficient Frontier\")\n",
        "plt.scatter(port_risk, port_returns, alpha=0.5, s=1) # Use `alpha` and `s` to control the opacitiy and size of the dots\n",
        "plt.show();"
      ]
    },
    {
      "cell_type": "markdown",
      "metadata": {
        "id": "n9EdoCKfAaCW"
      },
      "source": [
        "With matrix approach:"
      ]
    },
    {
      "cell_type": "markdown",
      "metadata": {
        "id": "IaQfDkFHrf9v"
      },
      "source": [
        "tangency portfolio: $x_T = \\frac{S^{-1}(\\mu-r_f)}{\\iota' S^{-1}(\\mu-r_f)}$"
      ]
    },
    {
      "cell_type": "code",
      "execution_count": null,
      "metadata": {
        "id": "Xx2X07EFAZME"
      },
      "outputs": [],
      "source": [
        "weigths = np.dot(np.linalg.inv(ret.cov()) , np.nanmean(ret.to_numpy(),axis=0)) # max sharpe ratio\n",
        "weigths/np.sum(weigths)"
      ]
    },
    {
      "cell_type": "markdown",
      "metadata": {
        "id": "xu-WgaRosQuJ"
      },
      "source": [
        "minimum variance portfolio: $x_{GMV} = \\frac{S^{-1}\\iota}{\\iota' S^{-1}\\iota}$\n",
        "\n"
      ]
    },
    {
      "cell_type": "code",
      "execution_count": null,
      "metadata": {
        "id": "jfAEDVZ5rDpr"
      },
      "outputs": [],
      "source": [
        "weigths = np.dot(np.linalg.inv(ret.cov()) , np.ones(5)) # min variance\n",
        "weigths/np.sum(weigths)"
      ]
    },
    {
      "cell_type": "markdown",
      "metadata": {
        "id": "TRI1chJpE1BY"
      },
      "source": [
        "# Portfolio Optimization - Part 2"
      ]
    },
    {
      "cell_type": "code",
      "execution_count": null,
      "metadata": {
        "id": "9tViU2fOE1Ba"
      },
      "outputs": [],
      "source": [
        "import pandas as pd\n",
        "import numpy as np\n",
        "import matplotlib.pyplot as plt\n",
        "from scipy.optimize import minimize"
      ]
    },
    {
      "cell_type": "markdown",
      "metadata": {
        "id": "OXTga452E1Bg"
      },
      "source": [
        "Let's now move on from random allocations to a mathematical optimization algorithm.\n",
        "All of the heavy lifting for this optimization will be done with SciPy, so we just have to do a few things to set up the optimization function. Let's start with a simple function that takes in weights and returns back an array consisting of returns, volatility, and the Sharpe Ratio. We define the function as **get_ret_vol_sr** and pass in weights.\n",
        "We make sure that weights are a Numpy array.\n",
        "We calculate return, volatility, and the Sharpe Ratio.\n",
        "The fuction returns an array of return, volatility, and the Sharpe Ratio."
      ]
    },
    {
      "cell_type": "code",
      "execution_count": null,
      "metadata": {
        "ExecuteTime": {
          "end_time": "2019-10-09T14:47:24.189556Z",
          "start_time": "2019-10-09T14:47:23.994505Z"
        },
        "id": "AqWRcBXYE1Bi"
      },
      "outputs": [],
      "source": [
        "def get_ret_vol_sr(weights):\n",
        "    weights = np.array(weights) # to check that weights is a numpy array\n",
        "    port_return = np.sum(ret.mean() * weights)\n",
        "    vol = np.sqrt(np.dot(weights.T,np.dot(ret.cov(),weights)))\n",
        "    sr = port_return/vol\n",
        "    return np.array([port_return,vol,sr])"
      ]
    },
    {
      "cell_type": "code",
      "execution_count": null,
      "metadata": {
        "ExecuteTime": {
          "end_time": "2019-10-09T14:47:24.189556Z",
          "start_time": "2019-10-09T14:47:23.994505Z"
        },
        "id": "sY0-jORNE1Bj"
      },
      "outputs": [],
      "source": [
        "# Helper functions\n",
        "#  takes in weights and returns the output with index 2 of our get_ret_vol_sr function (the Sharpe Ratio)\n",
        "def neg_sharpe(weights):\n",
        "    return get_ret_vol_sr(weights)[2] * (-1)\n",
        "# negative sharpe ratio (that we want to minimize and not maximize)\n",
        "def volatility(weights):\n",
        "    return get_ret_vol_sr(weights)[1]\n",
        "# var is the output number 1 (first has index = 0) of the function\n",
        "def check_sum(weights):\n",
        "    return np.sum(weights) - 1"
      ]
    },
    {
      "cell_type": "code",
      "execution_count": null,
      "metadata": {
        "ExecuteTime": {
          "end_time": "2019-10-09T14:47:24.189556Z",
          "start_time": "2019-10-09T14:47:23.994505Z"
        },
        "id": "ZBaZKsWjE1Bl"
      },
      "outputs": [],
      "source": [
        "cons = ({'type':'eq','fun':check_sum}) #  we're going to create a variable called cons, which is a tuple with a dictionary inside of it. eq means equality\n",
        "# create weight boundaries\n",
        "bounds = ((-1,1),(-1,1),(-1,1),(-1,1),(-1,1))\n",
        "# initial guess\n",
        "init_guess = [0.2, 0.2, 0.2, 0.2, 0.2]"
      ]
    },
    {
      "cell_type": "code",
      "execution_count": null,
      "metadata": {
        "ExecuteTime": {
          "end_time": "2019-10-09T14:47:24.189556Z",
          "start_time": "2019-10-09T14:47:23.994505Z"
        },
        "id": "TcT8RxO-E1Bl"
      },
      "outputs": [],
      "source": [
        "# Sequential Least Squares Programming (SLSQP)\n",
        "opt_results_maxsr = minimize(neg_sharpe, init_guess, method='SLSQP', bounds=bounds, constraints=cons)\n",
        "print(opt_results_maxsr)"
      ]
    },
    {
      "cell_type": "code",
      "execution_count": null,
      "metadata": {
        "ExecuteTime": {
          "end_time": "2019-10-09T14:47:25.158933Z",
          "start_time": "2019-10-09T14:47:24.915834Z"
        },
        "id": "SmCAHjBbE1Bm",
        "scrolled": true
      },
      "outputs": [],
      "source": [
        "opt_results_minvol = minimize(volatility, init_guess, method='SLSQP', bounds=bounds, constraints=cons)\n",
        "print(opt_results_minvol)"
      ]
    },
    {
      "cell_type": "markdown",
      "metadata": {
        "id": "9D2VoUpDE1Bn"
      },
      "source": [
        "# Factor Analysis"
      ]
    },
    {
      "cell_type": "markdown",
      "metadata": {
        "id": "Kr0t9EstE1Bn"
      },
      "source": [
        "## How to download Fama French 3 factors data"
      ]
    },
    {
      "cell_type": "markdown",
      "metadata": {
        "id": "oSlfY_heE1Bn"
      },
      "source": [
        "Once we have imported the modules, we are ready to download the files from the website. This is the website to download the zip file (https://mba.tuck.dartmouth.edu/pages/faculty/ken.french/ftp/F-F_Research_Data_Factors_CSV.zip). We can also se a python module: getFamaFrenchFactors."
      ]
    },
    {
      "cell_type": "code",
      "execution_count": null,
      "metadata": {
        "id": "9Hdjrb775eDy"
      },
      "outputs": [],
      "source": [
        "pip install getFamaFrenchFactors"
      ]
    },
    {
      "cell_type": "code",
      "execution_count": null,
      "metadata": {
        "id": "jz6M5pRC5h2f"
      },
      "outputs": [],
      "source": [
        "import getFamaFrenchFactors as gff\n",
        "\n",
        "# Get the Fama French 3 factor model - monthly data\n",
        "ff_factors = gff.famaFrench3Factor(frequency='m')"
      ]
    },
    {
      "cell_type": "code",
      "execution_count": null,
      "metadata": {
        "id": "MDIZlNAC5kl2"
      },
      "outputs": [],
      "source": [
        "ff_factors"
      ]
    },
    {
      "cell_type": "code",
      "execution_count": null,
      "metadata": {
        "id": "-3Mm5S33DSj6"
      },
      "outputs": [],
      "source": [
        "ff_factors = ff_factors.rename(columns={\"date_ff_factors\": \"Date\", \"Mkt-RF\": \"mkt_excess\"})"
      ]
    },
    {
      "cell_type": "code",
      "execution_count": null,
      "metadata": {
        "id": "4VQRKcU7Enx5"
      },
      "outputs": [],
      "source": [
        "ff_factors"
      ]
    },
    {
      "cell_type": "markdown",
      "metadata": {
        "id": "sWStvJgoE1Bu"
      },
      "source": [
        "We need to import another library"
      ]
    },
    {
      "cell_type": "code",
      "execution_count": null,
      "metadata": {
        "ExecuteTime": {
          "end_time": "2019-10-09T15:06:59.614199Z",
          "start_time": "2019-10-09T15:06:59.609092Z"
        },
        "id": "cBznAZDcE1Bu"
      },
      "outputs": [],
      "source": [
        "# Statsmodels to run our multiple regression model\n",
        "import statsmodels.api as smf"
      ]
    },
    {
      "cell_type": "markdown",
      "metadata": {
        "id": "p0G0VjzQE1B5"
      },
      "source": [
        "Compute returns of mutual fund"
      ]
    },
    {
      "cell_type": "code",
      "execution_count": null,
      "metadata": {
        "ExecuteTime": {
          "end_time": "2019-10-09T15:07:04.439632Z",
          "start_time": "2019-10-09T15:07:04.398224Z"
        },
        "id": "qCpayUFFE1B6"
      },
      "outputs": [],
      "source": [
        "def get_returns(ticker, st, en, frequency):\n",
        "    price = yf.download(ticker, st, en)\n",
        "    price = price['Adj Close'] # keep only the Adj Close Price variable\n",
        "    # Resample the data\n",
        "    price = price.resample(frequency).last()\n",
        "    # Calculate the percent change\n",
        "    ret_data = price.pct_change()[1:] # we keep from the second row onwards\n",
        "    # convert from series to DataFrame\n",
        "    ret_data = pd.DataFrame(ret_data)\n",
        "    ret_data = ret_data.rename(columns={\"Adj Close\": \"portfolio\"})\n",
        "    return ret_data"
      ]
    },
    {
      "cell_type": "code",
      "execution_count": null,
      "metadata": {
        "ExecuteTime": {
          "end_time": "2019-10-09T15:07:04.439632Z",
          "start_time": "2019-10-09T15:07:04.398224Z"
        },
        "id": "sT-_PhWdE1B6"
      },
      "outputs": [],
      "source": [
        "# iShares MSCI USA Value Factor ETF (VLUE)\n",
        "# Vanguard Small-Cap Index Fund (VB)\n",
        "ret_data = get_returns(\"VB\", \"2005-01-01\", \"2023-09-01\", \"M\").reset_index()\n",
        "ret_data"
      ]
    },
    {
      "cell_type": "markdown",
      "metadata": {
        "id": "i6rMhgFRE1B6"
      },
      "source": [
        "Merge the portfolio return data with Fama French data."
      ]
    },
    {
      "cell_type": "code",
      "execution_count": null,
      "metadata": {
        "ExecuteTime": {
          "end_time": "2019-10-09T15:07:43.684064Z",
          "start_time": "2019-10-09T15:07:43.662222Z"
        },
        "id": "K3HFiw3FE1B6"
      },
      "outputs": [],
      "source": [
        "# Merging the data (inner: use intersection of keys from both frames; preserve the order of the left keys.)\n",
        "all_data = pd.merge(ret_data,ff_factors, how = 'inner', on = 'Date')\n",
        "# Calculate the excess returns\n",
        "all_data['port_excess'] = all_data['portfolio'] - all_data['RF']\n",
        "print(all_data.tail())"
      ]
    },
    {
      "cell_type": "markdown",
      "metadata": {
        "id": "no-Q9lJYE1B7"
      },
      "source": [
        "Run the multiple regression model (HC3 is required for heteroscedasticity-consistent standard errors)"
      ]
    },
    {
      "cell_type": "code",
      "execution_count": null,
      "metadata": {
        "ExecuteTime": {
          "end_time": "2019-10-09T15:08:08.499733Z",
          "start_time": "2019-10-09T15:08:08.455617Z"
        },
        "id": "c_RK810QE1B7",
        "scrolled": true
      },
      "outputs": [],
      "source": [
        "model = smf.formula.ols(formula = \"port_excess ~ mkt_excess + SMB + HML\", data = all_data).fit(cov_type='HC3')\n",
        "print(model.summary())"
      ]
    },
    {
      "cell_type": "code",
      "execution_count": null,
      "metadata": {
        "id": "IcUllcsPE1B7"
      },
      "outputs": [],
      "source": [
        "# sharpe ratio of the sp500\n",
        "prices = yf.download( \"SPY\", start=\"1990-01-01\", end=\"2023-09-01\")\n",
        "ret = prices['Adj Close'].pct_change()\n",
        "sr = np.mean(ret) / (np.std(ret))\n",
        "print(sr * np.sqrt(252))"
      ]
    },
    {
      "cell_type": "code",
      "execution_count": null,
      "metadata": {
        "id": "S8pqX7nWxz-o"
      },
      "outputs": [],
      "source": []
    }
  ],
  "metadata": {
    "colab": {
      "provenance": [],
      "toc_visible": true
    },
    "kernelspec": {
      "display_name": "Python 3",
      "language": "python",
      "name": "python3"
    },
    "language_info": {
      "codemirror_mode": {
        "name": "ipython",
        "version": 3
      },
      "file_extension": ".py",
      "mimetype": "text/x-python",
      "name": "python",
      "nbconvert_exporter": "python",
      "pygments_lexer": "ipython3",
      "version": "3.8.5"
    },
    "varInspector": {
      "cols": {
        "lenName": 16,
        "lenType": 16,
        "lenVar": 40
      },
      "kernels_config": {
        "python": {
          "delete_cmd_postfix": "",
          "delete_cmd_prefix": "del ",
          "library": "var_list.py",
          "varRefreshCmd": "print(var_dic_list())"
        },
        "r": {
          "delete_cmd_postfix": ") ",
          "delete_cmd_prefix": "rm(",
          "library": "var_list.r",
          "varRefreshCmd": "cat(var_dic_list()) "
        }
      },
      "types_to_exclude": [
        "module",
        "function",
        "builtin_function_or_method",
        "instance",
        "_Feature"
      ],
      "window_display": false
    }
  },
  "nbformat": 4,
  "nbformat_minor": 0
}
